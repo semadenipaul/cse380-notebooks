{
  "nbformat": 4,
  "nbformat_minor": 0,
  "metadata": {
    "colab": {
      "name": "Copy of 09_2_Ponder_and_Prove_Data_Compression.ipynb",
      "provenance": [],
      "include_colab_link": true
    },
    "kernelspec": {
      "name": "python3",
      "display_name": "Python 3"
    }
  },
  "cells": [
    {
      "cell_type": "markdown",
      "metadata": {
        "id": "view-in-github",
        "colab_type": "text"
      },
      "source": [
        "<a href=\"https://colab.research.google.com/github/semadenipaul/cse380-notebooks/blob/master/09_2_Ponder_and_Prove_Data_Compression.ipynb\" target=\"_parent\"><img src=\"https://colab.research.google.com/assets/colab-badge.svg\" alt=\"Open In Colab\"/></a>"
      ]
    },
    {
      "cell_type": "markdown",
      "metadata": {
        "id": "1rG4k7VvQ2WT"
      },
      "source": [
        "# Ponder and Prove Data Compression\n",
        "#### Due: Saturday, 6 March 2021, 11:59 pm."
      ]
    },
    {
      "cell_type": "markdown",
      "metadata": {
        "id": "W0WxE3IAQ2WU"
      },
      "source": [
        "# TODO Explore Huffman Trees and Huffman Codes\n"
      ]
    },
    {
      "cell_type": "markdown",
      "metadata": {
        "id": "w2vby9erSjOv"
      },
      "source": [
        "Your task is examine how to compress a *special piece of information* as compactly as possible, and **calculate various compression ratios**.\n",
        "\n",
        "Recall that the **compression ratio** of a variable-length encoding like Huffman encoding is the percentage $100(f - v)/f$, where $f$ is the number of bits per symbol of the smallest **fixed**-length encoding, and $v$ is the average number of bits per symbol with the variable-length encoding.\n",
        "\n",
        "For example, if there were 9 different symbols in a message, $f=4$ is the number of bits of the smallest fixed-length encoding, because $2^3 = 8$ (not enough for $9$) and $2^4 = 16$ (enough and to spare). If the variable-length encoding of the message had $v=3.12$, the compression ratio would be $100(4 - 3.12)/4 \\approx 22\\%$.\n",
        "\n",
        "Note that calculating the average number of bits per symbol is not strictly necessary. That's because an alternate and equivalent way is to calculate $100(ft - vt)/ft$, where $ft$ is the **total** number of bits encoded with the fixed encoding, and $vt$ is the **total** number of bits encoded with the variable-length encoding.\n",
        "\n",
        "The *special piece of information* to be compressed is a list of the first ten million primes. This is a list that starts\n",
        "\n",
        "|    |\n",
        "|----|\n",
        "|  2 |\n",
        "|  3 |\n",
        "|  5 |\n",
        "|  7 |\n",
        "| 11 |\n",
        "| 13 |\n",
        "| 17 |\n",
        "| 19 |\n",
        "| 23 |\n",
        "| 29 |\n",
        "\n",
        "  and ends\n",
        "\n",
        "|           |\n",
        "|-----------|\n",
        "| 179424551 |\n",
        "| 179424571 |\n",
        "| 179424577 |\n",
        "| 179424601 |\n",
        "| 179424611 |\n",
        "| 179424617 |\n",
        "| 179424629 |\n",
        "| 179424667 |\n",
        "| 179424671 |\n",
        "| 179424673 |\n",
        "\n",
        "As ASCII text stored in a file with one prime per line, the size of this data file is slightly over 89 megabytes. The goal is to compress this down to just over 5 megabytes (5589056 bytes, to be exact). That's a 94% compression ratio!\n",
        "\n",
        "Standard compression tools can only get about a 73% compression ratio for this ASCII data. A more clever approach is needed. Instead of compressing the list of prime numbers, compress a list of the *gaps* between them!\n",
        "\n",
        "It doesn't save much, just the unique (occurring only once) gap size of 1 between 2 and 3, but in the spirit of de Polignac's conjecture that every *even* number appears infinitely often as a gap between consecutive primes, just consider the even-sized gaps. The result will be a list that starts with 2 (the difference between 5 and 3), 2 (the difference between 7 and 5), 4 (the difference between 11 and 7), 2 (the difference between 13 and 11), 4 (the difference between 17 and 13), 2 (the difference between 19 and 17), 4 (the difference between 23 and 19), and 6 (the difference between 29 and 23).\n",
        "\n",
        "Generating this data is the first task. The algorithm for doing so is very straightforward:\n",
        "\n",
        "1. Find the gaps between consecutive odd primes.\n",
        "2. Store these gaps as a list of even numbers.\n",
        "\n",
        "Tabulating the results, the first ten gaps and the last ten gaps are as follows, where the numbers after the equals signs are the gaps to list:\n",
        "\n",
        "|                 |\n",
        "|-----------------|\n",
        "|  5  -   3  =  2 |\n",
        "|  7  -   5  =  2 |\n",
        "| 11  -   7  =  4 |\n",
        "| 13  -  11  =  2 |\n",
        "| 17  -  13  =  4 |\n",
        "| 19  -  17  =  2 |\n",
        "| 23  -  19  =  4 |\n",
        "| 29  -  23  =  6 |\n",
        "| 31  -  29  =  2 |\n",
        "| 37  -  31  =  6 |\n",
        "\n",
        "|                                |\n",
        "|--------------------------------|\n",
        "| 179424551  -  179424533  =  18 |\n",
        "| 179424571  -  179424551  =  20 |\n",
        "| 179424577  -  179424571  =   6 |\n",
        "| 179424601  -  179424577  =  24 |\n",
        "| 179424611  -  179424601  =  10 |\n",
        "| 179424617  -  179424611  =   6 |\n",
        "| 179424629  -  179424617  =  12 |\n",
        "| 179424667  -  179424629  =  38 |\n",
        "| 179424671  -  179424667  =   4 |\n",
        "| 179424673  -  179424671  =   2 |\n",
        "\n",
        "As a correctness check, see if your generated list of gaps has length 9999998.\n",
        "\n",
        "The next step is to count how many times each gap size occurs, so that for the Huffman encoding scheme, the larger the frequency of occurrence, the smaller the number of bits encoding that gap size.\n",
        "\n",
        "As a correctness check, here are the first ten and the last ten gap counts:\n",
        "\n",
        "|  Gap | Count   |\n",
        "|------|---------|\n",
        "|    2 |  738597 |\n",
        "|    4 |  738717 |\n",
        "|    6 | 1297540 |\n",
        "|    8 |  566151 |\n",
        "|   10 |  729808 |\n",
        "|   12 |  920661 |\n",
        "|   14 |  503524 |\n",
        "|   16 |  371677 |\n",
        "|   18 |  667734 |\n",
        "|   20 |  354267 |\n",
        "|      |         |\n",
        "|  190 |       1 |\n",
        "|  192 |       3 |\n",
        "|  194 |       1 |\n",
        "|  196 |       1 |\n",
        "|  198 |       6 |\n",
        "|  202 |       2 |\n",
        "|  204 |       3 |\n",
        "|  210 |       4 |\n",
        "|  220 |       1 |\n",
        "|  222 |       1 |\n",
        "\n",
        "Note two things from these partial gap counts:\n",
        "\n",
        "1. Small even numbers (< 100) are well represented, larger ones (< 1000) less so.\n",
        "2. Ten million primes aren't enough to have *every* even number represented; for example, 200, 206, 208, 212, 214, 216, and 218 do not appear even once.\n"
      ]
    },
    {
      "cell_type": "markdown",
      "metadata": {
        "id": "7CUIw8_k03JJ"
      },
      "source": [
        "# TODO Determine Exact Size of Data to be Compressed\n"
      ]
    },
    {
      "cell_type": "markdown",
      "metadata": {
        "id": "wB4sXf0X09Gv"
      },
      "source": [
        "Without actually doing it, imagine creating an ASCII file containing the first ten million primes, represented in decimal, one prime per line. Calculate the size of this file, so you can show an exceptional compression ratio from it (see below).\n",
        "\n",
        "Using a binary encoding instead of ASCII, each prime requires 32 bits (4 bytes), so the size of a binary file is easily determined.\n",
        "\n",
        "Using a fixed-width encoding of the gap counts, however, requires knowing how many different gap sizes there are, after which the calculation is straightforward."
      ]
    },
    {
      "cell_type": "code",
      "metadata": {
        "colab": {
          "base_uri": "https://localhost:8080/"
        },
        "id": "P-10ypqBQJLT",
        "outputId": "f0e66de9-b845-4297-9399-79b1c8c119e7"
      },
      "source": [
        "!pip install pyprimesieve"
      ],
      "execution_count": null,
      "outputs": [
        {
          "output_type": "stream",
          "text": [
            "Collecting pyprimesieve\n",
            "  Downloading https://files.pythonhosted.org/packages/71/65/df0f953cfda5aa6dba56bcbeac5707f544bf0ad5b649a6a7807c5e09966e/pyprimesieve-0.1.6.tar.gz\n",
            "Building wheels for collected packages: pyprimesieve\n",
            "  Building wheel for pyprimesieve (setup.py) ... \u001b[?25l\u001b[?25hdone\n",
            "  Created wheel for pyprimesieve: filename=pyprimesieve-0.1.6-cp37-cp37m-linux_x86_64.whl size=368954 sha256=9b8d8057213dc2e34b4942011fe3eb8c3eedf9266aaacc1389dc675c66067bf9\n",
            "  Stored in directory: /root/.cache/pip/wheels/c4/63/2b/a485079de882a375d28a4dc141386c76ea9a6aaad505f2198b\n",
            "Successfully built pyprimesieve\n",
            "Installing collected packages: pyprimesieve\n",
            "Successfully installed pyprimesieve-0.1.6\n"
          ],
          "name": "stdout"
        }
      ]
    },
    {
      "cell_type": "code",
      "metadata": {
        "id": "lxFF7kEVQNMl"
      },
      "source": [
        "# Provided by Davis\n",
        "from pyprimesieve import primes, primes_nth\n",
        "def prime_gaps(range):\n",
        "  list_of_gaps = []\n",
        "  prev = 3\n",
        "  gap = 0\n",
        "  for prime in list(primes(4, primes_nth(range + 1))):\n",
        "    gap = prime - prev\n",
        "    prev = prime\n",
        "    list_of_gaps.append(gap)\n",
        "  return list_of_gaps"
      ],
      "execution_count": null,
      "outputs": []
    },
    {
      "cell_type": "code",
      "metadata": {
        "colab": {
          "base_uri": "https://localhost:8080/"
        },
        "id": "nfi9dmngQQeP",
        "outputId": "1c2fb860-2d4a-465b-c1d0-2526bcd8d477"
      },
      "source": [
        "gaps = prime_gaps(10000000)\n",
        "print(len(gaps))\n",
        "print(gaps[:10])\n",
        "print(gaps[-10:])"
      ],
      "execution_count": null,
      "outputs": [
        {
          "output_type": "stream",
          "text": [
            "9999998\n",
            "[2, 2, 4, 2, 4, 2, 4, 6, 2, 6]\n",
            "[18, 20, 6, 24, 10, 6, 12, 38, 4, 2]\n"
          ],
          "name": "stdout"
        }
      ]
    },
    {
      "cell_type": "markdown",
      "metadata": {
        "id": "9HZChUyC09tJ"
      },
      "source": [
        "# TODO Use Functional Python\n"
      ]
    },
    {
      "cell_type": "markdown",
      "metadata": {
        "id": "j7vG1XqY1CaV"
      },
      "source": [
        "You are encouraged to use the [anytree](https://pypi.org/project/anytree) Python library, which has a nice exporter by way of which you can graphically view trees. (You may recall using this in DM1, and thus know that **anytree** depends on [graphviz](https://graphviz.org), which you also used.)\n",
        "\n",
        "This library uses the object-oriented features of Python to create and visualize trees. You are encouraged to use the functional features of Python as much as possible, achieving your results not by using some existing third-party libraries for building Huffman Trees and Codes, but writing your own code as cleanly and elegantly as you can."
      ]
    },
    {
      "cell_type": "code",
      "metadata": {
        "id": "yaqQb-nIOPxH"
      },
      "source": [
        "def es_queue(l):\n",
        "  l.sort(key=lambda x: x[0])\n",
        "  if len(l) == 1:\n",
        "    return l[0]\n",
        "  else:\n",
        "    return es_queue([[l[0][0] + l[1][0], [l[0],l[1]]]] + l[2:])\n",
        "\n",
        "def get_tuples(l, path=''):\n",
        "  if type(l[1]) is list:\n",
        "    tuple_right = get_tuples(l[1][1], path+'1')\n",
        "    tuple_left = get_tuples(l[1][0], path+'0')\n",
        "    return tuple_left + tuple_right\n",
        "  else:\n",
        "    return [(l[1], path)]"
      ],
      "execution_count": null,
      "outputs": []
    },
    {
      "cell_type": "code",
      "metadata": {
        "colab": {
          "base_uri": "https://localhost:8080/"
        },
        "id": "jDirxqHDOVLs",
        "outputId": "748ec98e-d94a-45d4-9faa-3e1331a8043d"
      },
      "source": [
        "from collections import Counter\n",
        "gap_count = Counter(gaps)\n",
        "gap_count = [[v, k] for k,v in gap_count.items()]\n",
        "gap_count"
      ],
      "execution_count": null,
      "outputs": [
        {
          "output_type": "execute_result",
          "data": {
            "text/plain": [
              "[[738597, 2],\n",
              " [738717, 4],\n",
              " [1297540, 6],\n",
              " [566151, 8],\n",
              " [503524, 14],\n",
              " [729808, 10],\n",
              " [920661, 12],\n",
              " [667734, 18],\n",
              " [354267, 20],\n",
              " [307230, 22],\n",
              " [129043, 34],\n",
              " [453215, 24],\n",
              " [371677, 16],\n",
              " [211203, 26],\n",
              " [229177, 28],\n",
              " [398713, 30],\n",
              " [123123, 32],\n",
              " [206722, 36],\n",
              " [64866, 44],\n",
              " [159956, 42],\n",
              " [111546, 40],\n",
              " [38800, 52],\n",
              " [93693, 48],\n",
              " [94682, 38],\n",
              " [17255, 72],\n",
              " [52183, 50],\n",
              " [16763, 62],\n",
              " [64157, 54],\n",
              " [55305, 60],\n",
              " [27985, 58],\n",
              " [54931, 46],\n",
              " [32224, 56],\n",
              " [17374, 64],\n",
              " [12368, 68],\n",
              " [3411, 86],\n",
              " [30960, 66],\n",
              " [17475, 70],\n",
              " [13758, 78],\n",
              " [7253, 76],\n",
              " [4791, 82],\n",
              " [3544, 96],\n",
              " [711, 112],\n",
              " [1923, 100],\n",
              " [8540, 74],\n",
              " [7056, 90],\n",
              " [9818, 84],\n",
              " [1125, 114],\n",
              " [6760, 80],\n",
              " [3454, 88],\n",
              " [1831, 98],\n",
              " [2259, 92],\n",
              " [933, 106],\n",
              " [2058, 94],\n",
              " [433, 118],\n",
              " [301, 132],\n",
              " [1168, 104],\n",
              " [2374, 102],\n",
              " [941, 110],\n",
              " [533, 126],\n",
              " [948, 120],\n",
              " [67, 148],\n",
              " [1634, 108],\n",
              " [287, 122],\n",
              " [210, 138],\n",
              " [183, 128],\n",
              " [43, 154],\n",
              " [211, 130],\n",
              " [439, 116],\n",
              " [46, 146],\n",
              " [100, 136],\n",
              " [318, 124],\n",
              " [128, 134],\n",
              " [140, 140],\n",
              " [52, 152],\n",
              " [90, 142],\n",
              " [123, 144],\n",
              " [94, 150],\n",
              " [10, 180],\n",
              " [57, 156],\n",
              " [20, 164],\n",
              " [4, 210],\n",
              " [18, 170],\n",
              " [27, 160],\n",
              " [5, 182],\n",
              " [25, 168],\n",
              " [11, 176],\n",
              " [4, 172],\n",
              " [27, 162],\n",
              " [12, 178],\n",
              " [6, 198],\n",
              " [1, 220],\n",
              " [19, 158],\n",
              " [10, 174],\n",
              " [1, 196],\n",
              " [4, 184],\n",
              " [9, 166],\n",
              " [2, 202],\n",
              " [3, 204],\n",
              " [1, 222],\n",
              " [3, 192],\n",
              " [1, 188],\n",
              " [1, 190],\n",
              " [3, 186],\n",
              " [1, 194]]"
            ]
          },
          "metadata": {
            "tags": []
          },
          "execution_count": 7
        }
      ]
    },
    {
      "cell_type": "code",
      "metadata": {
        "colab": {
          "base_uri": "https://localhost:8080/"
        },
        "id": "yVC5CtnmQV3X",
        "outputId": "06d7bef5-ad0d-4408-e897-e58563c4fc1a"
      },
      "source": [
        "huff_tuples = get_tuples(es_queue(gap_count))\n",
        "huff_dict = {x[0]:x[1] for x in huff_tuples}\n",
        "huff_dict"
      ],
      "execution_count": null,
      "outputs": [
        {
          "output_type": "execute_result",
          "data": {
            "text/plain": [
              "{2: '1100',\n",
              " 4: '1101',\n",
              " 6: '100',\n",
              " 8: '0101',\n",
              " 10: '1011',\n",
              " 12: '000',\n",
              " 14: '0100',\n",
              " 16: '11100',\n",
              " 18: '0111',\n",
              " 20: '10101',\n",
              " 22: '01101',\n",
              " 24: '0010',\n",
              " 26: '111110',\n",
              " 28: '111111',\n",
              " 30: '11101',\n",
              " 32: '001110',\n",
              " 34: '011000',\n",
              " 36: '111101',\n",
              " 38: '1010011',\n",
              " 40: '001100',\n",
              " 42: '101000',\n",
              " 44: '0011111',\n",
              " 46: '11110010',\n",
              " 48: '1010010',\n",
              " 50: '11110001',\n",
              " 52: '01100111',\n",
              " 54: '0011110',\n",
              " 56: '01100100',\n",
              " 58: '00110101',\n",
              " 60: '11110011',\n",
              " 62: '011001010',\n",
              " 64: '011001100',\n",
              " 66: '00110110',\n",
              " 68: '1111000010',\n",
              " 70: '011001101',\n",
              " 72: '011001011',\n",
              " 74: '0011011111',\n",
              " 76: '0011011101',\n",
              " 78: '001101000',\n",
              " 80: '11110000111',\n",
              " 82: '11110000001',\n",
              " 84: '1111000001',\n",
              " 86: '00110100100',\n",
              " 88: '00110100101',\n",
              " 90: '0011010011',\n",
              " 92: '111100000000',\n",
              " 94: '001101111010',\n",
              " 96: '00110111000',\n",
              " 98: '001101110011',\n",
              " 100: '001101111001',\n",
              " 102: '111100000001',\n",
              " 104: '1111000011000',\n",
              " 106: '0011011100101',\n",
              " 108: '1111000011011',\n",
              " 110: '0011011110000',\n",
              " 112: '11110000110100',\n",
              " 114: '0011011110111',\n",
              " 116: '00110111001000',\n",
              " 118: '111100001101011',\n",
              " 120: '0011011110001',\n",
              " 122: '001101111011011',\n",
              " 124: '111100001100110',\n",
              " 126: '00110111101100',\n",
              " 128: '1111000011001110',\n",
              " 130: '001101110010010',\n",
              " 132: '111100001100100',\n",
              " 134: '0011011110110101',\n",
              " 136: '11110000110101001',\n",
              " 138: '1111000011010101',\n",
              " 140: '1111000011001010',\n",
              " 142: '11110000110011110',\n",
              " 144: '0011011100100111',\n",
              " 146: '111100001101010000',\n",
              " 148: '00110111101101001',\n",
              " 150: '11110000110011111',\n",
              " 152: '00110111001001100',\n",
              " 154: '111100001100101110',\n",
              " 156: '00110111101101000',\n",
              " 158: '1111000011001011010',\n",
              " 160: '1111000011010100011',\n",
              " 162: '001101110010011010',\n",
              " 164: '1111000011001011011',\n",
              " 166: '11110000110010110010',\n",
              " 168: '1111000011010100010',\n",
              " 170: '1111000011001011000',\n",
              " 172: '001101110010011011100',\n",
              " 174: '11110000110010111100',\n",
              " 176: '11110000110010111110',\n",
              " 178: '11110000110010111111',\n",
              " 180: '11110000110010110011',\n",
              " 182: '111100001100101111010',\n",
              " 184: '001101110010011011101',\n",
              " 186: '001101110010011011010',\n",
              " 188: '00110111001001101111011',\n",
              " 190: '00110111001001101111000',\n",
              " 192: '1111000011001011110111',\n",
              " 194: '00110111001001101111001',\n",
              " 196: '00110111001001101101101',\n",
              " 198: '00110111001001101100',\n",
              " 202: '0011011100100110110111',\n",
              " 204: '1111000011001011110110',\n",
              " 210: '001101110010011011111',\n",
              " 220: '00110111001001101101100',\n",
              " 222: '00110111001001101111010'}"
            ]
          },
          "metadata": {
            "tags": []
          },
          "execution_count": 8
        }
      ]
    },
    {
      "cell_type": "code",
      "metadata": {
        "colab": {
          "base_uri": "https://localhost:8080/"
        },
        "id": "adJwwp1lQbEB",
        "outputId": "270cc674-8353-4ce4-9449-f0abf01ca3e9"
      },
      "source": [
        "huffman_encoded = ''.join([huff_dict[x] for x in gaps])\n",
        "print(f'{len(huffman_encoded)} bits, {len(huffman_encoded) / 8} bytes')"
      ],
      "execution_count": null,
      "outputs": [
        {
          "output_type": "stream",
          "text": [
            "44712373 bits, 5589046.625 bytes\n"
          ],
          "name": "stdout"
        }
      ]
    },
    {
      "cell_type": "markdown",
      "metadata": {
        "id": "TUB4mD8u1DCa"
      },
      "source": [
        "# TODO Achieve Target Compression Ratios"
      ]
    },
    {
      "cell_type": "markdown",
      "metadata": {
        "id": "8Vw71EqJ18eE"
      },
      "source": [
        "Your solution should correctly compute the following three compression ratios:\n",
        "\n",
        "| Ratio       | Value              |\n",
        "|-------------|--------------------|\n",
        "| From fixed  | 36.125168653605158 |\n",
        "| From binary |              86.03 |\n",
        "| From ASCII  |              94.02 | \n"
      ]
    },
    {
      "cell_type": "markdown",
      "metadata": {
        "id": "81dbKwHenxnT"
      },
      "source": [
        "# TODO My Report on What I Did and What I Learned"
      ]
    },
    {
      "cell_type": "markdown",
      "metadata": {
        "id": "C8BeiIern33B"
      },
      "source": [
        "## Fun\n"
      ]
    },
    {
      "cell_type": "markdown",
      "metadata": {
        "id": "ElukRLoezyxd"
      },
      "source": [
        "I really enjoyed learning about Huffman Trees this week. It fascinates me how a tree can be made from the frequencies of elements in a set. It was especially challenging when my group and I made this Huffman Tree for this week's Ponder and Prove, yet the challenges brought with it an element of fun. It really was a lot of fun figuring out how to compress the the data using huffman trees."
      ]
    },
    {
      "cell_type": "markdown",
      "metadata": {
        "id": "OzOkZ3son-u9"
      },
      "source": [
        "## New"
      ]
    },
    {
      "cell_type": "markdown",
      "metadata": {
        "id": "3-nYIdEUz4x5"
      },
      "source": [
        "Something new I learned this week about Huffman Trees was that you can use them for data compression. I had never thought of that before. It is pretty amazing how the path of 1's and 0's in a Huffman tree can be used to condense 10,000,000 prime gap sizes."
      ]
    },
    {
      "cell_type": "markdown",
      "metadata": {
        "id": "mJHvoj6GokaZ"
      },
      "source": [
        "## Meaningful\n"
      ]
    },
    {
      "cell_type": "markdown",
      "metadata": {
        "id": "XOxh3XFTz-6N"
      },
      "source": [
        "Something meaningful I learned this week was the ability to compress data by making a Huffman tree out of it. It is meaningful to me because it provided further evidence to me that by using different algorithms a better outcome may be possible. There are several algorithms out there, finding the right one (or creating the right one) is the secret to having an efficent progam."
      ]
    },
    {
      "cell_type": "markdown",
      "metadata": {
        "id": "_RBE03fhpNUG"
      },
      "source": [
        "## Other"
      ]
    },
    {
      "cell_type": "markdown",
      "metadata": {
        "id": "d-sXEeq60C3W"
      },
      "source": [
        "# Collaborators:\n",
        "David Kerr, Matthew Reed, Brayden Whitlock, Paul Semadeni\n",
        "\n",
        "# Further research I conducted about Huffman Trees:\n",
        "\n",
        "https://medium.com/stantmob/data-compression-with-huffman-coding-ad7bcb07c5d5#:~:text=The%20algorithm%20is%20based%20on,message%20without%20losing%20any%20data.\n",
        "\n",
        "This website adds to the explanation of Huffman Trees that Brother Neff provides in his book. \n",
        "\n",
        "https://www.youtube.com/watch?v=umTbivyJoiI\n",
        "\n",
        "This Computerphile video teaches a lot about how Huffman Trees work."
      ]
    },
    {
      "cell_type": "markdown",
      "metadata": {
        "id": "Nrk-8EmgW4NP"
      },
      "source": [
        "# TODO What is True?\n",
        "Click on each warranted checkbox to toggle it to True (or back to False). \n",
        "\n",
        "NOTE: *This only works in Colab. If you run it in some other Jupyter notebook client/server environment you may have to change False to True (or vice versa) manually.*\n",
        "\n",
        "This self-assessment is subject to revision by a grader."
      ]
    },
    {
      "cell_type": "code",
      "metadata": {
        "id": "qGAjzgVRXR4M"
      },
      "source": [
        "#@markdown ## What is True about what I did?\n",
        "#@markdown ### I had fun.\n",
        "cb00 = True #@param {type:'boolean'}\n",
        "#@markdown ### I learned something new.\n",
        "cb01 = True #@param {type:'boolean'}\n",
        "#@markdown ### I achieved something meaningful, or something I can build upon at a later time.\n",
        "cb02 = True #@param {type:'boolean'}\n",
        "#@markdown ## What is True about my report?\n",
        "#@markdown ### I wrote a sufficient number of well-written sentences.\n",
        "cb03 = True #@param {type:'boolean'}\n",
        "#@markdown ### My report is free of mechanical infelicities.\n",
        "cb04 = True #@param {type:'boolean'}\n",
        "#@markdown ### I used Grammarly (or something better described in my report) to check for MIs.\n",
        "cb05 = True #@param {type:'boolean'}\n",
        "#@markdown ### I reported on any connections I found between these problems and something I already know. \n",
        "cb06 = True #@param {type:'boolean'}\n",
        "#@markdown ### I reported who were and what contribution each of my collaborators made.\n",
        "cb07 = True #@param {type:'boolean'}\n",
        "#@markdown ## What is True about my calculations?\n",
        "#@markdown ### I correctly calculated the number of times each gap size occurs. \n",
        "cb08 = True #@param {type:'boolean'}\n",
        "#@markdown ### I correctly calculated the number of bits per gap size with a fixed encoding.\n",
        "cb09 = True #@param {type:'boolean'}\n",
        "#@markdown ### I correctly calculated the total number of bits encoded with the Huffman encoding.\n",
        "cb10 = True #@param {type:'boolean'}\n",
        "#@markdown ### I correctly calculated the total number of bits encoded with the fixed encoding.\n",
        "cb11 = False #@param {type:'boolean'}\n",
        "#@markdown ### I correctly calculated the compression ratio from this fixed encoding.\n",
        "cb12 = False #@param {type:'boolean'}\n",
        "#@markdown ### I correctly calculated the size of the first ten million primes encoded as 32-bit integer binary data.\n",
        "cb13 = False #@param {type:'boolean'}\n",
        "#@markdown ### I correctly calculated the compression ratio from the binary size.\n",
        "cb14 = False #@param {type:'boolean'}\n",
        "#@markdown ### I correctly calculated the size of the first ten million primes encoded as ASCII data.\n",
        "cb15 = False #@param {type:'boolean'}\n",
        "#@markdown ### I correctly calculated the compression ratio from the ASCII size (just the primes, nothing else).\n",
        "cb16 = False #@param {type:'boolean'}"
      ],
      "execution_count": 2,
      "outputs": []
    },
    {
      "cell_type": "markdown",
      "metadata": {
        "id": "M3HPbjI4tGxr"
      },
      "source": [
        "### TA Comments"
      ]
    },
    {
      "cell_type": "markdown",
      "metadata": {
        "id": "YclEvW5PtI01"
      },
      "source": [
        "Great job! You did very well, but it looks like you missed a few of the requirements. Please make sure that you have completed the items in the \"What Is True?\" section before checking the boxes."
      ]
    }
  ]
}