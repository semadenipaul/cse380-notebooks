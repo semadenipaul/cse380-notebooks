{
  "nbformat": 4,
  "nbformat_minor": 0,
  "metadata": {
    "colab": {
      "name": "Copy of 09_3_About_Huffman_Tree_Growing.ipynb",
      "provenance": [],
      "include_colab_link": true
    },
    "kernelspec": {
      "name": "python3",
      "display_name": "Python 3"
    }
  },
  "cells": [
    {
      "cell_type": "markdown",
      "metadata": {
        "id": "view-in-github",
        "colab_type": "text"
      },
      "source": [
        "<a href=\"https://colab.research.google.com/github/semadenipaul/cse380-notebooks/blob/master/09_3_About_Huffman_Tree_Growing.ipynb\" target=\"_parent\"><img src=\"https://colab.research.google.com/assets/colab-badge.svg\" alt=\"Open In Colab\"/></a>"
      ]
    },
    {
      "cell_type": "markdown",
      "metadata": {
        "id": "BjNb99LGmm11"
      },
      "source": [
        "# About Huffman Tree Growing\n",
        "## Class Directed Learning\n",
        "### Due: Tuesday, 2 March 2021, 11:59 pm"
      ]
    },
    {
      "cell_type": "markdown",
      "metadata": {
        "id": "VED3Iwgbo4jJ"
      },
      "source": [
        "## Answer to DPC"
      ]
    },
    {
      "cell_type": "markdown",
      "metadata": {
        "id": "M4k33027o7Fl"
      },
      "source": [
        "This dictionary maps n:cr for the first n odd primes gap lists' cr (compression ratios):\n"
      ]
    },
    {
      "cell_type": "code",
      "metadata": {
        "id": "gagrJ3vrpCa6"
      },
      "source": [
        "ncr = {2: 0, 3: 0, 4: 0, 5: 0, 6: 0, 7: 25, 8: 28, 9: 25, 10: 23, 11: 25, 12: 23, 13: 21, 14: 20, 15: 22, 16: 21, 17: 19, 18: 21, 19: 20, 20: 19, 21: 18, 22: 0, 23: 0, 24: 2, 25: 2, 26: 4, 27: 4, 28: 32, 29: 33, 30: 32, 31: 32}\n",
        "for n in ncr.keys():\n",
        "  print(f\"For the first {n} odd primes' gap list, the compression ratio is {ncr[n]}%.\")"
      ],
      "execution_count": null,
      "outputs": []
    },
    {
      "cell_type": "markdown",
      "metadata": {
        "id": "A06Y_UzotDok"
      },
      "source": [
        "### Calculated how??"
      ]
    },
    {
      "cell_type": "code",
      "metadata": {
        "id": "4T4a5Pq1tF_S",
        "colab": {
          "base_uri": "https://localhost:8080/"
        },
        "outputId": "f6cce5eb-6cdf-448c-cb4f-842563bd9e6e"
      },
      "source": [
        "!pip install anytree\n",
        "from anytree import Node, RenderTree, PreOrderIter, Walker\n",
        "from anytree.util import leftsibling, rightsibling\n",
        "from anytree.exporter.dotexporter import DotExporter\n",
        "from collections import Counter\n",
        "from queue import PriorityQueue\n",
        "from math import ceil, floor, log\n",
        "from sympy import primerange\n",
        "\n",
        "def realprimes_up_to(n):\n",
        "  return list(primerange(4, n))\n",
        "\n",
        "def get_list_of_gaps(pl):\n",
        "  gaps_list = list(map(lambda i: pl[i] - pl[i - 1], range(1, len(pl))))\n",
        "  gaps_list = [2] + gaps_list # [2] for the gap between 3 and 5\n",
        "  return gaps_list\n",
        "\n",
        "class GapNode(Node):\n",
        "  def __lt__(self, other):\n",
        "    return self.count < other.count\n",
        "\n",
        "node_counter = 0\n",
        "def next_node_name():\n",
        "  global node_counter\n",
        "  name = 'gn' + str(node_counter)\n",
        "  node_counter += 1\n",
        "  return name\n",
        "\n",
        "def new_node(gp, ct):\n",
        "  return GapNode(next_node_name(), gap = gp, count = ct)\n",
        "\n",
        "def new_internal_node(left, right):\n",
        "  return GapNode(next_node_name(), children = [left, right],\n",
        "                 gap = 0, count = left.count + right.count)\n",
        "\n",
        "def make_huffman_tree(gaps_list):\n",
        "  gap_dict = Counter(gaps_list)\n",
        "  q = PriorityQueue()\n",
        "  for key, val in gap_dict.items():\n",
        "    q.put(new_node(key, val))\n",
        "\n",
        "  while q.qsize() > 1:\n",
        "    left = q.get()\n",
        "    right = q.get()\n",
        "    q.put(new_internal_node(left, right))\n",
        "\n",
        "  return q.get()\n",
        "\n",
        "def get_codes(root):\n",
        "  leaves = [node for node in PreOrderIter(root, filter_=lambda n: not n.children)]\n",
        "  codes = {}\n",
        "  w = Walker()\n",
        "  for leaf in leaves:\n",
        "    path = w.walk(leaf, root)[0]\n",
        "    code = ''\n",
        "    for node in path:\n",
        "      code = ('1' if leftsibling(node) else '0') + code\n",
        "    codes[leaf.gap] = tuple([code, leaf.count])\n",
        "  return codes\n",
        "\n",
        "def compression_ratio(f, v):\n",
        "  return 100 * (f - v) / f\n",
        "\n",
        "def get_encoded_size(codes):\n",
        "  return sum([len(code) * count for gap, (code, count) in codes.items()])\n",
        "\n",
        "def get_fixed_size(codes):\n",
        "  num_keys = len(codes)\n",
        "  num_bits_per_key = ceil(log(num_keys, 2))\n",
        "  return sum([num_bits_per_key * count for gap, (code, count) in codes.items()])\n",
        "\n",
        "def report(codes):\n",
        "  return compression_ratio(get_fixed_size(codes), get_encoded_size(codes))\n",
        "\n",
        "def test_up_to(primes, upper, results):\n",
        "  list_of_gaps = get_list_of_gaps(primes[:upper])\n",
        "  print(primes[:upper])\n",
        "  print(list_of_gaps)\n",
        "  root = make_huffman_tree(list_of_gaps)\n",
        "  print(RenderTree(root))\n",
        "  DotExporter(root).to_picture(f'gap-tree-{upper:02d}.png')\n",
        "  codes = get_codes(root)\n",
        "  print(upper, '-->', get_encoded_size(codes))\n",
        "  cr = round(report(codes))\n",
        "  results[upper - 1] = cr # adjust since upper is the number of primes, -1 to make it just odd primes\n",
        "\n",
        "primes = realprimes_up_to(10001)\n",
        "results = {}\n",
        "for n in range(3, 33):\n",
        "    test_up_to(primes, n, results)\n",
        "\n",
        "results"
      ],
      "execution_count": null,
      "outputs": [
        {
          "output_type": "stream",
          "text": [
            "Collecting anytree\n",
            "\u001b[?25l  Downloading https://files.pythonhosted.org/packages/a8/65/be23d8c3ecd68d40541d49812cd94ed0f3ee37eb88669ca15df0e43daed1/anytree-2.8.0-py2.py3-none-any.whl (41kB)\n",
            "\r\u001b[K     |███████▉                        | 10kB 13.3MB/s eta 0:00:01\r\u001b[K     |███████████████▊                | 20kB 19.8MB/s eta 0:00:01\r\u001b[K     |███████████████████████▋        | 30kB 16.6MB/s eta 0:00:01\r\u001b[K     |███████████████████████████████▍| 40kB 17.3MB/s eta 0:00:01\r\u001b[K     |████████████████████████████████| 51kB 3.8MB/s \n",
            "\u001b[?25hRequirement already satisfied: six>=1.9.0 in /usr/local/lib/python3.7/dist-packages (from anytree) (1.15.0)\n",
            "Installing collected packages: anytree\n",
            "Successfully installed anytree-2.8.0\n",
            "[5, 7, 11]\n",
            "[2, 2, 4]\n",
            "GapNode('/gn2', count=3, gap=0)\n",
            "├── GapNode('/gn2/gn1', count=1, gap=4)\n",
            "└── GapNode('/gn2/gn0', count=2, gap=2)\n",
            "3 --> 3\n",
            "[5, 7, 11, 13]\n",
            "[2, 2, 4, 2]\n",
            "GapNode('/gn5', count=4, gap=0)\n",
            "├── GapNode('/gn5/gn4', count=1, gap=4)\n",
            "└── GapNode('/gn5/gn3', count=3, gap=2)\n",
            "4 --> 4\n",
            "[5, 7, 11, 13, 17]\n",
            "[2, 2, 4, 2, 4]\n",
            "GapNode('/gn8', count=5, gap=0)\n",
            "├── GapNode('/gn8/gn7', count=2, gap=4)\n",
            "└── GapNode('/gn8/gn6', count=3, gap=2)\n",
            "5 --> 5\n",
            "[5, 7, 11, 13, 17, 19]\n",
            "[2, 2, 4, 2, 4, 2]\n",
            "GapNode('/gn11', count=6, gap=0)\n",
            "├── GapNode('/gn11/gn10', count=2, gap=4)\n",
            "└── GapNode('/gn11/gn9', count=4, gap=2)\n",
            "6 --> 6\n",
            "[5, 7, 11, 13, 17, 19, 23]\n",
            "[2, 2, 4, 2, 4, 2, 4]\n",
            "GapNode('/gn14', count=7, gap=0)\n",
            "├── GapNode('/gn14/gn13', count=3, gap=4)\n",
            "└── GapNode('/gn14/gn12', count=4, gap=2)\n",
            "7 --> 7\n",
            "[5, 7, 11, 13, 17, 19, 23, 29]\n",
            "[2, 2, 4, 2, 4, 2, 4, 6]\n",
            "GapNode('/gn19', count=8, gap=0)\n",
            "├── GapNode('/gn19/gn15', count=4, gap=2)\n",
            "└── GapNode('/gn19/gn18', count=4, gap=0)\n",
            "    ├── GapNode('/gn19/gn18/gn17', count=1, gap=6)\n",
            "    └── GapNode('/gn19/gn18/gn16', count=3, gap=4)\n",
            "8 --> 12\n",
            "[5, 7, 11, 13, 17, 19, 23, 29, 31]\n",
            "[2, 2, 4, 2, 4, 2, 4, 6, 2]\n",
            "GapNode('/gn24', count=9, gap=0)\n",
            "├── GapNode('/gn24/gn23', count=4, gap=0)\n",
            "│   ├── GapNode('/gn24/gn23/gn22', count=1, gap=6)\n",
            "│   └── GapNode('/gn24/gn23/gn21', count=3, gap=4)\n",
            "└── GapNode('/gn24/gn20', count=5, gap=2)\n",
            "9 --> 13\n",
            "[5, 7, 11, 13, 17, 19, 23, 29, 31, 37]\n",
            "[2, 2, 4, 2, 4, 2, 4, 6, 2, 6]\n",
            "GapNode('/gn29', count=10, gap=0)\n",
            "├── GapNode('/gn29/gn25', count=5, gap=2)\n",
            "└── GapNode('/gn29/gn28', count=5, gap=0)\n",
            "    ├── GapNode('/gn29/gn28/gn27', count=2, gap=6)\n",
            "    └── GapNode('/gn29/gn28/gn26', count=3, gap=4)\n",
            "10 --> 15\n",
            "[5, 7, 11, 13, 17, 19, 23, 29, 31, 37, 41]\n",
            "[2, 2, 4, 2, 4, 2, 4, 6, 2, 6, 4]\n",
            "GapNode('/gn34', count=11, gap=0)\n",
            "├── GapNode('/gn34/gn30', count=5, gap=2)\n",
            "└── GapNode('/gn34/gn33', count=6, gap=0)\n",
            "    ├── GapNode('/gn34/gn33/gn32', count=2, gap=6)\n",
            "    └── GapNode('/gn34/gn33/gn31', count=4, gap=4)\n",
            "11 --> 17\n",
            "[5, 7, 11, 13, 17, 19, 23, 29, 31, 37, 41, 43]\n",
            "[2, 2, 4, 2, 4, 2, 4, 6, 2, 6, 4, 2]\n",
            "GapNode('/gn39', count=12, gap=0)\n",
            "├── GapNode('/gn39/gn35', count=6, gap=2)\n",
            "└── GapNode('/gn39/gn38', count=6, gap=0)\n",
            "    ├── GapNode('/gn39/gn38/gn37', count=2, gap=6)\n",
            "    └── GapNode('/gn39/gn38/gn36', count=4, gap=4)\n",
            "12 --> 18\n",
            "[5, 7, 11, 13, 17, 19, 23, 29, 31, 37, 41, 43, 47]\n",
            "[2, 2, 4, 2, 4, 2, 4, 6, 2, 6, 4, 2, 4]\n",
            "GapNode('/gn44', count=13, gap=0)\n",
            "├── GapNode('/gn44/gn40', count=6, gap=2)\n",
            "└── GapNode('/gn44/gn43', count=7, gap=0)\n",
            "    ├── GapNode('/gn44/gn43/gn42', count=2, gap=6)\n",
            "    └── GapNode('/gn44/gn43/gn41', count=5, gap=4)\n",
            "13 --> 20\n",
            "[5, 7, 11, 13, 17, 19, 23, 29, 31, 37, 41, 43, 47, 53]\n",
            "[2, 2, 4, 2, 4, 2, 4, 6, 2, 6, 4, 2, 4, 6]\n",
            "GapNode('/gn49', count=14, gap=0)\n",
            "├── GapNode('/gn49/gn45', count=6, gap=2)\n",
            "└── GapNode('/gn49/gn48', count=8, gap=0)\n",
            "    ├── GapNode('/gn49/gn48/gn47', count=3, gap=6)\n",
            "    └── GapNode('/gn49/gn48/gn46', count=5, gap=4)\n",
            "14 --> 22\n",
            "[5, 7, 11, 13, 17, 19, 23, 29, 31, 37, 41, 43, 47, 53, 59]\n",
            "[2, 2, 4, 2, 4, 2, 4, 6, 2, 6, 4, 2, 4, 6, 6]\n",
            "GapNode('/gn54', count=15, gap=0)\n",
            "├── GapNode('/gn54/gn50', count=6, gap=2)\n",
            "└── GapNode('/gn54/gn53', count=9, gap=0)\n",
            "    ├── GapNode('/gn54/gn53/gn52', count=4, gap=6)\n",
            "    └── GapNode('/gn54/gn53/gn51', count=5, gap=4)\n",
            "15 --> 24\n",
            "[5, 7, 11, 13, 17, 19, 23, 29, 31, 37, 41, 43, 47, 53, 59, 61]\n",
            "[2, 2, 4, 2, 4, 2, 4, 6, 2, 6, 4, 2, 4, 6, 6, 2]\n",
            "GapNode('/gn59', count=16, gap=0)\n",
            "├── GapNode('/gn59/gn55', count=7, gap=2)\n",
            "└── GapNode('/gn59/gn58', count=9, gap=0)\n",
            "    ├── GapNode('/gn59/gn58/gn57', count=4, gap=6)\n",
            "    └── GapNode('/gn59/gn58/gn56', count=5, gap=4)\n",
            "16 --> 25\n",
            "[5, 7, 11, 13, 17, 19, 23, 29, 31, 37, 41, 43, 47, 53, 59, 61, 67]\n",
            "[2, 2, 4, 2, 4, 2, 4, 6, 2, 6, 4, 2, 4, 6, 6, 2, 6]\n",
            "GapNode('/gn64', count=17, gap=0)\n",
            "├── GapNode('/gn64/gn60', count=7, gap=2)\n",
            "└── GapNode('/gn64/gn63', count=10, gap=0)\n",
            "    ├── GapNode('/gn64/gn63/gn61', count=5, gap=4)\n",
            "    └── GapNode('/gn64/gn63/gn62', count=5, gap=6)\n",
            "17 --> 27\n",
            "[5, 7, 11, 13, 17, 19, 23, 29, 31, 37, 41, 43, 47, 53, 59, 61, 67, 71]\n",
            "[2, 2, 4, 2, 4, 2, 4, 6, 2, 6, 4, 2, 4, 6, 6, 2, 6, 4]\n",
            "GapNode('/gn69', count=18, gap=0)\n",
            "├── GapNode('/gn69/gn65', count=7, gap=2)\n",
            "└── GapNode('/gn69/gn68', count=11, gap=0)\n",
            "    ├── GapNode('/gn69/gn68/gn67', count=5, gap=6)\n",
            "    └── GapNode('/gn69/gn68/gn66', count=6, gap=4)\n",
            "18 --> 29\n",
            "[5, 7, 11, 13, 17, 19, 23, 29, 31, 37, 41, 43, 47, 53, 59, 61, 67, 71, 73]\n",
            "[2, 2, 4, 2, 4, 2, 4, 6, 2, 6, 4, 2, 4, 6, 6, 2, 6, 4, 2]\n",
            "GapNode('/gn74', count=19, gap=0)\n",
            "├── GapNode('/gn74/gn70', count=8, gap=2)\n",
            "└── GapNode('/gn74/gn73', count=11, gap=0)\n",
            "    ├── GapNode('/gn74/gn73/gn72', count=5, gap=6)\n",
            "    └── GapNode('/gn74/gn73/gn71', count=6, gap=4)\n",
            "19 --> 30\n",
            "[5, 7, 11, 13, 17, 19, 23, 29, 31, 37, 41, 43, 47, 53, 59, 61, 67, 71, 73, 79]\n",
            "[2, 2, 4, 2, 4, 2, 4, 6, 2, 6, 4, 2, 4, 6, 6, 2, 6, 4, 2, 6]\n",
            "GapNode('/gn79', count=20, gap=0)\n",
            "├── GapNode('/gn79/gn75', count=8, gap=2)\n",
            "└── GapNode('/gn79/gn78', count=12, gap=0)\n",
            "    ├── GapNode('/gn79/gn78/gn76', count=6, gap=4)\n",
            "    └── GapNode('/gn79/gn78/gn77', count=6, gap=6)\n",
            "20 --> 32\n",
            "[5, 7, 11, 13, 17, 19, 23, 29, 31, 37, 41, 43, 47, 53, 59, 61, 67, 71, 73, 79, 83]\n",
            "[2, 2, 4, 2, 4, 2, 4, 6, 2, 6, 4, 2, 4, 6, 6, 2, 6, 4, 2, 6, 4]\n",
            "GapNode('/gn84', count=21, gap=0)\n",
            "├── GapNode('/gn84/gn80', count=8, gap=2)\n",
            "└── GapNode('/gn84/gn83', count=13, gap=0)\n",
            "    ├── GapNode('/gn84/gn83/gn82', count=6, gap=6)\n",
            "    └── GapNode('/gn84/gn83/gn81', count=7, gap=4)\n",
            "21 --> 34\n",
            "[5, 7, 11, 13, 17, 19, 23, 29, 31, 37, 41, 43, 47, 53, 59, 61, 67, 71, 73, 79, 83, 89]\n",
            "[2, 2, 4, 2, 4, 2, 4, 6, 2, 6, 4, 2, 4, 6, 6, 2, 6, 4, 2, 6, 4, 6]\n",
            "GapNode('/gn89', count=22, gap=0)\n",
            "├── GapNode('/gn89/gn85', count=8, gap=2)\n",
            "└── GapNode('/gn89/gn88', count=14, gap=0)\n",
            "    ├── GapNode('/gn89/gn88/gn86', count=7, gap=4)\n",
            "    └── GapNode('/gn89/gn88/gn87', count=7, gap=6)\n",
            "22 --> 36\n",
            "[5, 7, 11, 13, 17, 19, 23, 29, 31, 37, 41, 43, 47, 53, 59, 61, 67, 71, 73, 79, 83, 89, 97]\n",
            "[2, 2, 4, 2, 4, 2, 4, 6, 2, 6, 4, 2, 4, 6, 6, 2, 6, 4, 2, 6, 4, 6, 8]\n",
            "GapNode('/gn96', count=23, gap=0)\n",
            "├── GapNode('/gn96/gn94', count=8, gap=0)\n",
            "│   ├── GapNode('/gn96/gn94/gn93', count=1, gap=8)\n",
            "│   └── GapNode('/gn96/gn94/gn92', count=7, gap=6)\n",
            "└── GapNode('/gn96/gn95', count=15, gap=0)\n",
            "    ├── GapNode('/gn96/gn95/gn91', count=7, gap=4)\n",
            "    └── GapNode('/gn96/gn95/gn90', count=8, gap=2)\n",
            "23 --> 46\n",
            "[5, 7, 11, 13, 17, 19, 23, 29, 31, 37, 41, 43, 47, 53, 59, 61, 67, 71, 73, 79, 83, 89, 97, 101]\n",
            "[2, 2, 4, 2, 4, 2, 4, 6, 2, 6, 4, 2, 4, 6, 6, 2, 6, 4, 2, 6, 4, 6, 8, 4]\n",
            "GapNode('/gn103', count=24, gap=0)\n",
            "├── GapNode('/gn103/gn101', count=8, gap=0)\n",
            "│   ├── GapNode('/gn103/gn101/gn100', count=1, gap=8)\n",
            "│   └── GapNode('/gn103/gn101/gn99', count=7, gap=6)\n",
            "└── GapNode('/gn103/gn102', count=16, gap=0)\n",
            "    ├── GapNode('/gn103/gn102/gn98', count=8, gap=4)\n",
            "    └── GapNode('/gn103/gn102/gn97', count=8, gap=2)\n",
            "24 --> 48\n",
            "[5, 7, 11, 13, 17, 19, 23, 29, 31, 37, 41, 43, 47, 53, 59, 61, 67, 71, 73, 79, 83, 89, 97, 101, 103]\n",
            "[2, 2, 4, 2, 4, 2, 4, 6, 2, 6, 4, 2, 4, 6, 6, 2, 6, 4, 2, 6, 4, 6, 8, 4, 2]\n",
            "GapNode('/gn110', count=25, gap=0)\n",
            "├── GapNode('/gn110/gn104', count=9, gap=2)\n",
            "└── GapNode('/gn110/gn109', count=16, gap=0)\n",
            "    ├── GapNode('/gn110/gn109/gn105', count=8, gap=4)\n",
            "    └── GapNode('/gn110/gn109/gn108', count=8, gap=0)\n",
            "        ├── GapNode('/gn110/gn109/gn108/gn107', count=1, gap=8)\n",
            "        └── GapNode('/gn110/gn109/gn108/gn106', count=7, gap=6)\n",
            "25 --> 49\n",
            "[5, 7, 11, 13, 17, 19, 23, 29, 31, 37, 41, 43, 47, 53, 59, 61, 67, 71, 73, 79, 83, 89, 97, 101, 103, 107]\n",
            "[2, 2, 4, 2, 4, 2, 4, 6, 2, 6, 4, 2, 4, 6, 6, 2, 6, 4, 2, 6, 4, 6, 8, 4, 2, 4]\n",
            "GapNode('/gn117', count=26, gap=0)\n",
            "├── GapNode('/gn117/gn112', count=9, gap=4)\n",
            "└── GapNode('/gn117/gn116', count=17, gap=0)\n",
            "    ├── GapNode('/gn117/gn116/gn115', count=8, gap=0)\n",
            "    │   ├── GapNode('/gn117/gn116/gn115/gn114', count=1, gap=8)\n",
            "    │   └── GapNode('/gn117/gn116/gn115/gn113', count=7, gap=6)\n",
            "    └── GapNode('/gn117/gn116/gn111', count=9, gap=2)\n",
            "26 --> 51\n",
            "[5, 7, 11, 13, 17, 19, 23, 29, 31, 37, 41, 43, 47, 53, 59, 61, 67, 71, 73, 79, 83, 89, 97, 101, 103, 107, 109]\n",
            "[2, 2, 4, 2, 4, 2, 4, 6, 2, 6, 4, 2, 4, 6, 6, 2, 6, 4, 2, 6, 4, 6, 8, 4, 2, 4, 2]\n",
            "GapNode('/gn124', count=27, gap=0)\n",
            "├── GapNode('/gn124/gn118', count=10, gap=2)\n",
            "└── GapNode('/gn124/gn123', count=17, gap=0)\n",
            "    ├── GapNode('/gn124/gn123/gn122', count=8, gap=0)\n",
            "    │   ├── GapNode('/gn124/gn123/gn122/gn121', count=1, gap=8)\n",
            "    │   └── GapNode('/gn124/gn123/gn122/gn120', count=7, gap=6)\n",
            "    └── GapNode('/gn124/gn123/gn119', count=9, gap=4)\n",
            "27 --> 52\n",
            "[5, 7, 11, 13, 17, 19, 23, 29, 31, 37, 41, 43, 47, 53, 59, 61, 67, 71, 73, 79, 83, 89, 97, 101, 103, 107, 109, 113]\n",
            "[2, 2, 4, 2, 4, 2, 4, 6, 2, 6, 4, 2, 4, 6, 6, 2, 6, 4, 2, 6, 4, 6, 8, 4, 2, 4, 2, 4]\n",
            "GapNode('/gn131', count=28, gap=0)\n",
            "├── GapNode('/gn131/gn126', count=10, gap=4)\n",
            "└── GapNode('/gn131/gn130', count=18, gap=0)\n",
            "    ├── GapNode('/gn131/gn130/gn129', count=8, gap=0)\n",
            "    │   ├── GapNode('/gn131/gn130/gn129/gn128', count=1, gap=8)\n",
            "    │   └── GapNode('/gn131/gn130/gn129/gn127', count=7, gap=6)\n",
            "    └── GapNode('/gn131/gn130/gn125', count=10, gap=2)\n",
            "28 --> 54\n",
            "[5, 7, 11, 13, 17, 19, 23, 29, 31, 37, 41, 43, 47, 53, 59, 61, 67, 71, 73, 79, 83, 89, 97, 101, 103, 107, 109, 113, 127]\n",
            "[2, 2, 4, 2, 4, 2, 4, 6, 2, 6, 4, 2, 4, 6, 6, 2, 6, 4, 2, 6, 4, 6, 8, 4, 2, 4, 2, 4, 14]\n",
            "GapNode('/gn140', count=29, gap=0)\n",
            "├── GapNode('/gn140/gn133', count=10, gap=4)\n",
            "└── GapNode('/gn140/gn139', count=19, gap=0)\n",
            "    ├── GapNode('/gn140/gn139/gn138', count=9, gap=0)\n",
            "    │   ├── GapNode('/gn140/gn139/gn138/gn137', count=2, gap=0)\n",
            "    │   │   ├── GapNode('/gn140/gn139/gn138/gn137/gn135', count=1, gap=8)\n",
            "    │   │   └── GapNode('/gn140/gn139/gn138/gn137/gn136', count=1, gap=14)\n",
            "    │   └── GapNode('/gn140/gn139/gn138/gn134', count=7, gap=6)\n",
            "    └── GapNode('/gn140/gn139/gn132', count=10, gap=2)\n",
            "29 --> 59\n",
            "[5, 7, 11, 13, 17, 19, 23, 29, 31, 37, 41, 43, 47, 53, 59, 61, 67, 71, 73, 79, 83, 89, 97, 101, 103, 107, 109, 113, 127, 131]\n",
            "[2, 2, 4, 2, 4, 2, 4, 6, 2, 6, 4, 2, 4, 6, 6, 2, 6, 4, 2, 6, 4, 6, 8, 4, 2, 4, 2, 4, 14, 4]\n",
            "GapNode('/gn149', count=30, gap=0)\n",
            "├── GapNode('/gn149/gn142', count=11, gap=4)\n",
            "└── GapNode('/gn149/gn148', count=19, gap=0)\n",
            "    ├── GapNode('/gn149/gn148/gn147', count=9, gap=0)\n",
            "    │   ├── GapNode('/gn149/gn148/gn147/gn146', count=2, gap=0)\n",
            "    │   │   ├── GapNode('/gn149/gn148/gn147/gn146/gn144', count=1, gap=8)\n",
            "    │   │   └── GapNode('/gn149/gn148/gn147/gn146/gn145', count=1, gap=14)\n",
            "    │   └── GapNode('/gn149/gn148/gn147/gn143', count=7, gap=6)\n",
            "    └── GapNode('/gn149/gn148/gn141', count=10, gap=2)\n",
            "30 --> 60\n",
            "[5, 7, 11, 13, 17, 19, 23, 29, 31, 37, 41, 43, 47, 53, 59, 61, 67, 71, 73, 79, 83, 89, 97, 101, 103, 107, 109, 113, 127, 131, 137]\n",
            "[2, 2, 4, 2, 4, 2, 4, 6, 2, 6, 4, 2, 4, 6, 6, 2, 6, 4, 2, 6, 4, 6, 8, 4, 2, 4, 2, 4, 14, 4, 6]\n",
            "GapNode('/gn158', count=31, gap=0)\n",
            "├── GapNode('/gn158/gn151', count=11, gap=4)\n",
            "└── GapNode('/gn158/gn157', count=20, gap=0)\n",
            "    ├── GapNode('/gn158/gn157/gn150', count=10, gap=2)\n",
            "    └── GapNode('/gn158/gn157/gn156', count=10, gap=0)\n",
            "        ├── GapNode('/gn158/gn157/gn156/gn155', count=2, gap=0)\n",
            "        │   ├── GapNode('/gn158/gn157/gn156/gn155/gn153', count=1, gap=8)\n",
            "        │   └── GapNode('/gn158/gn157/gn156/gn155/gn154', count=1, gap=14)\n",
            "        └── GapNode('/gn158/gn157/gn156/gn152', count=8, gap=6)\n",
            "31 --> 63\n",
            "[5, 7, 11, 13, 17, 19, 23, 29, 31, 37, 41, 43, 47, 53, 59, 61, 67, 71, 73, 79, 83, 89, 97, 101, 103, 107, 109, 113, 127, 131, 137, 139]\n",
            "[2, 2, 4, 2, 4, 2, 4, 6, 2, 6, 4, 2, 4, 6, 6, 2, 6, 4, 2, 6, 4, 6, 8, 4, 2, 4, 2, 4, 14, 4, 6, 2]\n",
            "GapNode('/gn167', count=32, gap=0)\n",
            "├── GapNode('/gn167/gn160', count=11, gap=4)\n",
            "└── GapNode('/gn167/gn166', count=21, gap=0)\n",
            "    ├── GapNode('/gn167/gn166/gn165', count=10, gap=0)\n",
            "    │   ├── GapNode('/gn167/gn166/gn165/gn164', count=2, gap=0)\n",
            "    │   │   ├── GapNode('/gn167/gn166/gn165/gn164/gn162', count=1, gap=8)\n",
            "    │   │   └── GapNode('/gn167/gn166/gn165/gn164/gn163', count=1, gap=14)\n",
            "    │   └── GapNode('/gn167/gn166/gn165/gn161', count=8, gap=6)\n",
            "    └── GapNode('/gn167/gn166/gn159', count=11, gap=2)\n",
            "32 --> 65\n"
          ],
          "name": "stdout"
        },
        {
          "output_type": "execute_result",
          "data": {
            "text/plain": [
              "{2: 0,\n",
              " 3: 0,\n",
              " 4: 0,\n",
              " 5: 0,\n",
              " 6: 0,\n",
              " 7: 25,\n",
              " 8: 28,\n",
              " 9: 25,\n",
              " 10: 23,\n",
              " 11: 25,\n",
              " 12: 23,\n",
              " 13: 21,\n",
              " 14: 20,\n",
              " 15: 22,\n",
              " 16: 21,\n",
              " 17: 19,\n",
              " 18: 21,\n",
              " 19: 20,\n",
              " 20: 19,\n",
              " 21: 18,\n",
              " 22: 0,\n",
              " 23: 0,\n",
              " 24: 2,\n",
              " 25: 2,\n",
              " 26: 4,\n",
              " 27: 4,\n",
              " 28: 32,\n",
              " 29: 33,\n",
              " 30: 32,\n",
              " 31: 32}"
            ]
          },
          "metadata": {
            "tags": []
          },
          "execution_count": 1
        }
      ]
    },
    {
      "cell_type": "markdown",
      "metadata": {
        "id": "6qppc1W8m07l"
      },
      "source": [
        "## Explore and Wonder"
      ]
    },
    {
      "cell_type": "markdown",
      "metadata": {
        "id": "kHEYJMd9nKQc"
      },
      "source": [
        "The Huffman Tree Algorithm is one of my favorite algorithms!"
      ]
    },
    {
      "cell_type": "markdown",
      "metadata": {
        "id": "fvsdyKX7nNG4"
      },
      "source": [
        "### Reason #1"
      ]
    },
    {
      "cell_type": "markdown",
      "metadata": {
        "id": "WzEV8GvBnbzd"
      },
      "source": [
        "It is easy to understand and implement --- a classic greedy algorithm."
      ]
    },
    {
      "cell_type": "markdown",
      "metadata": {
        "id": "cJO4n-JRnWnm"
      },
      "source": [
        "### Reason #2"
      ]
    },
    {
      "cell_type": "markdown",
      "metadata": {
        "id": "p7gj8RzPnhuQ"
      },
      "source": [
        "It is provably optimal among methods encoding symbols separately."
      ]
    },
    {
      "cell_type": "markdown",
      "metadata": {
        "id": "BxD5XjgInZWH"
      },
      "source": [
        "### Reason #3"
      ]
    },
    {
      "cell_type": "markdown",
      "metadata": {
        "id": "EKTZwf90nlTH"
      },
      "source": [
        "I think David Huffman was inspired!"
      ]
    },
    {
      "cell_type": "markdown",
      "metadata": {
        "id": "poJ7bLJanpOJ"
      },
      "source": [
        "#### History"
      ]
    },
    {
      "cell_type": "markdown",
      "metadata": {
        "id": "S93G-zHKnqnl"
      },
      "source": [
        "From the History section of Wikipedia's page on Huffman coding:\n",
        "\n",
        "> In 1951, David A. Huffman and his MIT information theory classmates were given the choice of a term paper or a final exam. The professor, Robert M. Fano, assigned a term paper on the problem of finding the most efficient binary code. Huffman, unable to prove any codes were the most efficient, was about to give up and start studying for the final when he hit upon the idea of using a frequency-sorted binary tree and quickly proved this method the most efficient.\n",
        "\n",
        "> In doing so, Huffman outdid Fano, who had worked with information theory inventor Claude Shannon to develop a similar code. Building the tree from the bottom up guaranteed optimality, unlike top-down Shannon-Fano coding.\n",
        "\n",
        "\n",
        "\n"
      ]
    },
    {
      "cell_type": "markdown",
      "metadata": {
        "id": "RGJlfNDGoHj-"
      },
      "source": [
        "## TODO Read and Draw"
      ]
    },
    {
      "cell_type": "markdown",
      "metadata": {
        "id": "uy8UQIoioPMb"
      },
      "source": [
        "Read [A Method for the Construction of Minimum-Redundancy Codes](http://compression.ru/download/articles/huff/huffman_1952_minimum-redundancy-codes.pdf) (David Huffman's original paper) and by drawing pictures, make the connection between trees and rivers vivid in your mind!"
      ]
    },
    {
      "cell_type": "markdown",
      "metadata": {
        "id": "dEF-d_Q_Xw5j"
      },
      "source": [
        "![picture](https://raw.githubusercontent.com/semadenipaul/cse380-notebooks/master/week09CDL.png)\n",
        "\n"
      ]
    },
    {
      "cell_type": "code",
      "metadata": {
        "id": "kkyGIUa5Yr0J"
      },
      "source": [
        ""
      ],
      "execution_count": null,
      "outputs": []
    }
  ]
}