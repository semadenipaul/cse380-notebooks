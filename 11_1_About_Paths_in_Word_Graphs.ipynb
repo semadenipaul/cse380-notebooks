{
  "nbformat": 4,
  "nbformat_minor": 0,
  "metadata": {
    "colab": {
      "name": "Copy of 11_1_About_Paths_in_Word_Graphs.ipynb",
      "provenance": [],
      "include_colab_link": true
    },
    "kernelspec": {
      "name": "python3",
      "display_name": "Python 3"
    }
  },
  "cells": [
    {
      "cell_type": "markdown",
      "metadata": {
        "id": "view-in-github",
        "colab_type": "text"
      },
      "source": [
        "<a href=\"https://colab.research.google.com/github/semadenipaul/cse380-notebooks/blob/master/11_1_About_Paths_in_Word_Graphs.ipynb\" target=\"_parent\"><img src=\"https://colab.research.google.com/assets/colab-badge.svg\" alt=\"Open In Colab\"/></a>"
      ]
    },
    {
      "cell_type": "markdown",
      "metadata": {
        "id": "bdAeTh17kn01"
      },
      "source": [
        "# About Paths in Word Graphs\n",
        "## Divide Pair Conquer\n",
        "### Due: Monday, 15 March 2021, 11:59 pm"
      ]
    },
    {
      "cell_type": "markdown",
      "metadata": {
        "id": "XJHGM9eQkwxH"
      },
      "source": [
        "## Definition"
      ]
    },
    {
      "cell_type": "markdown",
      "metadata": {
        "id": "GM3LBOlNkzid"
      },
      "source": [
        "Word graphs are like those in Exercise 381, the nodes are words, the links are between words that differ by only one letter in the same position (e.g., **wind** and **wins** differ in the fourth letter only, so that defines a link. But **dine** and **tone** differ in the first and second letters, so no link there)."
      ]
    },
    {
      "cell_type": "markdown",
      "metadata": {
        "id": "YxO6SnVXoFWY"
      },
      "source": [
        "## TODO Find Short Paths"
      ]
    },
    {
      "cell_type": "markdown",
      "metadata": {
        "id": "pASpYbc-oGns"
      },
      "source": [
        "**Without** looking online at any of the 5 billion web sites devoted to this problem, create a graph representation using the following \"universe\" of words:"
      ]
    },
    {
      "cell_type": "code",
      "metadata": {
        "id": "JPLq4YOJoLab",
        "colab": {
          "base_uri": "https://localhost:8080/"
        },
        "outputId": "f6a11141-22cd-4de4-856b-6c973049f645"
      },
      "source": [
        "import json, urllib.request\n",
        "# word list comes from here: https://github.com/dwyl/english-words\n",
        "url = \"https://raw.githubusercontent.com/dwyl/english-words/master/words_dictionary.json\"\n",
        "with urllib.request.urlopen(url) as f: \n",
        "  words = json.loads(f.read())\n",
        "  print('windy' in words)"
      ],
      "execution_count": null,
      "outputs": [
        {
          "output_type": "stream",
          "text": [
            "True\n"
          ],
          "name": "stdout"
        }
      ]
    },
    {
      "cell_type": "markdown",
      "metadata": {
        "id": "THnbd22gocyt"
      },
      "source": [
        "Find by hand the shortest paths for as many of the following endpoints as you can. Or, if you have time, write code to find these paths:"
      ]
    },
    {
      "cell_type": "markdown",
      "metadata": {
        "id": "6kXX_ZgFwLO3"
      },
      "source": [
        "### Code"
      ]
    },
    {
      "cell_type": "code",
      "metadata": {
        "id": "7cdLfhQtwOU9"
      },
      "source": [
        "alphabet = \"abcdefghijklmnopqrstuvwxyz\"\n",
        "\n",
        "def get_path(src_word, dst_word, illegal=None):\n",
        "  if illegal is None:\n",
        "    illegal = []\n",
        "\n",
        "  return get_paths_rec(dst_word, illegal, [[src_word]])[0]\n",
        "\n",
        "def get_paths_rec(dst_word, illegal, paths):\n",
        "  found_words = set([word for path in paths for word in path])\n",
        "  # print(len(found_words))\n",
        "  if dst_word in found_words:\n",
        "    return [path for path in paths if dst_word in path]\n",
        "\n",
        "  possible = [path + [word] for path in paths\n",
        "                for word in\n",
        "                  [path[-1][:i] + letter + path[-1][i+1:] for i in range(len(path[-1])) for letter in alphabet] # Change Letter\n",
        "                + [path[-1][:i] + letter + path[-1][i:] for i in range(len(path[-1]) + 1) for letter in alphabet] # Add Letter\n",
        "                + [path[-1][:i] + path[-1][i+1:] for i in range(len(path[-1]))] # Remove Letter\n",
        "             ]\n",
        "\n",
        "  new_found = [path for path in possible if ((path[-1] in words) and (path[-1] not in found_words) and (path[-1] not in illegal))]\n",
        "  # test_words = set([path[-1] for path in paths])\n",
        "  # possible = set([word[:i] + letter + word[i+1:] for word in test_words for i in range(len(word)) for letter in alphabet])\n",
        "  # new_found = [word for word in possible if word in words and word not in found_words and word not in illegal]\n",
        "  # print(new_found)\n",
        "  # print([path for path in new_found if 'rid' in path])\n",
        "  return get_paths_rec(dst_word, illegal, new_found)\n",
        "\n",
        "  # print(words)"
      ],
      "execution_count": null,
      "outputs": []
    },
    {
      "cell_type": "code",
      "metadata": {
        "id": "rnLg1gizJNNC"
      },
      "source": [
        "def get_path_with_links(src_word, dst_word, illegal=None):\n",
        "  if illegal is None:\n",
        "    illegal = []\n",
        "\n",
        "  links = get_links(dst_word, illegal, [src_word], [(src_word, src_word)])\n",
        "  return backtrack(src_word, links, [dst_word])\n",
        "\n",
        "def get_links(dst_word, illegal, leaves, links):\n",
        "  found_words = set([word for link in links for word in link])\n",
        "  if dst_word in found_words:\n",
        "    return links\n",
        "  else:\n",
        "    new_links = [(leaf, word) for leaf in leaves\n",
        "                  for word in\n",
        "                    [leaf[:i] + letter + leaf[i+1:] for i in range(len(leaf)) for letter in alphabet] # Change Letter\n",
        "                    # + [leaf[:i] + letter + leaf[i:] for i in range(len(leaf)+1) for letter in alphabet] # Add Letter\n",
        "                    # + [leaf[:i] + leaf[i+1:] for i in range(len(leaf))] # Remove Letter\n",
        "                  if word in words and word not in found_words and word not in illegal\n",
        "                ]\n",
        "    new_leaves = [link[1] for link in new_links]\n",
        "    return get_links(dst_word, illegal, new_leaves, links + new_links)\n",
        "\n",
        "def backtrack(src_word, links, path):\n",
        "  if path[-1] == src_word:\n",
        "    return path[::-1]\n",
        "  else:\n",
        "    return backtrack(src_word, links, path + [next(src for (src, dst) in links if dst == path[-1])])"
      ],
      "execution_count": null,
      "outputs": []
    },
    {
      "cell_type": "code",
      "metadata": {
        "id": "LUS-7nLlP1NU",
        "colab": {
          "base_uri": "https://localhost:8080/"
        },
        "outputId": "6f4b4d94-deef-468a-8323-6f49e7854754"
      },
      "source": [
        "get_path_with_links(\"dry\", \"wet\",\n",
        "         illegal=['wry', 'wey', 'dey', 'det', 'ary', 'aet',\n",
        "                  'fey', 'fet', 'gry', 'gey', 'wat', 'dy',\n",
        "                  'ey', 'et', 'dr', 'er', 'wer', 'woy', 'wot',\n",
        "                  'cre', 'cee', 'cy', 'wy', 'cr', 'wr', 'frt',\n",
        "                  'frey', 'ret', 'fy', 'fe', 'fr', 'ft', 'wt',\n",
        "                  'ory'])"
      ],
      "execution_count": null,
      "outputs": [
        {
          "output_type": "execute_result",
          "data": {
            "text/plain": [
              "['dry', 'pry', 'pay', 'pat', 'pet', 'wet']"
            ]
          },
          "metadata": {
            "tags": []
          },
          "execution_count": 169
        }
      ]
    },
    {
      "cell_type": "markdown",
      "metadata": {
        "id": "sir5gH7cpQFB"
      },
      "source": [
        "### From \"dry\" to \"wet\""
      ]
    },
    {
      "cell_type": "markdown",
      "metadata": {
        "id": "tXoZiV9xtnvO"
      },
      "source": [
        "dry\n",
        "day\n",
        "way\n",
        "wad\n",
        "wed\n",
        "wet"
      ]
    },
    {
      "cell_type": "code",
      "metadata": {
        "id": "ImvVY8e7-zaT",
        "colab": {
          "base_uri": "https://localhost:8080/"
        },
        "outputId": "d22fbd76-8ee1-4ebe-e8ec-75feaa1223bd"
      },
      "source": [
        "# get_path(\"dry\", \"wet\",\n",
        "#          illegal=['wry', 'wey', 'dey', 'det', 'ary', 'aet',\n",
        "#                   'fey', 'fet', 'gry', 'gey', 'wat', 'dy',\n",
        "#                   'ey', 'et', 'dr', 'er', 'wer', 'woy', 'wot',\n",
        "#                   'cre', 'cee', 'cy', 'wy', 'cr', 'wr', 'frt',\n",
        "#                   'frey', 'ret', 'fy', 'fe', 'fr', 'ft', 'wt',\n",
        "#                   'ory'])\n",
        "get_path_with_links('dry', 'wet',\n",
        "                    illegal=['wry', 'wey', 'dey', 'det', 'ary', 'aet',\n",
        "                             'fey', 'fet', 'gry', 'gey', 'wat', 'wer',\n",
        "                             'woy', 'wot', 'cre', 'cee', 'frt', 'ret',\n",
        "                             'ory'])"
      ],
      "execution_count": null,
      "outputs": [
        {
          "output_type": "execute_result",
          "data": {
            "text/plain": [
              "['dry', 'pry', 'pay', 'pat', 'pet', 'wet']"
            ]
          },
          "metadata": {
            "tags": []
          },
          "execution_count": 177
        }
      ]
    },
    {
      "cell_type": "markdown",
      "metadata": {
        "id": "b6V-ITRMpRvE"
      },
      "source": [
        "### From \"read\" to \"ride\""
      ]
    },
    {
      "cell_type": "code",
      "metadata": {
        "id": "vVLzScnp-2W7",
        "colab": {
          "base_uri": "https://localhost:8080/"
        },
        "outputId": "8b4242a5-43b3-4b6d-8f06-852860dca9c8"
      },
      "source": [
        "get_path_with_links(\"read\", \"ride\",\n",
        "         illegal=['redd', 'rede', 'reid', 'rodd', 'rine',\n",
        "                  'retd', 'rete', 'rond', 'rone', 'roud',\n",
        "                  'roue', 'recd', 'reck', 'rick', 'rudd',\n",
        "                  'rees', 'ries', 'rins', 'rial', 'resp',\n",
        "                  'risp', 'bine', 'bene', 'bede', 'dedd',\n",
        "                  'dodd', 'dode', 'hele', 'hile', 'hend',\n",
        "                  'hine'])"
      ],
      "execution_count": null,
      "outputs": [
        {
          "output_type": "execute_result",
          "data": {
            "text/plain": [
              "['read', 'head', 'herd', 'here', 'hire', 'hide', 'ride']"
            ]
          },
          "metadata": {
            "tags": []
          },
          "execution_count": 195
        }
      ]
    },
    {
      "cell_type": "markdown",
      "metadata": {
        "id": "uLOTZRAVpVKF"
      },
      "source": [
        "### From \"fish\" to \"fowl\""
      ]
    },
    {
      "cell_type": "code",
      "metadata": {
        "id": "4Fi7dGwlEDx3",
        "colab": {
          "base_uri": "https://localhost:8080/"
        },
        "outputId": "bf0b91c2-3568-4e20-9a0b-81831d125361"
      },
      "source": [
        "get_path_with_links(\"fish\", \"fowl\",\n",
        "                    illegal=['fosh', 'fise', 'fole', 'foll', 'fisk',\n",
        "                             'firk', 'fowk', 'filt', 'fiot', 'bish',\n",
        "                             'bosh', 'bose', 'bowe', 'doss', 'hish',\n",
        "                             'hoss', 'pish', 'pooh', 'sish', 'sosh',\n",
        "                             'soss', 'sowl', 'fash', 'fait', 'feal',\n",
        "                             'disa', 'dosa', 'dola', 'dowl', 'dioc',\n",
        "                             'diol', 'dool', 'bisk', 'bowk', 'gish',\n",
        "                             'cosh', 'coss', 'kish', 'koss', 'lish',\n",
        "                             'losh', 'joss', 'jows', 'wost', 'wowt',\n",
        "                             'yowt', 'fikh', 'fike', 'hoke', 'howe',\n",
        "                             'cist', 'goll', 'hist', 'holt', 'holl'])\n",
        "\n",
        "# fish, pish, posh, pooh, pool, fool, fowl"
      ],
      "execution_count": null,
      "outputs": [
        {
          "output_type": "execute_result",
          "data": {
            "text/plain": [
              "['fish', 'fist', 'list', 'lost', 'loot', 'foot', 'fool', 'fowl']"
            ]
          },
          "metadata": {
            "tags": []
          },
          "execution_count": 214
        }
      ]
    },
    {
      "cell_type": "markdown",
      "metadata": {
        "id": "cm0_qn79pWaZ"
      },
      "source": [
        "### From \"hate\" to \"love\""
      ]
    },
    {
      "cell_type": "code",
      "metadata": {
        "id": "01bhxW8OdoA6",
        "colab": {
          "base_uri": "https://localhost:8080/"
        },
        "outputId": "da0e0a93-440b-4176-bed4-57681ecafa74"
      },
      "source": [
        "get_path_with_links('hate', 'love',\n",
        "                    illegal=['lote', 'lave', 'hote', 'hove', 'bate',\n",
        "                             'bote', 'bove', 'cate', 'cote'])"
      ],
      "execution_count": null,
      "outputs": [
        {
          "output_type": "execute_result",
          "data": {
            "text/plain": [
              "['hate', 'date', 'dote', 'dove', 'love']"
            ]
          },
          "metadata": {
            "tags": []
          },
          "execution_count": 221
        }
      ]
    },
    {
      "cell_type": "markdown",
      "metadata": {
        "id": "bwsoOSr2pXsI"
      },
      "source": [
        "### From \"head\" to \"feet\""
      ]
    },
    {
      "cell_type": "code",
      "metadata": {
        "id": "aGhaDRskevlV",
        "colab": {
          "base_uri": "https://localhost:8080/"
        },
        "outputId": "4a8c2181-e98e-4021-f111-3f368b830dbc"
      },
      "source": [
        "get_path_with_links('head', 'feet')"
      ],
      "execution_count": null,
      "outputs": [
        {
          "output_type": "execute_result",
          "data": {
            "text/plain": [
              "['head', 'heed', 'feed', 'feet']"
            ]
          },
          "metadata": {
            "tags": []
          },
          "execution_count": 222
        }
      ]
    },
    {
      "cell_type": "markdown",
      "metadata": {
        "id": "tYmmwLDApY-a"
      },
      "source": [
        "### From \"poor\" to \"rich\""
      ]
    },
    {
      "cell_type": "code",
      "metadata": {
        "id": "4aYstWnKe0WJ",
        "colab": {
          "base_uri": "https://localhost:8080/"
        },
        "outputId": "f530b61a-69d0-46e8-b007-362018e625e8"
      },
      "source": [
        "get_path_with_links('poor', 'rich',\n",
        "                    illegal=['pooh', 'pish', 'pich', 'pook', 'rick',\n",
        "                             'dook', 'dick', 'dich', 'poon', 'locn'])"
      ],
      "execution_count": null,
      "outputs": [
        {
          "output_type": "execute_result",
          "data": {
            "text/plain": [
              "['poor', 'boor', 'book', 'look', 'lock', 'lick', 'lich', 'rich']"
            ]
          },
          "metadata": {
            "tags": []
          },
          "execution_count": 227
        }
      ]
    },
    {
      "cell_type": "markdown",
      "metadata": {
        "id": "hvEyvK3ypaR5"
      },
      "source": [
        "### From \"sick\" to \"well\""
      ]
    },
    {
      "cell_type": "code",
      "metadata": {
        "id": "DuXnVbfOf0wR",
        "colab": {
          "base_uri": "https://localhost:8080/"
        },
        "outputId": "6be8a1b5-fd6d-40c9-ebb2-d8ffd5369628"
      },
      "source": [
        "get_path_with_links('sick', 'well',\n",
        "                    illegal=['wilk', 'welk'])"
      ],
      "execution_count": null,
      "outputs": [
        {
          "output_type": "execute_result",
          "data": {
            "text/plain": [
              "['sick', 'silk', 'sill', 'will', 'well']"
            ]
          },
          "metadata": {
            "tags": []
          },
          "execution_count": 229
        }
      ]
    },
    {
      "cell_type": "markdown",
      "metadata": {
        "id": "2KzWkpn3pb2H"
      },
      "source": [
        "### From \"warm\" to \"cold\""
      ]
    },
    {
      "cell_type": "code",
      "metadata": {
        "id": "jdghtz_tgHa3",
        "colab": {
          "base_uri": "https://localhost:8080/"
        },
        "outputId": "160c7f57-d54e-410b-d5fc-0688c56f4cc6"
      },
      "source": [
        "get_path_with_links('warm', 'cold',\n",
        "                    illegal=['corm'])"
      ],
      "execution_count": null,
      "outputs": [
        {
          "output_type": "execute_result",
          "data": {
            "text/plain": [
              "['warm', 'worm', 'word', 'cord', 'cold']"
            ]
          },
          "metadata": {
            "tags": []
          },
          "execution_count": 231
        }
      ]
    },
    {
      "cell_type": "markdown",
      "metadata": {
        "id": "nriebmvRpg9m"
      },
      "source": [
        "### From \"work\" to \"play\""
      ]
    },
    {
      "cell_type": "code",
      "metadata": {
        "id": "XbZXxOwugV2Z",
        "colab": {
          "base_uri": "https://localhost:8080/"
        },
        "outputId": "4566a3d0-f2d7-4517-bff5-1d0c847357db"
      },
      "source": [
        "get_path_with_links('work', 'play',\n",
        "                    illegal=['plak', 'coak', 'coan', 'cort', 'clat',\n",
        "                             'plat', 'cory', 'chry', 'chay', 'ferk',\n",
        "                             'feak', 'flam', 'pean', 'pook', 'pood',\n",
        "                             'porn', 'pirn', 'pian', 'poot', 'woak',\n",
        "                             'spak', 'woan', 'eoan', 'elan', 'bort',\n",
        "                             'blat', 'blay', 'chok', 'choy', 'coof',\n",
        "                             'clof', 'clon', 'plap'])"
      ],
      "execution_count": null,
      "outputs": [
        {
          "output_type": "execute_result",
          "data": {
            "text/plain": [
              "['work', 'cork', 'cook', 'coop', 'poop', 'plop', 'ploy', 'play']"
            ]
          },
          "metadata": {
            "tags": []
          },
          "execution_count": 6
        }
      ]
    },
    {
      "cell_type": "markdown",
      "metadata": {
        "id": "Bn1gMDAvpidg"
      },
      "source": [
        "### From \"bane\" to \"boon\""
      ]
    },
    {
      "cell_type": "code",
      "metadata": {
        "id": "7MMVlF6RkS6w",
        "colab": {
          "base_uri": "https://localhost:8080/"
        },
        "outputId": "dc0bf300-a9f8-4fb0-9dff-6277197cad7a"
      },
      "source": [
        "get_path_with_links('bane', 'boon')"
      ],
      "execution_count": null,
      "outputs": [
        {
          "output_type": "execute_result",
          "data": {
            "text/plain": [
              "['bane', 'bone', 'bore', 'born', 'boon']"
            ]
          },
          "metadata": {
            "tags": []
          },
          "execution_count": 7
        }
      ]
    },
    {
      "cell_type": "markdown",
      "metadata": {
        "id": "iZ0UQQBGpjvy"
      },
      "source": [
        "### From \"black\" to \"white\""
      ]
    },
    {
      "cell_type": "code",
      "metadata": {
        "id": "-7mgYW0AkXlm",
        "colab": {
          "base_uri": "https://localhost:8080/"
        },
        "outputId": "568af5b8-3778-4282-ec51-c981147ae068"
      },
      "source": [
        "get_path_with_links('black', 'white',\n",
        "                    illegal=['alack', 'alick', 'alice', 'alite', 'arite',\n",
        "                             'chack', 'whick', 'whilk', 'chine', 'chits',\n",
        "                             'shick', 'shice', 'shane', 'sline', 'brack',\n",
        "                             'trice', 'trite', 'blick', 'brank', 'brite'])"
      ],
      "execution_count": null,
      "outputs": [
        {
          "output_type": "execute_result",
          "data": {
            "text/plain": [
              "['black',\n",
              " 'clack',\n",
              " 'click',\n",
              " 'chick',\n",
              " 'thick',\n",
              " 'think',\n",
              " 'thine',\n",
              " 'whine',\n",
              " 'white']"
            ]
          },
          "metadata": {
            "tags": []
          },
          "execution_count": 18
        }
      ]
    },
    {
      "cell_type": "markdown",
      "metadata": {
        "id": "PUhtca6YplBL"
      },
      "source": [
        "### From \"bread\" to \"toast\""
      ]
    },
    {
      "cell_type": "code",
      "metadata": {
        "id": "VDtrYTpwmtNH",
        "colab": {
          "base_uri": "https://localhost:8080/"
        },
        "outputId": "2ba3b37e-3333-47ef-87bf-478025f22a8d"
      },
      "source": [
        "get_path_with_links('bread', 'toast',\n",
        "                    illegal=['trest', 'trist', 'toist', 'cread', 'creat',\n",
        "                             'croat', 'crost', 'coost', 'treas', 'tress',\n",
        "                             'toust', 'brees', 'braes', 'brast'])"
      ],
      "execution_count": null,
      "outputs": [
        {
          "output_type": "execute_result",
          "data": {
            "text/plain": [
              "['bread', 'break', 'bleak', 'bleat', 'blest', 'blast', 'boast', 'toast']"
            ]
          },
          "metadata": {
            "tags": []
          },
          "execution_count": 23
        }
      ]
    },
    {
      "cell_type": "markdown",
      "metadata": {
        "id": "drhFyUbnpmwQ"
      },
      "source": [
        "## TODO Go Above and Beyond"
      ]
    },
    {
      "cell_type": "markdown",
      "metadata": {
        "id": "9Y_YdUrapoaE"
      },
      "source": [
        "Think of ways to change the definition of a link in a word graph to make it possible (although perhaps costlier) to move from word to word."
      ]
    }
  ]
}