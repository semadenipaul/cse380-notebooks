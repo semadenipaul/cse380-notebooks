{
  "nbformat": 4,
  "nbformat_minor": 0,
  "metadata": {
    "colab": {
      "name": "11_3_About_The_Petersen_Graph.ipynb",
      "provenance": [],
      "include_colab_link": true
    },
    "kernelspec": {
      "name": "python3",
      "display_name": "Python 3"
    }
  },
  "cells": [
    {
      "cell_type": "markdown",
      "metadata": {
        "id": "view-in-github",
        "colab_type": "text"
      },
      "source": [
        "<a href=\"https://colab.research.google.com/github/semadenipaul/cse380-notebooks/blob/master/11_3_About_The_Petersen_Graph.ipynb\" target=\"_parent\"><img src=\"https://colab.research.google.com/assets/colab-badge.svg\" alt=\"Open In Colab\"/></a>"
      ]
    },
    {
      "cell_type": "markdown",
      "metadata": {
        "id": "0lYSr_8JNUpQ"
      },
      "source": [
        "# About The Petersen Graph\n",
        "## Class Directed Learning\n",
        "### Due: Tuesday, 16 March 2021, 11:59 pm"
      ]
    },
    {
      "cell_type": "markdown",
      "metadata": {
        "id": "0PuwZHqzNfTa"
      },
      "source": [
        "## TODO Explore and Wonder"
      ]
    },
    {
      "cell_type": "markdown",
      "metadata": {
        "id": "Gsu1FnbuNptP"
      },
      "source": [
        "The Petersen graph is described as the complement of the line graph of $K_5$.\n",
        "\n",
        "Draw each step of this construction using any graph-drawing tools in your toolbox.\n",
        "\n",
        "Teach one another how to use the tools you each have."
      ]
    },
    {
      "cell_type": "markdown",
      "metadata": {
        "id": "OlMv3nQ5AIeV"
      },
      "source": [
        "Collaborators: Bretton Steiner, Daniel Strickland, Paul Semadeni"
      ]
    },
    {
      "cell_type": "code",
      "metadata": {
        "id": "py0ppA7i--dc"
      },
      "source": [
        "class GraphNode():\n",
        "  def __init__(self, value = 0, links = []):\n",
        "    self.value = value\n",
        "    self.links = links\n",
        "\n",
        "  def is_link(self, neighbor_value):\n",
        "    if neighbor_value in links:\n",
        "      return True\n",
        "    return False\n",
        "\n",
        "  def add_link(self, neighbor_value):\n",
        "    if not neighbor_value in self.links:\n",
        "      self.links.append(neighbor_value)\n",
        "\n",
        "  def remove_link(self, neighbor_value):\n",
        "    link.remove(neighbor_value)\n",
        "\n",
        "  def __eq__(self, node):\n",
        "    return self.value == node.value and set(self.links) == set(node.links)"
      ],
      "execution_count": 2,
      "outputs": []
    },
    {
      "cell_type": "code",
      "metadata": {
        "id": "9mSnCGKI_BRg"
      },
      "source": [
        "class Graph():\n",
        "  def __init__(self, nodes = [], links = []):\n",
        "    self.nodes = []\n",
        "    for node in nodes:\n",
        "      adjacent_nodes = [link[1] for link in links if link[0] == node] + [link[0] for link in links if link[1] == node]\n",
        "      self.nodes.append(GraphNode(node, adjacent_nodes))\n",
        "\n",
        "  def get_node(self, node_value):\n",
        "    return next(graphNode for graphNode in self.nodes if graphNode.value == node_value)\n",
        "\n",
        "  def get_nodes(self):\n",
        "    return [node.value for node in self.nodes]\n",
        "\n",
        "  def get_links(self):\n",
        "    links = [str(adj_list[0]) + str(adjacent_node) for adj_list in self.get_adjacency_list() for adjacent_node in adj_list[1]]\n",
        "    return list(set((link[:len(link)//2], link[len(link)//2:]) if link[:len(link)//2] < link[len(link)//2:] else (link[len(link)//2:], link[:len(link)//2]) for link in links))\n",
        "\n",
        "  def get_adjacent_nodes(self, node_value):\n",
        "    node = self.get_node(node_value)\n",
        "    return (node.value, node.links)\n",
        "\n",
        "  def get_adjacency_list(self):\n",
        "    return [(graphNode.value, graphNode.links) for graphNode in self.nodes]\n",
        "\n",
        "  def is_adjacent(self, node_from, node_to):\n",
        "    self.add_node(node_from)\n",
        "    node = self.get_node(node_from)\n",
        "    return node.is_link(node_to)\n",
        "\n",
        "  def add_node(self, node_value, links = []):\n",
        "    if not node_value in self.get_nodes():\n",
        "      self.nodes.append(GraphNode(node_value, links))\n",
        "\n",
        "  def add_link(self, node_from, node_to):\n",
        "    self.add_node(node_from)\n",
        "    node = self.get_node(node_from)\n",
        "    if not node.is_link(node_to):\n",
        "      node.add_link(node_to)\n",
        "    self.add_node(node_to)\n",
        "    node = self.get_node(node_to)\n",
        "    if not node.is_link(node_from):\n",
        "      node.add_link(node_from)"
      ],
      "execution_count": 3,
      "outputs": []
    },
    {
      "cell_type": "code",
      "metadata": {
        "id": "U6q5sQMQ_FHG"
      },
      "source": [
        "# https://graphviz.org/\n",
        "# https://pypi.org/project/pygraphviz/\n",
        "import graphviz\n",
        "\n",
        "def display_graph(graph, engine = 'fdp'):\n",
        "  graphic = graphviz.Graph(format='png')\n",
        "  graphic.edges([link[:len(link)//2] + link[len(link)//2:] for link in graph.get_links()])\n",
        "  graphic.engine = engine\n",
        "  return graphic"
      ],
      "execution_count": 4,
      "outputs": []
    },
    {
      "cell_type": "code",
      "metadata": {
        "id": "AluOYFjV_rit"
      },
      "source": [
        "def generate_complete_graph_links(nodes):\n",
        "  links = []\n",
        "  for i in range(len(nodes)):\n",
        "    for j in range(i + 1, len(nodes)):\n",
        "      # Let's sort these as we go for simplicity\n",
        "      links.append((nodes[i], nodes[j]) if nodes[i] < nodes[j] else (nodes[j], nodes[i]))\n",
        "  return links"
      ],
      "execution_count": 8,
      "outputs": []
    },
    {
      "cell_type": "code",
      "metadata": {
        "id": "_9EDJjtN_NtI"
      },
      "source": [
        "def display_graph_as_peterson(graph, display_order):\n",
        "  graphic = graphviz.Graph(format='png')\n",
        "  nodes = graph.get_nodes()\n",
        "  # I manually changed the order of the nodes until it was right.\n",
        "  graphic.node(nodes[display_order[0]], pos='3,5!')\n",
        "  graphic.node(nodes[display_order[1]], pos='0,3!')\n",
        "  graphic.node(nodes[display_order[2]], pos='6,3!')\n",
        "  graphic.node(nodes[display_order[3]], pos='1,0!')\n",
        "  graphic.node(nodes[display_order[4]], pos='5,0!')\n",
        "  graphic.node(nodes[display_order[5]], pos='3,3.5!')\n",
        "  graphic.node(nodes[display_order[6]], pos='1.5,2.5!')\n",
        "  graphic.node(nodes[display_order[7]], pos='4.5,2.5!')\n",
        "  graphic.node(nodes[display_order[8]], pos='2,1!')\n",
        "  graphic.node(nodes[display_order[9]], pos='4,1!')\n",
        "  graphic.edges([link[:len(link)//2] + link[len(link)//2:] for link in graph.get_links()])\n",
        "  graphic.engine = 'neato'\n",
        "  return graphic"
      ],
      "execution_count": 5,
      "outputs": []
    },
    {
      "cell_type": "markdown",
      "metadata": {
        "id": "SNi75eRP_Szl"
      },
      "source": [
        "## K5 Graph"
      ]
    },
    {
      "cell_type": "code",
      "metadata": {
        "id": "0vgij--Y_Wyy",
        "outputId": "ee9f1315-06c9-42c5-b9c8-331b543c54dd",
        "colab": {
          "base_uri": "https://localhost:8080/",
          "height": 464
        }
      },
      "source": [
        "nodes = ['a', 'b', 'c', 'd', 'e']\n",
        "links = [\n",
        "  ('a', 'b'), ('a', 'c'), ('a', 'd'), ('a', 'e'), ('b', 'c'), ('b', 'd'),\n",
        "  ('b', 'e'), ('c', 'd'), ('c', 'e'), ('d', 'e')\n",
        "]\n",
        "\n",
        "k5 = Graph(nodes, links)\n",
        "display_graph(k5, 'sfdp')"
      ],
      "execution_count": 6,
      "outputs": [
        {
          "output_type": "execute_result",
          "data": {
            "text/plain": [
              "<graphviz.dot.Graph at 0x7f5eb4596910>"
            ],
            "image/svg+xml": "<?xml version=\"1.0\" encoding=\"UTF-8\" standalone=\"no\"?>\n<!DOCTYPE svg PUBLIC \"-//W3C//DTD SVG 1.1//EN\"\n \"http://www.w3.org/Graphics/SVG/1.1/DTD/svg11.dtd\">\n<!-- Generated by graphviz version 2.40.1 (20161225.0304)\n -->\n<!-- Title: %3 Pages: 1 -->\n<svg width=\"344pt\" height=\"333pt\"\n viewBox=\"0.00 0.00 344.48 332.72\" xmlns=\"http://www.w3.org/2000/svg\" xmlns:xlink=\"http://www.w3.org/1999/xlink\">\n<g id=\"graph0\" class=\"graph\" transform=\"scale(1 1) rotate(0) translate(4 328.7155)\">\n<title>%3</title>\n<polygon fill=\"#ffffff\" stroke=\"transparent\" points=\"-4,4 -4,-328.7155 340.4783,-328.7155 340.4783,4 -4,4\"/>\n<!-- b -->\n<g id=\"node1\" class=\"node\">\n<title>b</title>\n<ellipse fill=\"none\" stroke=\"#000000\" cx=\"301.3049\" cy=\"-260.1533\" rx=\"27\" ry=\"18\"/>\n<text text-anchor=\"middle\" x=\"301.3049\" y=\"-256.4533\" font-family=\"Times,serif\" font-size=\"14.00\" fill=\"#000000\">b</text>\n</g>\n<!-- d -->\n<g id=\"node2\" class=\"node\">\n<title>d</title>\n<ellipse fill=\"none\" stroke=\"#000000\" cx=\"127.6822\" cy=\"-306.7155\" rx=\"27\" ry=\"18\"/>\n<text text-anchor=\"middle\" x=\"127.6822\" y=\"-303.0155\" font-family=\"Times,serif\" font-size=\"14.00\" fill=\"#000000\">d</text>\n</g>\n<!-- b&#45;&#45;d -->\n<g id=\"edge1\" class=\"edge\">\n<title>b&#45;&#45;d</title>\n<path fill=\"none\" stroke=\"#000000\" d=\"M276.0587,-266.9238C243.141,-275.7517 185.8916,-291.1049 152.9589,-299.9368\"/>\n</g>\n<!-- c -->\n<g id=\"node3\" class=\"node\">\n<title>c</title>\n<ellipse fill=\"none\" stroke=\"#000000\" cx=\"27\" cy=\"-157.5136\" rx=\"27\" ry=\"18\"/>\n<text text-anchor=\"middle\" x=\"27\" y=\"-153.8136\" font-family=\"Times,serif\" font-size=\"14.00\" fill=\"#000000\">c</text>\n</g>\n<!-- b&#45;&#45;c -->\n<g id=\"edge2\" class=\"edge\">\n<title>b&#45;&#45;c</title>\n<path fill=\"none\" stroke=\"#000000\" d=\"M277.442,-251.2242C225.4343,-231.7639 102.3911,-185.7235 50.6124,-166.3489\"/>\n</g>\n<!-- e -->\n<g id=\"node5\" class=\"node\">\n<title>e</title>\n<ellipse fill=\"none\" stroke=\"#000000\" cx=\"309.4783\" cy=\"-79.3474\" rx=\"27\" ry=\"18\"/>\n<text text-anchor=\"middle\" x=\"309.4783\" y=\"-75.6474\" font-family=\"Times,serif\" font-size=\"14.00\" fill=\"#000000\">e</text>\n</g>\n<!-- b&#45;&#45;e -->\n<g id=\"edge5\" class=\"edge\">\n<title>b&#45;&#45;e</title>\n<path fill=\"none\" stroke=\"#000000\" d=\"M302.1185,-242.1559C303.6811,-207.5884 307.0863,-132.2609 308.6559,-97.5403\"/>\n</g>\n<!-- d&#45;&#45;e -->\n<g id=\"edge9\" class=\"edge\">\n<title>d&#45;&#45;e</title>\n<path fill=\"none\" stroke=\"#000000\" d=\"M140.4658,-290.7274C173.8451,-248.9807 263.3454,-137.0447 296.7089,-95.3178\"/>\n</g>\n<!-- c&#45;&#45;d -->\n<g id=\"edge10\" class=\"edge\">\n<title>c&#45;&#45;d</title>\n<path fill=\"none\" stroke=\"#000000\" d=\"M38.1594,-174.0509C57.5126,-202.7306 97.0849,-261.373 116.4728,-290.1042\"/>\n</g>\n<!-- c&#45;&#45;e -->\n<g id=\"edge7\" class=\"edge\">\n<title>c&#45;&#45;e</title>\n<path fill=\"none\" stroke=\"#000000\" d=\"M52.0681,-150.5769C105.6732,-135.7435 230.9114,-101.0881 284.4664,-86.2686\"/>\n</g>\n<!-- a -->\n<g id=\"node4\" class=\"node\">\n<title>a</title>\n<ellipse fill=\"none\" stroke=\"#000000\" cx=\"140.4589\" cy=\"-18\" rx=\"27\" ry=\"18\"/>\n<text text-anchor=\"middle\" x=\"140.4589\" y=\"-14.3\" font-family=\"Times,serif\" font-size=\"14.00\" fill=\"#000000\">a</text>\n</g>\n<!-- a&#45;&#45;b -->\n<g id=\"edge4\" class=\"edge\">\n<title>a&#45;&#45;b</title>\n<path fill=\"none\" stroke=\"#000000\" d=\"M151.5145,-34.6442C180.8985,-78.8818 260.6996,-199.0221 290.1719,-243.3926\"/>\n</g>\n<!-- a&#45;&#45;d -->\n<g id=\"edge8\" class=\"edge\">\n<title>a&#45;&#45;d</title>\n<path fill=\"none\" stroke=\"#000000\" d=\"M139.6597,-36.0604C137.3651,-87.9098 130.7753,-236.821 128.4812,-288.6619\"/>\n</g>\n<!-- a&#45;&#45;c -->\n<g id=\"edge3\" class=\"edge\">\n<title>a&#45;&#45;c</title>\n<path fill=\"none\" stroke=\"#000000\" d=\"M127.4437,-34.004C105.6743,-60.7725 62.1134,-114.3367 40.2129,-141.2665\"/>\n</g>\n<!-- a&#45;&#45;e -->\n<g id=\"edge6\" class=\"edge\">\n<title>a&#45;&#45;e</title>\n<path fill=\"none\" stroke=\"#000000\" d=\"M164.3168,-26.6595C196.5296,-38.3515 253.5915,-59.0627 285.7418,-70.732\"/>\n</g>\n</g>\n</svg>\n"
          },
          "metadata": {
            "tags": []
          },
          "execution_count": 6
        }
      ]
    },
    {
      "cell_type": "markdown",
      "metadata": {
        "id": "VsNKiWVA-w7C"
      },
      "source": [
        "### Converting $K_5$ into a Line Graph"
      ]
    },
    {
      "cell_type": "code",
      "metadata": {
        "id": "mMMGLCNI80co",
        "colab": {
          "base_uri": "https://localhost:8080/",
          "height": 660
        },
        "outputId": "eb0057e3-d71e-4b1c-887c-432666dcb5ab"
      },
      "source": [
        "# Following the steps outlined here:\n",
        "# https://en.wikipedia.org/wiki/Line_graph\n",
        "\n",
        "# Step 1: Add verticies constructed from the edges of K5\n",
        "verticies = [str(link[0]) + str(link[1]) for link in k5.get_links()]\n",
        "\n",
        "# Step 2: Add edges\n",
        "edges = []\n",
        "for node in k5.get_nodes():\n",
        "  node_verticies = [vertex for vertex in verticies if node in vertex]\n",
        "  # I noticed a complete graph pattern here\n",
        "  edges += generate_complete_graph_links(node_verticies)\n",
        "\n",
        "# Step 3: Remove original nodes\n",
        "# This is fulfilled since we are creating a brand new graph without\n",
        "#  any of the previous nodes\n",
        "line_graph = Graph(verticies, edges)\n",
        "\n",
        "# Show results\n",
        "print(line_graph.get_nodes())\n",
        "print(line_graph.get_links())\n",
        "display_graph(line_graph, 'sfdp')"
      ],
      "execution_count": 9,
      "outputs": [
        {
          "output_type": "stream",
          "text": [
            "['bd', 'bc', 'ac', 'ab', 'be', 'ae', 'ce', 'ad', 'de', 'cd']\n",
            "[('ac', 'ce'), ('ac', 'cd'), ('bd', 'cd'), ('bc', 'be'), ('ab', 'be'), ('ae', 'de'), ('ae', 'be'), ('bc', 'cd'), ('bd', 'de'), ('ad', 'cd'), ('ac', 'ad'), ('be', 'ce'), ('bc', 'bd'), ('cd', 'de'), ('cd', 'ce'), ('ab', 'bd'), ('ad', 'ae'), ('ab', 'ad'), ('ab', 'bc'), ('ae', 'ce'), ('ad', 'bd'), ('ac', 'bc'), ('ab', 'ae'), ('bd', 'be'), ('bc', 'ce'), ('ce', 'de'), ('ab', 'ac'), ('ac', 'ae'), ('be', 'de'), ('ad', 'de')]\n"
          ],
          "name": "stdout"
        },
        {
          "output_type": "execute_result",
          "data": {
            "text/plain": [
              "<graphviz.dot.Graph at 0x7f5eb45a3990>"
            ],
            "image/svg+xml": "<?xml version=\"1.0\" encoding=\"UTF-8\" standalone=\"no\"?>\n<!DOCTYPE svg PUBLIC \"-//W3C//DTD SVG 1.1//EN\"\n \"http://www.w3.org/Graphics/SVG/1.1/DTD/svg11.dtd\">\n<!-- Generated by graphviz version 2.40.1 (20161225.0304)\n -->\n<!-- Title: %3 Pages: 1 -->\n<svg width=\"468pt\" height=\"438pt\"\n viewBox=\"0.00 0.00 468.18 438.05\" xmlns=\"http://www.w3.org/2000/svg\" xmlns:xlink=\"http://www.w3.org/1999/xlink\">\n<g id=\"graph0\" class=\"graph\" transform=\"scale(1 1) rotate(0) translate(4 434.0519)\">\n<title>%3</title>\n<polygon fill=\"#ffffff\" stroke=\"transparent\" points=\"-4,4 -4,-434.0519 464.18,-434.0519 464.18,4 -4,4\"/>\n<!-- ac -->\n<g id=\"node1\" class=\"node\">\n<title>ac</title>\n<ellipse fill=\"none\" stroke=\"#000000\" cx=\"325.1761\" cy=\"-282.8753\" rx=\"27\" ry=\"18\"/>\n<text text-anchor=\"middle\" x=\"325.1761\" y=\"-279.1753\" font-family=\"Times,serif\" font-size=\"14.00\" fill=\"#000000\">ac</text>\n</g>\n<!-- ce -->\n<g id=\"node2\" class=\"node\">\n<title>ce</title>\n<ellipse fill=\"none\" stroke=\"#000000\" cx=\"337.0615\" cy=\"-59.6468\" rx=\"27\" ry=\"18\"/>\n<text text-anchor=\"middle\" x=\"337.0615\" y=\"-55.9468\" font-family=\"Times,serif\" font-size=\"14.00\" fill=\"#000000\">ce</text>\n</g>\n<!-- ac&#45;&#45;ce -->\n<g id=\"edge1\" class=\"edge\">\n<title>ac&#45;&#45;ce</title>\n<path fill=\"none\" stroke=\"#000000\" d=\"M326.1487,-264.6076C328.383,-222.644 333.861,-119.7586 336.0921,-77.8539\"/>\n</g>\n<!-- cd -->\n<g id=\"node3\" class=\"node\">\n<title>cd</title>\n<ellipse fill=\"none\" stroke=\"#000000\" cx=\"220.1428\" cy=\"-18\" rx=\"27\" ry=\"18\"/>\n<text text-anchor=\"middle\" x=\"220.1428\" y=\"-14.3\" font-family=\"Times,serif\" font-size=\"14.00\" fill=\"#000000\">cd</text>\n</g>\n<!-- ac&#45;&#45;cd -->\n<g id=\"edge2\" class=\"edge\">\n<title>ac&#45;&#45;cd</title>\n<path fill=\"none\" stroke=\"#000000\" d=\"M318.1215,-265.0848C298.9873,-216.8318 246.2649,-83.8753 227.1667,-35.7131\"/>\n</g>\n<!-- bc -->\n<g id=\"node5\" class=\"node\">\n<title>bc</title>\n<ellipse fill=\"none\" stroke=\"#000000\" cx=\"433.18\" cy=\"-194.9427\" rx=\"27\" ry=\"18\"/>\n<text text-anchor=\"middle\" x=\"433.18\" y=\"-191.2427\" font-family=\"Times,serif\" font-size=\"14.00\" fill=\"#000000\">bc</text>\n</g>\n<!-- ac&#45;&#45;bc -->\n<g id=\"edge22\" class=\"edge\">\n<title>ac&#45;&#45;bc</title>\n<path fill=\"none\" stroke=\"#000000\" d=\"M342.5288,-268.7474C362.6835,-252.3382 395.7341,-225.4298 415.8704,-209.0356\"/>\n</g>\n<!-- ae -->\n<g id=\"node8\" class=\"node\">\n<title>ae</title>\n<ellipse fill=\"none\" stroke=\"#000000\" cx=\"114.8049\" cy=\"-318.5535\" rx=\"27\" ry=\"18\"/>\n<text text-anchor=\"middle\" x=\"114.8049\" y=\"-314.8535\" font-family=\"Times,serif\" font-size=\"14.00\" fill=\"#000000\">ae</text>\n</g>\n<!-- ac&#45;&#45;ae -->\n<g id=\"edge28\" class=\"edge\">\n<title>ac&#45;&#45;ae</title>\n<path fill=\"none\" stroke=\"#000000\" d=\"M298.9578,-287.3218C258.535,-294.1774 181.4447,-307.2516 141.0224,-314.1071\"/>\n</g>\n<!-- ad -->\n<g id=\"node10\" class=\"node\">\n<title>ad</title>\n<ellipse fill=\"none\" stroke=\"#000000\" cx=\"27\" cy=\"-241\" rx=\"27\" ry=\"18\"/>\n<text text-anchor=\"middle\" x=\"27\" y=\"-237.3\" font-family=\"Times,serif\" font-size=\"14.00\" fill=\"#000000\">ad</text>\n</g>\n<!-- ac&#45;&#45;ad -->\n<g id=\"edge11\" class=\"edge\">\n<title>ac&#45;&#45;ad</title>\n<path fill=\"none\" stroke=\"#000000\" d=\"M298.715,-279.1591C242.2735,-271.2326 110.5985,-252.7404 53.8305,-244.768\"/>\n</g>\n<!-- de -->\n<g id=\"node9\" class=\"node\">\n<title>de</title>\n<ellipse fill=\"none\" stroke=\"#000000\" cx=\"51.488\" cy=\"-58.6888\" rx=\"27\" ry=\"18\"/>\n<text text-anchor=\"middle\" x=\"51.488\" y=\"-54.9888\" font-family=\"Times,serif\" font-size=\"14.00\" fill=\"#000000\">de</text>\n</g>\n<!-- ce&#45;&#45;de -->\n<g id=\"edge26\" class=\"edge\">\n<title>ce&#45;&#45;de</title>\n<path fill=\"none\" stroke=\"#000000\" d=\"M309.938,-59.5558C255.5004,-59.3732 133.4811,-58.9638 78.8482,-58.7805\"/>\n</g>\n<!-- cd&#45;&#45;ce -->\n<g id=\"edge15\" class=\"edge\">\n<title>cd&#45;&#45;ce</title>\n<path fill=\"none\" stroke=\"#000000\" d=\"M244.0852,-26.5283C264.2614,-33.7152 292.9839,-43.9462 313.1512,-51.1299\"/>\n</g>\n<!-- cd&#45;&#45;de -->\n<g id=\"edge14\" class=\"edge\">\n<title>cd&#45;&#45;de</title>\n<path fill=\"none\" stroke=\"#000000\" d=\"M194.5278,-24.1797C162.7361,-31.8496 108.8423,-44.8518 77.0672,-52.5176\"/>\n</g>\n<!-- bd -->\n<g id=\"node4\" class=\"node\">\n<title>bd</title>\n<ellipse fill=\"none\" stroke=\"#000000\" cx=\"192.8285\" cy=\"-234.6579\" rx=\"27\" ry=\"18\"/>\n<text text-anchor=\"middle\" x=\"192.8285\" y=\"-230.9579\" font-family=\"Times,serif\" font-size=\"14.00\" fill=\"#000000\">bd</text>\n</g>\n<!-- bd&#45;&#45;cd -->\n<g id=\"edge3\" class=\"edge\">\n<title>bd&#45;&#45;cd</title>\n<path fill=\"none\" stroke=\"#000000\" d=\"M195.1103,-216.5585C200.2518,-175.7759 212.6947,-77.0782 217.8483,-36.2003\"/>\n</g>\n<!-- be -->\n<g id=\"node6\" class=\"node\">\n<title>be</title>\n<ellipse fill=\"none\" stroke=\"#000000\" cx=\"217.88\" cy=\"-143.9916\" rx=\"27\" ry=\"18\"/>\n<text text-anchor=\"middle\" x=\"217.88\" y=\"-140.2916\" font-family=\"Times,serif\" font-size=\"14.00\" fill=\"#000000\">be</text>\n</g>\n<!-- bd&#45;&#45;be -->\n<g id=\"edge24\" class=\"edge\">\n<title>bd&#45;&#45;be</title>\n<path fill=\"none\" stroke=\"#000000\" d=\"M197.7779,-216.7452C202.1697,-200.8502 208.5521,-177.751 212.9409,-161.8672\"/>\n</g>\n<!-- bd&#45;&#45;de -->\n<g id=\"edge9\" class=\"edge\">\n<title>bd&#45;&#45;de</title>\n<path fill=\"none\" stroke=\"#000000\" d=\"M180.0362,-218.7315C153.1945,-185.3136 91.2583,-108.2029 64.3532,-74.706\"/>\n</g>\n<!-- bc&#45;&#45;ce -->\n<g id=\"edge25\" class=\"edge\">\n<title>bc&#45;&#45;ce</title>\n<path fill=\"none\" stroke=\"#000000\" d=\"M421.5859,-178.6229C403.1115,-152.6184 367.197,-102.0654 348.6968,-76.0245\"/>\n</g>\n<!-- bc&#45;&#45;cd -->\n<g id=\"edge8\" class=\"edge\">\n<title>bc&#45;&#45;cd</title>\n<path fill=\"none\" stroke=\"#000000\" d=\"M416.1064,-180.7619C376.217,-147.6308 277.2673,-65.446 237.2977,-32.2484\"/>\n</g>\n<!-- bc&#45;&#45;bd -->\n<g id=\"edge13\" class=\"edge\">\n<title>bc&#45;&#45;bd</title>\n<path fill=\"none\" stroke=\"#000000\" d=\"M406.5399,-199.3447C360.2171,-206.999 265.3713,-222.6711 219.2217,-230.2968\"/>\n</g>\n<!-- bc&#45;&#45;be -->\n<g id=\"edge4\" class=\"edge\">\n<title>bc&#45;&#45;be</title>\n<path fill=\"none\" stroke=\"#000000\" d=\"M407.6368,-188.8979C366.2004,-179.0919 284.805,-159.8296 243.3899,-150.0286\"/>\n</g>\n<!-- be&#45;&#45;ce -->\n<g id=\"edge12\" class=\"edge\">\n<title>be&#45;&#45;ce</title>\n<path fill=\"none\" stroke=\"#000000\" d=\"M236.5021,-130.8128C258.7613,-115.0599 295.8021,-88.8461 318.1768,-73.0115\"/>\n</g>\n<!-- be&#45;&#45;de -->\n<g id=\"edge29\" class=\"edge\">\n<title>be&#45;&#45;de</title>\n<path fill=\"none\" stroke=\"#000000\" d=\"M196.4678,-133.0144C164.6061,-116.6802 105.0479,-86.1469 73.0815,-69.759\"/>\n</g>\n<!-- ab -->\n<g id=\"node7\" class=\"node\">\n<title>ab</title>\n<ellipse fill=\"none\" stroke=\"#000000\" cx=\"249.8094\" cy=\"-412.0519\" rx=\"27\" ry=\"18\"/>\n<text text-anchor=\"middle\" x=\"249.8094\" y=\"-408.3519\" font-family=\"Times,serif\" font-size=\"14.00\" fill=\"#000000\">ab</text>\n</g>\n<!-- ab&#45;&#45;ac -->\n<g id=\"edge27\" class=\"edge\">\n<title>ab&#45;&#45;ac</title>\n<path fill=\"none\" stroke=\"#000000\" d=\"M259.6623,-395.1643C274.1062,-370.4077 300.8755,-324.526 315.3208,-299.767\"/>\n</g>\n<!-- ab&#45;&#45;bd -->\n<g id=\"edge16\" class=\"edge\">\n<title>ab&#45;&#45;bd</title>\n<path fill=\"none\" stroke=\"#000000\" d=\"M244.1375,-394.3941C233.2436,-360.4789 209.5042,-286.573 198.562,-252.5076\"/>\n</g>\n<!-- ab&#45;&#45;bc -->\n<g id=\"edge19\" class=\"edge\">\n<title>ab&#45;&#45;bc</title>\n<path fill=\"none\" stroke=\"#000000\" d=\"M263.2931,-396.0873C297.2866,-355.8393 386.1767,-250.5942 419.9239,-210.6379\"/>\n</g>\n<!-- ab&#45;&#45;be -->\n<g id=\"edge5\" class=\"edge\">\n<title>ab&#45;&#45;be</title>\n<path fill=\"none\" stroke=\"#000000\" d=\"M247.6648,-394.0474C241.8621,-345.3316 225.8979,-211.3055 220.0572,-162.2707\"/>\n</g>\n<!-- ab&#45;&#45;ae -->\n<g id=\"edge23\" class=\"edge\">\n<title>ab&#45;&#45;ae</title>\n<path fill=\"none\" stroke=\"#000000\" d=\"M231.0376,-399.0513C205.3895,-381.2885 159.6438,-349.607 133.8525,-331.7451\"/>\n</g>\n<!-- ab&#45;&#45;ad -->\n<g id=\"edge18\" class=\"edge\">\n<title>ab&#45;&#45;ad</title>\n<path fill=\"none\" stroke=\"#000000\" d=\"M231.9526,-398.3431C190.2334,-366.3151 86.7448,-286.8664 44.9418,-254.774\"/>\n</g>\n<!-- ae&#45;&#45;ce -->\n<g id=\"edge20\" class=\"edge\">\n<title>ae&#45;&#45;ce</title>\n<path fill=\"none\" stroke=\"#000000\" d=\"M128.3735,-302.7475C168.0521,-256.5259 283.5763,-121.9517 323.3881,-75.5749\"/>\n</g>\n<!-- ae&#45;&#45;be -->\n<g id=\"edge7\" class=\"edge\">\n<title>ae&#45;&#45;be</title>\n<path fill=\"none\" stroke=\"#000000\" d=\"M124.8759,-301.498C144.6321,-268.04 188.2534,-194.1656 207.9199,-160.8594\"/>\n</g>\n<!-- ae&#45;&#45;de -->\n<g id=\"edge6\" class=\"edge\">\n<title>ae&#45;&#45;de</title>\n<path fill=\"none\" stroke=\"#000000\" d=\"M110.4529,-300.692C98.8859,-253.2187 67.4722,-124.2911 55.8705,-76.6753\"/>\n</g>\n<!-- ad&#45;&#45;cd -->\n<g id=\"edge10\" class=\"edge\">\n<title>ad&#45;&#45;cd</title>\n<path fill=\"none\" stroke=\"#000000\" d=\"M40.5814,-225.3191C76.0441,-184.3744 171.1305,-74.5889 206.5764,-33.6636\"/>\n</g>\n<!-- ad&#45;&#45;bd -->\n<g id=\"edge21\" class=\"edge\">\n<title>ad&#45;&#45;bd</title>\n<path fill=\"none\" stroke=\"#000000\" d=\"M54.0123,-239.9669C84.8491,-238.7876 134.9958,-236.8697 165.8278,-235.6906\"/>\n</g>\n<!-- ad&#45;&#45;ae -->\n<g id=\"edge17\" class=\"edge\">\n<title>ad&#45;&#45;ae</title>\n<path fill=\"none\" stroke=\"#000000\" d=\"M43.5154,-255.5872C59.2136,-269.4526 82.6899,-290.188 98.3636,-304.0317\"/>\n</g>\n<!-- ad&#45;&#45;de -->\n<g id=\"edge30\" class=\"edge\">\n<title>ad&#45;&#45;de</title>\n<path fill=\"none\" stroke=\"#000000\" d=\"M29.4375,-222.8528C34.1314,-187.9074 44.3742,-111.65 49.0603,-76.7626\"/>\n</g>\n</g>\n</svg>\n"
          },
          "metadata": {
            "tags": []
          },
          "execution_count": 9
        }
      ]
    },
    {
      "cell_type": "markdown",
      "metadata": {
        "id": "GEXgbcgX_xhw"
      },
      "source": [
        "### Complementing the Line Graph"
      ]
    },
    {
      "cell_type": "code",
      "metadata": {
        "id": "-3fpKQdf-0r9",
        "outputId": "e9f1000e-d21a-4a94-dfef-6c75e3568ac5",
        "colab": {
          "base_uri": "https://localhost:8080/",
          "height": 614
        }
      },
      "source": [
        "complete_graph_links = generate_complete_graph_links(line_graph.get_nodes())\n",
        "complement_links = list(set(complete_graph_links).difference(set(line_graph.get_links())))\n",
        "\n",
        "print(f'{len(set(complete_graph_links))} - {len(set(line_graph.get_links()))} = {len(complement_links)}')\n",
        "print(complement_links)\n",
        "\n",
        "complement = Graph(line_graph.get_nodes(), complement_links)\n",
        "display_order = [5, 2, 3, 7, 4, 6, 0, 8, 1, 9] # This was manually configured\n",
        "display_graph_as_peterson(complement, display_order)"
      ],
      "execution_count": 10,
      "outputs": [
        {
          "output_type": "stream",
          "text": [
            "45 - 30 = 15\n",
            "[('ac', 'de'), ('bd', 'ce'), ('bc', 'de'), ('ac', 'be'), ('ab', 'cd'), ('ae', 'bd'), ('ad', 'be'), ('ab', 'de'), ('ab', 'ce'), ('be', 'cd'), ('ad', 'ce'), ('ae', 'cd'), ('ad', 'bc'), ('ae', 'bc'), ('ac', 'bd')]\n"
          ],
          "name": "stdout"
        },
        {
          "output_type": "execute_result",
          "data": {
            "text/plain": [
              "<graphviz.dot.Graph at 0x7f5eb4584a50>"
            ],
            "image/svg+xml": "<?xml version=\"1.0\" encoding=\"UTF-8\" standalone=\"no\"?>\n<!DOCTYPE svg PUBLIC \"-//W3C//DTD SVG 1.1//EN\"\n \"http://www.w3.org/Graphics/SVG/1.1/DTD/svg11.dtd\">\n<!-- Generated by graphviz version 2.40.1 (20161225.0304)\n -->\n<!-- Title: %3 Pages: 1 -->\n<svg width=\"494pt\" height=\"404pt\"\n viewBox=\"0.00 0.00 494.00 404.00\" xmlns=\"http://www.w3.org/2000/svg\" xmlns:xlink=\"http://www.w3.org/1999/xlink\">\n<g id=\"graph0\" class=\"graph\" transform=\"scale(1 1) rotate(0) translate(4 400)\">\n<title>%3</title>\n<polygon fill=\"#ffffff\" stroke=\"transparent\" points=\"-4,4 -4,-400 490,-400 490,4 -4,4\"/>\n<!-- ae -->\n<g id=\"node1\" class=\"node\">\n<title>ae</title>\n<ellipse fill=\"none\" stroke=\"#000000\" cx=\"243\" cy=\"-378\" rx=\"27\" ry=\"18\"/>\n<text text-anchor=\"middle\" x=\"243\" y=\"-374.3\" font-family=\"Times,serif\" font-size=\"14.00\" fill=\"#000000\">ae</text>\n</g>\n<!-- bd -->\n<g id=\"node7\" class=\"node\">\n<title>bd</title>\n<ellipse fill=\"none\" stroke=\"#000000\" cx=\"135\" cy=\"-198\" rx=\"27\" ry=\"18\"/>\n<text text-anchor=\"middle\" x=\"135\" y=\"-194.3\" font-family=\"Times,serif\" font-size=\"14.00\" fill=\"#000000\">bd</text>\n</g>\n<!-- ae&#45;&#45;bd -->\n<g id=\"edge6\" class=\"edge\">\n<title>ae&#45;&#45;bd</title>\n<path fill=\"none\" stroke=\"#000000\" d=\"M232.8396,-361.066C212.2032,-326.672 165.6021,-249.0036 145.0547,-214.7578\"/>\n</g>\n<!-- bc -->\n<g id=\"node9\" class=\"node\">\n<title>bc</title>\n<ellipse fill=\"none\" stroke=\"#000000\" cx=\"171\" cy=\"-90\" rx=\"27\" ry=\"18\"/>\n<text text-anchor=\"middle\" x=\"171\" y=\"-86.3\" font-family=\"Times,serif\" font-size=\"14.00\" fill=\"#000000\">bc</text>\n</g>\n<!-- ae&#45;&#45;bc -->\n<g id=\"edge13\" class=\"edge\">\n<title>ae&#45;&#45;bc</title>\n<path fill=\"none\" stroke=\"#000000\" d=\"M238.4961,-359.9843C225.5659,-308.2634 188.4303,-159.7213 175.5022,-108.0089\"/>\n</g>\n<!-- cd -->\n<g id=\"node10\" class=\"node\">\n<title>cd</title>\n<ellipse fill=\"none\" stroke=\"#000000\" cx=\"315\" cy=\"-90\" rx=\"27\" ry=\"18\"/>\n<text text-anchor=\"middle\" x=\"315\" y=\"-86.3\" font-family=\"Times,serif\" font-size=\"14.00\" fill=\"#000000\">cd</text>\n</g>\n<!-- ae&#45;&#45;cd -->\n<g id=\"edge12\" class=\"edge\">\n<title>ae&#45;&#45;cd</title>\n<path fill=\"none\" stroke=\"#000000\" d=\"M247.5039,-359.9843C260.4341,-308.2634 297.5697,-159.7213 310.4978,-108.0089\"/>\n</g>\n<!-- ac -->\n<g id=\"node2\" class=\"node\">\n<title>ac</title>\n<ellipse fill=\"none\" stroke=\"#000000\" cx=\"27\" cy=\"-234\" rx=\"27\" ry=\"18\"/>\n<text text-anchor=\"middle\" x=\"27\" y=\"-230.3\" font-family=\"Times,serif\" font-size=\"14.00\" fill=\"#000000\">ac</text>\n</g>\n<!-- be -->\n<g id=\"node5\" class=\"node\">\n<title>be</title>\n<ellipse fill=\"none\" stroke=\"#000000\" cx=\"387\" cy=\"-18\" rx=\"27\" ry=\"18\"/>\n<text text-anchor=\"middle\" x=\"387\" y=\"-14.3\" font-family=\"Times,serif\" font-size=\"14.00\" fill=\"#000000\">be</text>\n</g>\n<!-- ac&#45;&#45;be -->\n<g id=\"edge4\" class=\"edge\">\n<title>ac&#45;&#45;be</title>\n<path fill=\"none\" stroke=\"#000000\" d=\"M47.1266,-221.9241C110.2061,-184.0763 303.6036,-68.0379 366.7933,-30.124\"/>\n</g>\n<!-- ac&#45;&#45;bd -->\n<g id=\"edge15\" class=\"edge\">\n<title>ac&#45;&#45;bd</title>\n<path fill=\"none\" stroke=\"#000000\" d=\"M51.2373,-225.9209C69.024,-219.992 93.0759,-211.9747 110.8436,-206.0521\"/>\n</g>\n<!-- de -->\n<g id=\"node8\" class=\"node\">\n<title>de</title>\n<ellipse fill=\"none\" stroke=\"#000000\" cx=\"351\" cy=\"-198\" rx=\"27\" ry=\"18\"/>\n<text text-anchor=\"middle\" x=\"351\" y=\"-194.3\" font-family=\"Times,serif\" font-size=\"14.00\" fill=\"#000000\">de</text>\n</g>\n<!-- ac&#45;&#45;de -->\n<g id=\"edge1\" class=\"edge\">\n<title>ac&#45;&#45;de</title>\n<path fill=\"none\" stroke=\"#000000\" d=\"M53.7899,-231.0233C114.7387,-224.2513 263.2,-207.7556 324.1788,-200.9801\"/>\n</g>\n<!-- ab -->\n<g id=\"node3\" class=\"node\">\n<title>ab</title>\n<ellipse fill=\"none\" stroke=\"#000000\" cx=\"459\" cy=\"-234\" rx=\"27\" ry=\"18\"/>\n<text text-anchor=\"middle\" x=\"459\" y=\"-230.3\" font-family=\"Times,serif\" font-size=\"14.00\" fill=\"#000000\">ab</text>\n</g>\n<!-- ce -->\n<g id=\"node6\" class=\"node\">\n<title>ce</title>\n<ellipse fill=\"none\" stroke=\"#000000\" cx=\"243\" cy=\"-270\" rx=\"27\" ry=\"18\"/>\n<text text-anchor=\"middle\" x=\"243\" y=\"-266.3\" font-family=\"Times,serif\" font-size=\"14.00\" fill=\"#000000\">ce</text>\n</g>\n<!-- ab&#45;&#45;ce -->\n<g id=\"edge7\" class=\"edge\">\n<title>ab&#45;&#45;ce</title>\n<path fill=\"none\" stroke=\"#000000\" d=\"M432.5142,-238.4143C390.9453,-245.3425 310.8579,-258.6904 269.3643,-265.606\"/>\n</g>\n<!-- ab&#45;&#45;de -->\n<g id=\"edge8\" class=\"edge\">\n<title>ab&#45;&#45;de</title>\n<path fill=\"none\" stroke=\"#000000\" d=\"M434.7627,-225.9209C416.976,-219.992 392.9241,-211.9747 375.1564,-206.0521\"/>\n</g>\n<!-- ab&#45;&#45;cd -->\n<g id=\"edge5\" class=\"edge\">\n<title>ab&#45;&#45;cd</title>\n<path fill=\"none\" stroke=\"#000000\" d=\"M443.8616,-218.8617C416.2775,-191.2775 358.1225,-133.1225 330.3689,-105.3689\"/>\n</g>\n<!-- ad -->\n<g id=\"node4\" class=\"node\">\n<title>ad</title>\n<ellipse fill=\"none\" stroke=\"#000000\" cx=\"99\" cy=\"-18\" rx=\"27\" ry=\"18\"/>\n<text text-anchor=\"middle\" x=\"99\" y=\"-14.3\" font-family=\"Times,serif\" font-size=\"14.00\" fill=\"#000000\">ad</text>\n</g>\n<!-- ad&#45;&#45;be -->\n<g id=\"edge9\" class=\"edge\">\n<title>ad&#45;&#45;be</title>\n<path fill=\"none\" stroke=\"#000000\" d=\"M126.0943,-18C180.9848,-18 304.7623,-18 359.7679,-18\"/>\n</g>\n<!-- ad&#45;&#45;ce -->\n<g id=\"edge14\" class=\"edge\">\n<title>ad&#45;&#45;ce</title>\n<path fill=\"none\" stroke=\"#000000\" d=\"M108.6718,-34.9257C134.9047,-80.8332 207.1867,-207.3268 233.3703,-253.1479\"/>\n</g>\n<!-- ad&#45;&#45;bc -->\n<g id=\"edge11\" class=\"edge\">\n<title>ad&#45;&#45;bc</title>\n<path fill=\"none\" stroke=\"#000000\" d=\"M114.2693,-33.2693C126.488,-45.488 143.5398,-62.5398 155.7527,-74.7527\"/>\n</g>\n<!-- be&#45;&#45;cd -->\n<g id=\"edge10\" class=\"edge\">\n<title>be&#45;&#45;cd</title>\n<path fill=\"none\" stroke=\"#000000\" d=\"M371.7307,-33.2693C359.512,-45.488 342.4602,-62.5398 330.2473,-74.7527\"/>\n</g>\n<!-- bd&#45;&#45;ce -->\n<g id=\"edge2\" class=\"edge\">\n<title>bd&#45;&#45;ce</title>\n<path fill=\"none\" stroke=\"#000000\" d=\"M154.3082,-210.8722C173.9663,-223.9776 204.2614,-244.1743 223.8589,-257.2393\"/>\n</g>\n<!-- bc&#45;&#45;de -->\n<g id=\"edge3\" class=\"edge\">\n<title>bc&#45;&#45;de</title>\n<path fill=\"none\" stroke=\"#000000\" d=\"M191.2984,-102.179C225.9607,-122.9764 296.1642,-165.0985 330.7758,-185.8655\"/>\n</g>\n</g>\n</svg>\n"
          },
          "metadata": {
            "tags": []
          },
          "execution_count": 10
        }
      ]
    },
    {
      "cell_type": "markdown",
      "metadata": {
        "id": "WsWcqmiT_6Lu"
      },
      "source": [
        "### Petersen Graph"
      ]
    },
    {
      "cell_type": "code",
      "metadata": {
        "id": "QLE8i79X_0fX",
        "outputId": "1fe3c50d-9e03-45ef-9384-05f7090838fa",
        "colab": {
          "base_uri": "https://localhost:8080/",
          "height": 558
        }
      },
      "source": [
        "# Compare the above graph with the Peterson graph.\n",
        "# They should be identical (except for the node names).\n",
        "nodes = ['a', 'b', 'c', 'd', 'e', 'f', 'g', 'h', 'i', 'j']\n",
        "links = ['af', 'ac', 'ad', 'bg', 'bd', 'be', 'ch', 'ce', 'di', 'ej', 'fg', 'fj', 'gh', 'hi', 'ij']\n",
        "petersen = Graph(nodes, links)\n",
        "display_order = [0, 3, 2, 1, 4, 5, 8, 7, 6, 9] # This was manually configured\n",
        "display_graph_as_peterson(petersen, display_order)"
      ],
      "execution_count": 11,
      "outputs": [
        {
          "output_type": "execute_result",
          "data": {
            "text/plain": [
              "<graphviz.dot.Graph at 0x7f5eb4596390>"
            ],
            "image/svg+xml": "<?xml version=\"1.0\" encoding=\"UTF-8\" standalone=\"no\"?>\n<!DOCTYPE svg PUBLIC \"-//W3C//DTD SVG 1.1//EN\"\n \"http://www.w3.org/Graphics/SVG/1.1/DTD/svg11.dtd\">\n<!-- Generated by graphviz version 2.40.1 (20161225.0304)\n -->\n<!-- Title: %3 Pages: 1 -->\n<svg width=\"494pt\" height=\"404pt\"\n viewBox=\"0.00 0.00 494.00 404.00\" xmlns=\"http://www.w3.org/2000/svg\" xmlns:xlink=\"http://www.w3.org/1999/xlink\">\n<g id=\"graph0\" class=\"graph\" transform=\"scale(1 1) rotate(0) translate(4 400)\">\n<title>%3</title>\n<polygon fill=\"#ffffff\" stroke=\"transparent\" points=\"-4,4 -4,-400 490,-400 490,4 -4,4\"/>\n<!-- a -->\n<g id=\"node1\" class=\"node\">\n<title>a</title>\n<ellipse fill=\"none\" stroke=\"#000000\" cx=\"243\" cy=\"-378\" rx=\"27\" ry=\"18\"/>\n<text text-anchor=\"middle\" x=\"243\" y=\"-374.3\" font-family=\"Times,serif\" font-size=\"14.00\" fill=\"#000000\">a</text>\n</g>\n<!-- d -->\n<g id=\"node2\" class=\"node\">\n<title>d</title>\n<ellipse fill=\"none\" stroke=\"#000000\" cx=\"27\" cy=\"-234\" rx=\"27\" ry=\"18\"/>\n<text text-anchor=\"middle\" x=\"27\" y=\"-230.3\" font-family=\"Times,serif\" font-size=\"14.00\" fill=\"#000000\">d</text>\n</g>\n<!-- a&#45;&#45;d -->\n<g id=\"edge13\" class=\"edge\">\n<title>a&#45;&#45;d</title>\n<path fill=\"none\" stroke=\"#000000\" d=\"M223.8314,-365.221C182.8417,-337.8945 87.077,-274.0513 46.1256,-246.7504\"/>\n</g>\n<!-- c -->\n<g id=\"node3\" class=\"node\">\n<title>c</title>\n<ellipse fill=\"none\" stroke=\"#000000\" cx=\"459\" cy=\"-234\" rx=\"27\" ry=\"18\"/>\n<text text-anchor=\"middle\" x=\"459\" y=\"-230.3\" font-family=\"Times,serif\" font-size=\"14.00\" fill=\"#000000\">c</text>\n</g>\n<!-- a&#45;&#45;c -->\n<g id=\"edge6\" class=\"edge\">\n<title>a&#45;&#45;c</title>\n<path fill=\"none\" stroke=\"#000000\" d=\"M262.1686,-365.221C303.1583,-337.8945 398.923,-274.0513 439.8744,-246.7504\"/>\n</g>\n<!-- f -->\n<g id=\"node6\" class=\"node\">\n<title>f</title>\n<ellipse fill=\"none\" stroke=\"#000000\" cx=\"243\" cy=\"-270\" rx=\"27\" ry=\"18\"/>\n<text text-anchor=\"middle\" x=\"243\" y=\"-266.3\" font-family=\"Times,serif\" font-size=\"14.00\" fill=\"#000000\">f</text>\n</g>\n<!-- a&#45;&#45;f -->\n<g id=\"edge10\" class=\"edge\">\n<title>a&#45;&#45;f</title>\n<path fill=\"none\" stroke=\"#000000\" d=\"M243,-359.6793C243,-339.699 243,-307.9231 243,-288.0502\"/>\n</g>\n<!-- i -->\n<g id=\"node7\" class=\"node\">\n<title>i</title>\n<ellipse fill=\"none\" stroke=\"#000000\" cx=\"135\" cy=\"-198\" rx=\"27\" ry=\"18\"/>\n<text text-anchor=\"middle\" x=\"135\" y=\"-194.3\" font-family=\"Times,serif\" font-size=\"14.00\" fill=\"#000000\">i</text>\n</g>\n<!-- d&#45;&#45;i -->\n<g id=\"edge9\" class=\"edge\">\n<title>d&#45;&#45;i</title>\n<path fill=\"none\" stroke=\"#000000\" d=\"M51.2373,-225.9209C69.024,-219.992 93.0759,-211.9747 110.8436,-206.0521\"/>\n</g>\n<!-- e -->\n<g id=\"node5\" class=\"node\">\n<title>e</title>\n<ellipse fill=\"none\" stroke=\"#000000\" cx=\"387\" cy=\"-18\" rx=\"27\" ry=\"18\"/>\n<text text-anchor=\"middle\" x=\"387\" y=\"-14.3\" font-family=\"Times,serif\" font-size=\"14.00\" fill=\"#000000\">e</text>\n</g>\n<!-- c&#45;&#45;e -->\n<g id=\"edge12\" class=\"edge\">\n<title>c&#45;&#45;e</title>\n<path fill=\"none\" stroke=\"#000000\" d=\"M453.1079,-216.3238C439.573,-175.7191 406.3884,-76.1653 392.8725,-35.6175\"/>\n</g>\n<!-- h -->\n<g id=\"node8\" class=\"node\">\n<title>h</title>\n<ellipse fill=\"none\" stroke=\"#000000\" cx=\"351\" cy=\"-198\" rx=\"27\" ry=\"18\"/>\n<text text-anchor=\"middle\" x=\"351\" y=\"-194.3\" font-family=\"Times,serif\" font-size=\"14.00\" fill=\"#000000\">h</text>\n</g>\n<!-- c&#45;&#45;h -->\n<g id=\"edge1\" class=\"edge\">\n<title>c&#45;&#45;h</title>\n<path fill=\"none\" stroke=\"#000000\" d=\"M434.7627,-225.9209C416.976,-219.992 392.9241,-211.9747 375.1564,-206.0521\"/>\n</g>\n<!-- b -->\n<g id=\"node4\" class=\"node\">\n<title>b</title>\n<ellipse fill=\"none\" stroke=\"#000000\" cx=\"99\" cy=\"-18\" rx=\"27\" ry=\"18\"/>\n<text text-anchor=\"middle\" x=\"99\" y=\"-14.3\" font-family=\"Times,serif\" font-size=\"14.00\" fill=\"#000000\">b</text>\n</g>\n<!-- b&#45;&#45;d -->\n<g id=\"edge2\" class=\"edge\">\n<title>b&#45;&#45;d</title>\n<path fill=\"none\" stroke=\"#000000\" d=\"M93.1079,-35.6762C79.573,-76.2809 46.3884,-175.8347 32.8725,-216.3825\"/>\n</g>\n<!-- b&#45;&#45;e -->\n<g id=\"edge7\" class=\"edge\">\n<title>b&#45;&#45;e</title>\n<path fill=\"none\" stroke=\"#000000\" d=\"M126.0943,-18C180.9848,-18 304.7623,-18 359.7679,-18\"/>\n</g>\n<!-- g -->\n<g id=\"node9\" class=\"node\">\n<title>g</title>\n<ellipse fill=\"none\" stroke=\"#000000\" cx=\"171\" cy=\"-90\" rx=\"27\" ry=\"18\"/>\n<text text-anchor=\"middle\" x=\"171\" y=\"-86.3\" font-family=\"Times,serif\" font-size=\"14.00\" fill=\"#000000\">g</text>\n</g>\n<!-- b&#45;&#45;g -->\n<g id=\"edge3\" class=\"edge\">\n<title>b&#45;&#45;g</title>\n<path fill=\"none\" stroke=\"#000000\" d=\"M114.2693,-33.2693C126.488,-45.488 143.5398,-62.5398 155.7527,-74.7527\"/>\n</g>\n<!-- j -->\n<g id=\"node10\" class=\"node\">\n<title>j</title>\n<ellipse fill=\"none\" stroke=\"#000000\" cx=\"315\" cy=\"-90\" rx=\"27\" ry=\"18\"/>\n<text text-anchor=\"middle\" x=\"315\" y=\"-86.3\" font-family=\"Times,serif\" font-size=\"14.00\" fill=\"#000000\">j</text>\n</g>\n<!-- e&#45;&#45;j -->\n<g id=\"edge4\" class=\"edge\">\n<title>e&#45;&#45;j</title>\n<path fill=\"none\" stroke=\"#000000\" d=\"M371.7307,-33.2693C359.512,-45.488 342.4602,-62.5398 330.2473,-74.7527\"/>\n</g>\n<!-- f&#45;&#45;g -->\n<g id=\"edge14\" class=\"edge\">\n<title>f&#45;&#45;g</title>\n<path fill=\"none\" stroke=\"#000000\" d=\"M235.9652,-252.4131C222.1651,-217.9128 191.6948,-141.737 177.9573,-107.3933\"/>\n</g>\n<!-- f&#45;&#45;j -->\n<g id=\"edge11\" class=\"edge\">\n<title>f&#45;&#45;j</title>\n<path fill=\"none\" stroke=\"#000000\" d=\"M250.0348,-252.4131C263.8349,-217.9128 294.3052,-141.737 308.0427,-107.3933\"/>\n</g>\n<!-- i&#45;&#45;j -->\n<g id=\"edge5\" class=\"edge\">\n<title>i&#45;&#45;j</title>\n<path fill=\"none\" stroke=\"#000000\" d=\"M155.2984,-185.821C189.9607,-165.0236 260.1642,-122.9015 294.7758,-102.1345\"/>\n</g>\n<!-- h&#45;&#45;i -->\n<g id=\"edge8\" class=\"edge\">\n<title>h&#45;&#45;i</title>\n<path fill=\"none\" stroke=\"#000000\" d=\"M323.6435,-198C282.0949,-198 203.5507,-198 162.1344,-198\"/>\n</g>\n<!-- g&#45;&#45;h -->\n<g id=\"edge15\" class=\"edge\">\n<title>g&#45;&#45;h</title>\n<path fill=\"none\" stroke=\"#000000\" d=\"M191.2984,-102.179C225.9607,-122.9764 296.1642,-165.0985 330.7758,-185.8655\"/>\n</g>\n</g>\n</svg>\n"
          },
          "metadata": {
            "tags": []
          },
          "execution_count": 11
        }
      ]
    }
  ]
}