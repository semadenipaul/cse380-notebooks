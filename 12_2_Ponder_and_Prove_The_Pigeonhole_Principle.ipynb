{
  "nbformat": 4,
  "nbformat_minor": 0,
  "metadata": {
    "colab": {
      "name": "12_2_Ponder_and_Prove_The_Pigeonhole_Principle.ipynb",
      "provenance": [],
      "include_colab_link": true
    },
    "kernelspec": {
      "name": "python3",
      "display_name": "Python 3"
    },
    "language_info": {
      "name": "python"
    }
  },
  "cells": [
    {
      "cell_type": "markdown",
      "metadata": {
        "id": "view-in-github",
        "colab_type": "text"
      },
      "source": [
        "<a href=\"https://colab.research.google.com/github/semadenipaul/cse380-notebooks/blob/master/12_2_Ponder_and_Prove_The_Pigeonhole_Principle.ipynb\" target=\"_parent\"><img src=\"https://colab.research.google.com/assets/colab-badge.svg\" alt=\"Open In Colab\"/></a>"
      ]
    },
    {
      "cell_type": "markdown",
      "metadata": {
        "id": "ivY_Ypmxx7Vm"
      },
      "source": [
        "# Ponder and Prove The Pigeonhole Principle\n",
        "## Due: Saturday, 27 March 2021"
      ]
    },
    {
      "cell_type": "markdown",
      "metadata": {
        "id": "zF2K38sxyH5Z"
      },
      "source": [
        "## Exploration"
      ]
    },
    {
      "cell_type": "markdown",
      "metadata": {
        "id": "uBgYLYK5yJzk"
      },
      "source": [
        "You are invited to explore some of the ramifications of the *Pigeonhole Principle*, a fascinating counting principle belonging to combinatorics.\n"
      ]
    },
    {
      "cell_type": "markdown",
      "metadata": {
        "id": "cIS4n3DpyXA1"
      },
      "source": [
        "### Requirements"
      ]
    },
    {
      "cell_type": "markdown",
      "metadata": {
        "id": "FqgealMfyZc8"
      },
      "source": [
        "Read Brother Kent Bessey's essay entitled *Pigeons and Pigeonholes*, think about and explore the topics therein, and write your response thereto.\n",
        "\n",
        "Include in your response a description of a discussion about this essay that you will have had with someone *not in the class* (nor in any of the STEM majors). This person can be a spouse, friend, roommate, or relative. The point is to find someone who is not mathematically strong, and has probably never heard of the Pigeonhole Principle, or combinatorics (or discrete mathematics) in general."
      ]
    },
    {
      "cell_type": "markdown",
      "metadata": {
        "id": "aPEEcqUGzFds"
      },
      "source": [
        "#### Copyright Note"
      ]
    },
    {
      "cell_type": "markdown",
      "metadata": {
        "id": "9EPgpQ0hzHr5"
      },
      "source": [
        "Brother Kent A. Bessey, Professor of Mathematics at BYU-Idaho, holds the copyright to this essay, which means:\n",
        "\n",
        "> All rights reserved (by him). Reproduced by permission (from him).\n",
        "Read-only. Please do not copy, print, transmit or save a copy of\n",
        "this work.\n",
        "\n",
        "He has authorized your temporary use of his work, which [you can find here](https://firstthreeodds.org/17657741833134731255/pigeons-and-pigeonholes.pdf)."
      ]
    },
    {
      "cell_type": "markdown",
      "metadata": {
        "id": "vRKIt3NOzkwH"
      },
      "source": [
        "### TODO Concretize the Abstract by Writing Some Code"
      ]
    },
    {
      "cell_type": "markdown",
      "metadata": {
        "id": "ngXSoVu3znIJ"
      },
      "source": [
        "Specifically, write some Python code to help you figure out the problem on page 40, which Brother Bessey prefaces by saying:\n",
        "\n",
        "> I leave it to the reader to verify the calculations for a final (albeit challenging) exercise ...!\n",
        "\n",
        "Include the results of your grappling with this problem, and note the two stubbed functions below that you must flesh out in order to verify the calculations and explain the hows and whys."
      ]
    },
    {
      "cell_type": "markdown",
      "metadata": {
        "id": "EBQNhzqGzzIF"
      },
      "source": [
        "#### Stub Code"
      ]
    },
    {
      "cell_type": "code",
      "metadata": {
        "id": "fCOUkHjqz10k"
      },
      "source": [
        "# We have 26 * 27 * 26 total possible initials in this scenario. That totals to 18,252 total initials.\n",
        "# We also have 6 true or false statements represented as bitstrings which is 2**6 or 64 possible combinations.\n",
        "# If we multiply (and) those two together we get 18,252 * 64 = 1,168,128. \n",
        "# Since there are about 1,787,065 people in Idaho, we can divide 1,787,065 / 1,168,128. We then take the cieiling of this number and get 2.\n",
        "# Thus, there are at least 2 people who have the same initials and have the same answers for the true or false questions. \n",
        "\n",
        "\n",
        "\n",
        "# LDS: 0 | 1\n",
        "# Like Cats: 0 | 1\n",
        "# Bite Fingernails: 0 | 1\n",
        "# Wear Contacts: 0 | 1\n",
        "# Born before 1967: 0 | 1\n",
        "# Live 3 1/2 miles or closer to Mcdonalds: 0 | 1\n",
        "# 64 possibilities. (2**6)\n",
        "# There are at least 2 people who meet our problem.\n",
        "from math import ceil\n",
        "\n",
        "# n = number of people to check against. In this case it is the number of letters in the alphabet.\n",
        "def calculate_number_of_possible_initials_including_middle_initial_if_any(n):\n",
        "  return (n ** 2) * (n + 1) \n",
        "\n",
        "def pigeonhole_from_pigeon(pigeon):\n",
        "  tf_categories = ['LDS', 'Likes Cats', 'Born Before', 'Wears Contacts', 'Bites Fingernails', 'Lives Close']\n",
        "  name = pigeon['Name'].split(' ')\n",
        "  final = name[0][0] + (name[1][0] if len(name) > 2 else ' ') + name[-1][0] + ':' + ''.join([str(int(pigeon[x])) for x in tf_categories])\n",
        "  assert(len(final) == 10)\n",
        "  assert(calculate_number_of_possible_initials_including_middle_initial_if_any(26) * 64 > 1000000)\n",
        "  return final"
      ],
      "execution_count": null,
      "outputs": []
    },
    {
      "cell_type": "code",
      "metadata": {
        "id": "LfSBvzOn02NJ",
        "colab": {
          "base_uri": "https://localhost:8080/"
        },
        "outputId": "07ff110e-49f9-4ad6-d39d-f755fad77704"
      },
      "source": [
        "calculate_number_of_possible_initials_including_middle_initial_if_any(26)"
      ],
      "execution_count": null,
      "outputs": [
        {
          "output_type": "execute_result",
          "data": {
            "text/plain": [
              "18252"
            ]
          },
          "metadata": {
            "tags": []
          },
          "execution_count": 6
        }
      ]
    },
    {
      "cell_type": "code",
      "metadata": {
        "id": "IcGynSWr1Bja",
        "colab": {
          "base_uri": "https://localhost:8080/",
          "height": 35
        },
        "outputId": "38ffa5d4-d40c-46a6-e021-5160e2080e1e"
      },
      "source": [
        "pigeon = {'Name': 'John Doe', 'LDS': True, 'Likes Cats': True, 'Born Before': True, 'Wears Contacts': False, 'Bites Fingernails': False, 'Lives Close': True}\n",
        "\n",
        "pigeonhole_from_pigeon(pigeon)"
      ],
      "execution_count": null,
      "outputs": [
        {
          "output_type": "execute_result",
          "data": {
            "application/vnd.google.colaboratory.intrinsic+json": {
              "type": "string"
            },
            "text/plain": [
              "'J D:111001'"
            ]
          },
          "metadata": {
            "tags": []
          },
          "execution_count": 7
        }
      ]
    },
    {
      "cell_type": "markdown",
      "metadata": {
        "id": "JvMpIHMF0JuM"
      },
      "source": [
        "### TODO Find Applications of the Pigeonhole Principle"
      ]
    },
    {
      "cell_type": "markdown",
      "metadata": {
        "id": "9aicPoZG0Lbj"
      },
      "source": [
        "One major application of the Pigeonhole Principle in graph theory is the possible number of nodes that have the same degree. In a graph, there are $n$ nodes and $n - 1$ degrees. There is a graph theorem that states \"in any graph with at least two nodes, there are at least two nodes of the same degree\" [1].\n",
        "\n",
        "[1] http://web.stanford.edu/class/archive/cs/cs103/cs103.1184/lectures/11/Small11.pdf"
      ]
    },
    {
      "cell_type": "markdown",
      "metadata": {
        "id": "81dbKwHenxnT"
      },
      "source": [
        "## TODO My Report on What I Did and What I Learned"
      ]
    },
    {
      "cell_type": "markdown",
      "metadata": {
        "id": "C8BeiIern33B"
      },
      "source": [
        "### Fun\n"
      ]
    },
    {
      "cell_type": "markdown",
      "metadata": {
        "id": "ElukRLoezyxd"
      },
      "source": [
        "I had a lot of fun learning about The Pigeonhole Principle. How awesome is it that you can draw certain conclusions based on the number of \"pigeons\" and the number of \"pigeonholes\"? I find that pretty fascinating. I really have fun when I can find real-world applications because it helps me to remember things more efficiently. "
      ]
    },
    {
      "cell_type": "markdown",
      "metadata": {
        "id": "OzOkZ3son-u9"
      },
      "source": [
        "### New"
      ]
    },
    {
      "cell_type": "markdown",
      "metadata": {
        "id": "3-nYIdEUz4x5"
      },
      "source": [
        "I learned a lot of new things while studying about the Pigeonhole Theory, graph theory, and while working on this ponder and prove assignment with my group. One thing in particular that impressed me was the fact that you can draw conclusions based on the size of a population if you know the amount of possible \"pigeonholes.\" I always thought that such things were some sort of probability; however, in Brother Kent A. Bessey's article, he states that such things are not probability. This is where the Pigeonhole Principle comes in."
      ]
    },
    {
      "cell_type": "markdown",
      "metadata": {
        "id": "mJHvoj6GokaZ"
      },
      "source": [
        "### Meaningful\n"
      ]
    },
    {
      "cell_type": "markdown",
      "metadata": {
        "id": "XOxh3XFTz-6N"
      },
      "source": [
        "The Pigeonhole Principle fascinates me. I hope to build upon the knowledge that I have gained this week of it as I progress through my Computer Science career. I hope to be able to build on my philosophical knowledge as well. Thinking about how the Pigeonhole Principle worked and discussing my thoughts with my group members, helped expand my mind to a whole new way to comprehend math and science."
      ]
    },
    {
      "cell_type": "markdown",
      "metadata": {
        "id": "_RBE03fhpNUG"
      },
      "source": [
        "### Other"
      ]
    },
    {
      "cell_type": "markdown",
      "metadata": {
        "id": "d-sXEeq60C3W"
      },
      "source": [
        "I collaborated with Matthew Reed, Davis Kerr, and Brayden Whitlock."
      ]
    },
    {
      "cell_type": "markdown",
      "metadata": {
        "id": "v_QR0mal8Ovj"
      },
      "source": [
        "# My Reaction and Impression Report\n",
        "\n",
        "The Pigeonhole Principle was a topic that I had not heard of until this week's ponder and prove assignment. After reading the article written by Brother Kent A. Bessey, several times I began to realize how simple of a concept it really was. If you have 5 pigeons and only 4 pigeon nests, then at least one pigeon nest will contain 2 pigeons. When I first read the article, I thought that the Pigeonhole Principle was related to probability. In probability, you divide a part of a population by the whole population. For example, the chances of you rolling a 6 on a dice is 1 out of 6 chances or 1/6 = 0.1667 = 16.7% chance. This is not the same as the Pigeonhole Principle. In the Pigeonhole Principle, you take the whole population and divide it by the number of possible \"containers.\" As you can see, the more that I read and understood the Pigeonhole Principle, the more clear it became to me that it is not the same thing as porbability<font color=\"red\">(probability)</font>. Instead, the Pigeonhole Principle is based on facts."
      ]
    },
    {
      "cell_type": "markdown",
      "metadata": {
        "id": "yiQF7v6ldrsS"
      },
      "source": [
        "# My Discussion with a Non-STEM Major\n",
        "\n",
        "I discussed the Pigeonhole Effect with my wife. We actually had a very entertaining discussion. At first, she was skeptical and confused on how the Pigeonhole Principle worked. She thought that the Pigeonhole Effect made a conclusion about ALL pigeonholes. In other words, when I told her that at least two people living in Eastern Idaho had the same number of hairs on their head, she thought that all \"pigeonholes\" or numbers of hairs on a person's head had to be accounted for before someone could have the same number of hairs on their head as someone else. By this point, I was a little confused with what she was saying, so we decided to read the article by Brother Kent A. Bessey together. It was pretty cool because the more we read, the more it made sense to her, and the more excited she got! In the four years that I have known her, I have never seen her get as excited about math as I saw her during our discussion. When I finally showed her the problem I had worked with my group on in the ponder and prove for this week, she was able to understand pretty much all of it."
      ]
    },
    {
      "cell_type": "markdown",
      "metadata": {
        "id": "FHtVjLZIg8Cp"
      },
      "source": [
        "# Grappling with the Challenging Problem Above\n",
        "\n",
        "At first, the problem that Brother Bessey presented in his article seemed daunting and confusing. As my group and I discussed the problem and began writing code, we soon became confused on what the variable $n$ was supposed to be in the **calculate_number_of_possible_initials_including_middle_initial_if_any()** function. In the beginning, we thought that it was the population, but as we worked on the problem, we came to realize that it was the number of letters in the alphabet (26). After we figured this out, we were able to work through the rest of the problem."
      ]
    },
    {
      "cell_type": "markdown",
      "metadata": {
        "id": "Nrk-8EmgW4NP"
      },
      "source": [
        "## TODO What is True?\n",
        "Click on each warranted checkbox to toggle it to True (or back to False). \n",
        "\n",
        "NOTE: *This only works in Colab. If you run it in some other Jupyter notebook client/server environment you may have to change False to True (or vice versa) manually.*\n",
        "\n",
        "This self-assessment is subject to revision by a grader."
      ]
    },
    {
      "cell_type": "code",
      "metadata": {
        "id": "qGAjzgVRXR4M"
      },
      "source": [
        "#@markdown ## What is True about what I did?\n",
        "#@markdown ### I had fun.\n",
        "cb00 = True #@param {type:'boolean'}\n",
        "#@markdown ### I learned something new.\n",
        "cb01 = True #@param {type:'boolean'}\n",
        "#@markdown ### I achieved something meaningful, or something I can build upon at a later time.\n",
        "cb02 = True #@param {type:'boolean'}\n",
        "#@markdown ## What is True about my report?\n",
        "#@markdown ### I wrote a sufficient number of well-written sentences.\n",
        "cb03 = True #@param {type:'boolean'}\n",
        "#@markdown ### My report is free of mechanical infelicities.\n",
        "cb04 = False #@param {type:'boolean'}\n",
        "#@markdown ### I used Grammarly (or something better described in my report) to check for MIs.\n",
        "cb05 = False #@param {type:'boolean'}\n",
        "#@markdown ### I reported on any connections I found between these problems and something I already know. \n",
        "cb06 = True #@param {type:'boolean'}\n",
        "#@markdown ### I reported who were and what contribution each of my collaborators made.\n",
        "cb07 = True #@param {type:'boolean'}\n",
        "#@markdown ### I reported what I thought about the essay in general.\n",
        "cb08 = True #@param {type:'boolean'}\n",
        "#@markdown ### I reported what I thought about the certainty-not-chance feature of the pigeonhole principle.\n",
        "cb09 = True #@param {type:'boolean'}\n",
        "#@markdown ### I reported what I thought about the philosophical aspect of the pigeonhole principle per page 41.\n",
        "cb10 = True #@param {type:'boolean'}\n",
        "#@markdown ### I reported on how my discussion with a non-STEM non-classmate went.\n",
        "cb11 = True #@param {type:'boolean'}\n",
        "#@markdown ### I reported on how I grappled with the problem at the bottom of page 40.\n",
        "cb12 = True #@param {type:'boolean'}\n",
        "#@markdown ### I reported on the connection I found between the pigeonhole principle and graphs.\n",
        "cb13 = True #@param {type:'boolean'}\n",
        "#@markdown ## What is True about my code?\n",
        "#@markdown ### I implemented the first function (the one with the absurdly long name) in one or two lines of code.\n",
        "cb14 = True #@param {type:'boolean'}\n",
        "#@markdown ### I used either the sum rule and product rule together or else just the product rule in the first function.\n",
        "cb15 = True #@param {type:'boolean'}\n",
        "#@markdown ### The first function calculates and returns the correct value (see Exercise 250).\n",
        "cb16 = True #@param {type:'boolean'}\n",
        "#@markdown ### The second function inputs a dictionary like {'Name': 'John Doe', 'LDS': True, 'Likes Cats': True, 'Born Before': True, 'Wears Contacts': False, 'Bites Fingernails': False, 'Lives Close': True} and returns the string 'J D:111001'.\n",
        "cb17 = True #@param {type:'boolean'}\n",
        "#@markdown ### The second function calls the first function with the appropriate argument and uses the result.\n",
        "cb18 = True #@param {type:'boolean'}\n",
        "#@markdown ### The second function includes an assert that the length of the string being returned is 10.\n",
        "cb19 = True #@param {type:'boolean'}\n",
        "#@markdown ### The second function includes an assert that the cardinality of its codomain (set of possible return values) is over a million.\n",
        "cb20 = True #@param {type:'boolean'}"
      ],
      "execution_count": null,
      "outputs": []
    },
    {
      "cell_type": "markdown",
      "metadata": {
        "id": "IyhG0qEqzY9N"
      },
      "source": [
        "### TA Comments"
      ]
    },
    {
      "cell_type": "markdown",
      "metadata": {
        "id": "9x-qCgO6za28"
      },
      "source": [
        "\n",
        "Great job! Just make sure to double check your work with Grammarly so you don't lose any points!"
      ]
    }
  ]
}