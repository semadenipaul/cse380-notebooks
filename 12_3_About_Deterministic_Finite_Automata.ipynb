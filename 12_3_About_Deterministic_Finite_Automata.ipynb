{
  "nbformat": 4,
  "nbformat_minor": 0,
  "metadata": {
    "colab": {
      "name": "12_3_About_Deterministic_Finite_Automata.ipynb",
      "provenance": [],
      "authorship_tag": "ABX9TyMVxbW0dC+Tsvp/RKHKF0/h",
      "include_colab_link": true
    },
    "kernelspec": {
      "name": "python3",
      "display_name": "Python 3"
    },
    "language_info": {
      "name": "python"
    }
  },
  "cells": [
    {
      "cell_type": "markdown",
      "metadata": {
        "id": "view-in-github",
        "colab_type": "text"
      },
      "source": [
        "<a href=\"https://colab.research.google.com/github/byui-cse/cse380-notebooks/blob/master/12_3_About_Deterministic_Finite_Automata.ipynb\" target=\"_parent\"><img src=\"https://colab.research.google.com/assets/colab-badge.svg\" alt=\"Open In Colab\"/></a>"
      ]
    },
    {
      "cell_type": "markdown",
      "metadata": {
        "id": "PnYHHyA0U0-j"
      },
      "source": [
        "# About Deterministic Finite Automata\n",
        "## Class Directed Learning\n",
        "### Due: Tuesday, 23 March 2021, 11:59 pm"
      ]
    },
    {
      "cell_type": "markdown",
      "metadata": {
        "id": "sx-YEn-1VQOZ"
      },
      "source": [
        "Any study of Deterministic Finite Automata (DFA) would be incomplete without looking into \"Language Recognition\" --- an area of discrete math that leads us into territory abounding in rich structures and powerful ideas.\n",
        "\n",
        "The notion of a finite-state machine **with** output generalizes to the notion of a finite-state machine (aka a finite automaton) with **no** output, but with important computational abilities.\n",
        "\n",
        "For now, we focus on **deterministic** computations.\n"
      ]
    },
    {
      "cell_type": "markdown",
      "metadata": {
        "id": "FbCbHGhPTXqH"
      },
      "source": [
        "For all of the following examples and tasks, the alphabet is $\\Sigma = \\{0, 1\\}$, and the idea is to construct a DFA serving as a language recognizer for the given languages."
      ]
    },
    {
      "cell_type": "markdown",
      "metadata": {
        "id": "rtfhC5ZoSTEY"
      },
      "source": [
        "## Example 1"
      ]
    },
    {
      "cell_type": "markdown",
      "metadata": {
        "id": "79IaPmRiSeml"
      },
      "source": [
        "The language\n",
        "\n",
        "$L_0 = \\{x0\\ |\\ x \\in \\Sigma^*\\}$\n",
        "\n",
        "needs two states in order to:\n",
        "\n",
        "1. Accept strings that end in 0.\n",
        "2. Reject strings that end in 1."
      ]
    },
    {
      "cell_type": "code",
      "metadata": {
        "id": "1cwtCgaZQ6Nd"
      },
      "source": [
        "from graphviz import Source"
      ],
      "execution_count": 1,
      "outputs": []
    },
    {
      "cell_type": "code",
      "metadata": {
        "id": "Qxbvv1GTRIWd"
      },
      "source": [
        "last_bit_is_zero = '''\n",
        "digraph {\n",
        "  node [shape=circle]\n",
        "  empty [shape=none label=\"\"]\n",
        "  S0 [shape=doublecircle]\n",
        "  S1\n",
        "  empty -> S1 [label=\"\" headport=w]\n",
        "  S1 -> S1 [label=1 headport=ne tailport=nw]\n",
        "  S1 -> S0 [label=0]\n",
        "  S0 -> S0 [label=0 headport=ne tailport=nw]\n",
        "  S0 -> S1 [label=1]\n",
        "  {rank=same empty S1 S0}\n",
        "}\n",
        "'''\n",
        "Source(last_bit_is_zero)"
      ],
      "execution_count": null,
      "outputs": []
    },
    {
      "cell_type": "markdown",
      "metadata": {
        "id": "5bkHg2N6T7JF"
      },
      "source": [
        "## Example 2"
      ]
    },
    {
      "cell_type": "markdown",
      "metadata": {
        "id": "vPqj2RfNTJiq"
      },
      "source": [
        "The language\n",
        "\n",
        "$L_1 = \\{x0z\\ |\\ x \\in \\Sigma^*, z \\in \\Sigma\\}$\n",
        "\n",
        "needs four states in order to:\n",
        "\n",
        "1. Accept strings that end in 00 or 01.\n",
        "2. Reject strings that end in 10 or 11."
      ]
    },
    {
      "cell_type": "code",
      "metadata": {
        "id": "W6dIJ5vnOewN"
      },
      "source": [
        "second_to_last_bit_is_zero = '''\n",
        "digraph {\n",
        "  node [shape=circle]\n",
        "  empty [shape=none label=\"\"]\n",
        "  S11\n",
        "  S10\n",
        "  S00 [shape=doublecircle]\n",
        "  S01 [shape=doublecircle]\n",
        "\n",
        "  empty -> S11 [label=\"\" headport=w]\n",
        "  S11 -> S10 [label=0]\n",
        "  S11 -> S11 [label=1 headport=ne tailport=nw]\n",
        "  S10 -> S00 [label=0]\n",
        "  S10 -> S01 [label=1]\n",
        "  S00 -> S00 [label=0 tailport=w]\n",
        "  S00 -> S01 [label=1]\n",
        "  S01 -> S10 [label=0]\n",
        "  S01 -> S11 [label=1]\n",
        "  {rank=same empty S11 S10}\n",
        "  {rank=same S01 S00}\n",
        "}\n",
        "'''\n",
        "Source(second_to_last_bit_is_zero)"
      ],
      "execution_count": null,
      "outputs": []
    },
    {
      "cell_type": "markdown",
      "metadata": {
        "id": "JyK0H9HbT9l2"
      },
      "source": [
        "## TODO Task 1"
      ]
    },
    {
      "cell_type": "markdown",
      "metadata": {
        "id": "fVssCSj9UAkw"
      },
      "source": [
        "Construct a DFA to recognize the language\n",
        "\n",
        "$L_2 = \\{x0z\\ |\\ x \\in \\Sigma^*, z \\in \\Sigma^2\\}$."
      ]
    },
    {
      "cell_type": "markdown",
      "metadata": {
        "id": "40NUh1fjUNI7"
      },
      "source": [
        "## TODO Task 2"
      ]
    },
    {
      "cell_type": "markdown",
      "metadata": {
        "id": "6uUm7MAbUNI7"
      },
      "source": [
        "Construct a DFA to recognize the language\n",
        "\n",
        "$L_3 = \\{x0z\\ |\\ x \\in \\Sigma^*, z \\in \\Sigma^3\\}$."
      ]
    },
    {
      "cell_type": "markdown",
      "metadata": {
        "id": "WZwc5yVYUNXV"
      },
      "source": [
        "## TODO Task 3"
      ]
    },
    {
      "cell_type": "markdown",
      "metadata": {
        "id": "-5ReuZLTUNXW"
      },
      "source": [
        "Construct a DFA to recognize the language\n",
        "\n",
        "$L_4 = \\{x0z\\ |\\ x \\in \\Sigma^*, z \\in \\Sigma^4\\}$."
      ]
    }
  ]
}