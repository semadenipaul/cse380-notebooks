{
  "nbformat": 4,
  "nbformat_minor": 0,
  "metadata": {
    "colab": {
      "name": "13_2_Ponder_and_Prove_Many_Things.ipynb",
      "provenance": [],
      "include_colab_link": true
    },
    "kernelspec": {
      "name": "python3",
      "display_name": "Python 3"
    },
    "language_info": {
      "name": "python"
    }
  },
  "cells": [
    {
      "cell_type": "markdown",
      "metadata": {
        "id": "view-in-github",
        "colab_type": "text"
      },
      "source": [
        "<a href=\"https://colab.research.google.com/github/semadenipaul/cse380-notebooks/blob/master/13_2_Ponder_and_Prove_Many_Things.ipynb\" target=\"_parent\"><img src=\"https://colab.research.google.com/assets/colab-badge.svg\" alt=\"Open In Colab\"/></a>"
      ]
    },
    {
      "cell_type": "markdown",
      "metadata": {
        "id": "0GZOWnts9NAD"
      },
      "source": [
        "# Ponder and Prove Many Things\n",
        "## Due: Thursday, 1 April 2021, 11:59 pm"
      ]
    },
    {
      "cell_type": "markdown",
      "metadata": {
        "id": "S5XdXGMv9dy4"
      },
      "source": [
        "### Is It Decidable?"
      ]
    },
    {
      "cell_type": "markdown",
      "metadata": {
        "id": "Gzy9wIboAVvi"
      },
      "source": [
        "#### TODO Study and run the code below."
      ]
    },
    {
      "cell_type": "markdown",
      "metadata": {
        "id": "218Qmbtx9lP6"
      },
      "source": [
        "And answer these questions:\n",
        "1. What is this program computing?\n",
        "2. How does it do it?\n",
        "3. Will it ever terminate?"
      ]
    },
    {
      "cell_type": "code",
      "metadata": {
        "id": "LfltDFaw9trA"
      },
      "source": [
        "from math import log2\n",
        "\n",
        "def you_decide():\n",
        "  flibbers = [17,78,19,23,29,77,95,77,1,11,13,15,15,55]\n",
        "  flobbers = [91,85,51,38,33,29,23,19,17,13,11,14,2,1]\n",
        "  i = 2\n",
        "  time_keeps_ticking = True\n",
        "  while time_keeps_ticking:\n",
        "    time_keeps_ticking = False\n",
        "    for n in range(len(flibbers)):\n",
        "      f = i * flibbers[n]\n",
        "      if not f % flobbers[n]:\n",
        "        i = f // flobbers[n]\n",
        "        p = log2(i)\n",
        "        if p.is_integer():\n",
        "          print(i)\n",
        "        time_keeps_ticking = True\n",
        "        break"
      ],
      "execution_count": null,
      "outputs": []
    },
    {
      "cell_type": "code",
      "metadata": {
        "id": "fGZ9lZCP9xWC",
        "colab": {
          "base_uri": "https://localhost:8080/"
        },
        "outputId": "e38e89b4-5d79-4ec2-f979-8931766c6c6a"
      },
      "source": [
        "you_decide()"
      ],
      "execution_count": null,
      "outputs": [
        {
          "output_type": "stream",
          "text": [
            "4\n",
            "8\n",
            "32\n",
            "128\n",
            "2048\n",
            "8192\n",
            "131072\n",
            "524288\n",
            "8388608\n",
            "536870912\n",
            "2147483648\n",
            "137438953472\n",
            "2199023255552\n",
            "8796093022208\n",
            "140737488355328\n",
            "9007199254740992\n",
            "576460752303423488\n",
            "2305843009213693952\n",
            "147573952589676412928\n",
            "2361183241434822606848\n",
            "9444732965739290427392\n",
            "604462909807314587353088\n",
            "9671406556917033397649408\n",
            "618970019642690137449562112\n",
            "158456325028528675187087900672\n",
            "2535301200456458802993406410752\n",
            "10141204801825835211973625643008\n",
            "162259276829213363391578010288128\n",
            "649037107316853453566312041152512\n",
            "10384593717069655257060992658440192\n",
            "170141183460469231731687303715884105728\n",
            "2722258935367507707706996859454145691648\n",
            "174224571863520493293247799005065324265472\n",
            "696898287454081973172991196020261297061888\n",
            "713623846352979940529142984724747568191373312\n",
            "2854495385411919762116571938898990272765493248\n",
            "182687704666362864775460604089535377456991567872\n",
            "11692013098647223345629478661730264157247460343808\n",
            "187072209578355573530071658587684226515959365500928\n",
            "11972621413014756705924586149611790497021399392059392\n",
            "766247770432944429179173513575154591809369561091801088\n",
            "3064991081731777716716694054300618367237478244367204352\n",
            "3138550867693340381917894711603833208051177722232017256448\n",
            "12554203470773361527671578846415332832204710888928069025792\n",
            "200867255532373784442745261542645325315275374222849104412672\n",
            "803469022129495137770981046170581301261101496891396417650688\n",
            "3291009114642412084309938365114701009965471731267159726697218048\n",
            "13479973333575319897333507543509815336818572211270286240551805124608\n",
            "215679573337205118357336120696157045389097155380324579848828881993728\n",
            "862718293348820473429344482784628181556388621521298319395315527974912\n",
            "13803492693581127574869511724554050904902217944340773110325048447598592\n",
            "883423532389192164791648750371459257913741948437809479060803100646309888\n",
            "3533694129556768659166595001485837031654967793751237916243212402585239552\n",
            "3618502788666131106986593281521497120414687020801267626233049500247285301248\n",
            "231584178474632390847141970017375815706539969331281128078915168015826259279872\n",
            "14821387422376473014217086081112052205218558037201992197050570753012880593911808\n",
            "948568795032094272909893509191171341133987714380927500611236528192824358010355712\n",
            "3794275180128377091639574036764685364535950857523710002444946112771297432041422848\n",
            "242833611528216133864932738352939863330300854881517440156476551217363035650651062272\n",
            "3885337784451458141838923813647037813284813678104279042503624819477808570410416996352\n",
            "15541351137805832567355695254588151253139254712417116170014499277911234281641667985408\n",
            "15914343565113172548972231940698266883214596825515126958094847260581103904401068017057792\n",
            "260740604970814219042361048116400404614587954389239840081425977517360806369707098391474864128\n",
            "4171849679533027504677776769862406473833407270227837441302815640277772901915313574263597826048\n",
            "16687398718132110018711107079449625895333629080911349765211262561111091607661254297054391304192\n",
            "266998379490113760299377713271194014325338065294581596243380200977777465722580068752870260867072\n",
            "4374501449566023848745004454235242730706338861786424872851541212819905998398751846447026354046107648\n",
            "279968092772225526319680285071055534765205687154331191862498637620473983897520118172609686658950889472\n",
            "286687326998758938951352611912760867599570623646035140467198604923365359511060601008752319138765710819328\n",
            "1146749307995035755805410447651043470398282494584140561868794419693461438044242404035009276555062843277312\n",
            "18347988927920572092886567162416695526372519913346248989900710715095383008707878464560148424881005492436992\n",
            "1174271291386916613944740298394668513687841274454159935353645485766104512557304221731849499192384351515967488\n",
            "300613450595050653169853516389035139504087366260264943450533244356122755214669880763353471793250393988087676928\n",
            "19239260838083241802870625048898248928261591440656956380834127638791856333738872368854622194768025215237611323392\n",
            "1231312693637327475383720003129487931408741852202045208373384168882678805359287831606695820465153613775207124697088\n",
            "19701003098197239606139520050071806902539869635232723333974146702122860885748605305707133127442457820403313995153408\n",
            "1260864198284623334792929283204595641762551656654894293374345388935863096687910739565256520156317300505812095689818112\n",
            "322781234760863573706989896500376484291213224103652939103832419567580952752105149328705669160017228929487896496593436672\n",
            "5164499756173817179311838344006023748659411585658447025661318713081295244033682389259290706560275662871806343945494986752\n",
            "1322111937580497197903830616065542079656809365928562438569297590548811582472622691650378420879430569695182424050046716608512\n",
            "1353842624082429130653522550851115089568572790710847937094960732721983060451965636249987502980536903367866802227247837807116288\n",
            "5415370496329716522614090203404460358274291162843391748379842930887932241807862544999950011922147613471467208908991351228465152\n",
            "5545339388241629719156828368286167406872874150751633150340959161229242615611251246079948812208279156194782421922807143657948315648\n",
            "22181357552966518876627313473144669627491496603006532601363836644916970462445004984319795248833116624779129687691228574631793262592\n",
            "1419606883389857208104148062281258856159455782592418086487285545274686109596480318996466895925319463985864300012238628776434768805888\n",
            "22713710134237715329666368996500141698551292521478689383796568724394977753543685103943470334805111423773828800195818060422956300894208\n",
            "1453677448591213781098647615776009068707282721374636120562980398361278576226795846652382101427527131121525043212532355867069203257229312\n",
            "372141426839350727961253789638658321589064376671906846864122981980487315514059736743009817965446945567110411062408283101969716033850703872\n",
            "5954262829429611647380060634218533145425030026750509549825967711687797048224955787888157087447151129073766576998532529631515456541611261952\n",
            "23817051317718446589520242536874132581700120107002038199303870846751188192899823151552628349788604516295066307994130118526061826166445047808\n",
            "381072821083495145432323880589986121307201921712032611188861933548019011086397170424842053596617672260721060927906081896416989218663120764928\n",
            "1560874275157996115690798614896583152874299071332485575429578479812685869409882810060153051531745985579913465560703311447723987839644142653145088\n",
            "399583814440447005616844445413525287135820562261116307309972090832047582568929999375399181192126972308457847183540047730617340886948900519205142528\n",
            "6393341031047152089869511126616404594173128996177860916959553453312761321102879990006386899074031556935325554936640763689877454191182408307282280448\n",
            "1636695303948070935006594848413799576108321023021532394741645684048066898202337277441635046162952078575443342063780035504608628272942696526664263794688\n",
            "26187124863169134960105517574620793217733136368344518315866330944769070371237396439066160738607233257207093473020480568073738052367083144426628220715008\n",
            "1675975991242824637446753124775730765934920727574049172215445180465220503759193372100234287270862928461253982273310756356719235351493321243304206125760512\n",
            "6864797660130609714981900799081393217269435300143305409394463459185543183397656052122559640661454554977296311391480858037121987999716643812574028291115057152\n",
            "27459190640522438859927603196325572869077741200573221637577853836742172733590624208490238562645818219909185245565923432148487951998866575250296113164460228608\n",
            "7198262071269114212496861612297570974191515389283066612961208916178940129074380592510465097766225371439873457013633432197133225688790879502413624289384262168215552\n",
            "460688772561223309599799143187044542348256984914116263229517370635452168260760357920669766257038423772151901248872539660616526444082616288154471954520592778765795328\n",
            "471745303102692669030194322623533611364615152552055053547025787530703020299018606510765840647207345942683546878845480612471323078740599079070179281429087005456174415872\n",
            "30191699398572330817932436647906151127335369763331523427009650401964993299137190816689013801421270140331747000246110759198164677039398341060491474011461568349195162615808\n",
            "1932268761508629172347675945465993672149463664853217499328617625725759571144780212268096883290961288981231808015751088588682539330521493827871454336733540374348490407411712\n",
            "7729075046034516689390703781863974688597854659412869997314470502903038284579120849072387533163845155924927232063004354354730157322085975311485817346934161497393961629646848\n",
            "494660802946209068121005042039294380070262698202423679828126112185794450213063734340632802122486089979195342852032278678702730068613502419935092310203786335833213544297398272\n",
            "506532662216918085755909163048237445191949002959281848144001138878253517018177263964807989373425756138696031080481053366991595590260226478013534525648677207893210669360535830528\n",
            "32418090381882757488378186435087196492284736189394038281216072888208225089163344893747711319899248392876545989150787415487462117776654494592866209641515341305165482839074293153792\n",
            "2074757784440496479256203931845580575506223116121218449997828664845326405706454073199853524473551897144098943305650394591197575537705887653943437417056981843530590901700754761842688\n",
            "8299031137761985917024815727382322302024892464484873799991314659381305622825816292799414097894207588576395773222601578364790302150823550615773749668227927374122363606803019047370752\n",
            "531137992816767098689588206552468627329593117727031923199444138200403559860852242739162502265229285668889329486246501015346579337652707239409519978766587351943831270835393219031728128\n",
            "33992831540273094316133645219357992149093959534530043084764424844825827831094543535306400144974674282808917087119776064982181077609773263322209278641061590524405201333465166018030600192\n",
            "543885304644369509058138323509727874385503352552480689356230797517213245297512696564902402319594788524942673393916417039714897241756372213155348458256985448390483221335442656288489603072\n",
            "2175541218577478036232553294038911497542013410209922757424923190068852981190050786259609609278379154099770693575665668158859588967025488852621393833027941793561932885341770625153958412288\n",
            "8911016831293350036408538292383381493932086928219843614412485386522021810954448020519360959604241015192660760885926576778688876408936402340337229140082449586429677098359892480630613656731648\n",
            "9124881235244390437282343211400582649786457014497119861158385035798550334417354773011825622634742799557284619147188814621377409442750875996505322639444428376503989348720529900165748384493207552\n",
            "36499524940977561749129372845602330599145828057988479444633540143194201337669419092047302490538971198229138476588755258485509637771003503986021290557777713506015957394882119600662993537972830208\n",
            "583992399055640987986069965529637289586333248927815671114136642291107221402710705472756839848623539171666215625420084135768154204336056063776340648924443416096255318318113913610607896607565283328\n",
            "37375513539561023231108477793896786533525327931380202951304745106630862169773485150256437750311906506986637800026885384689161869077507588081685801531164378630160340372359290471078905382884178132992\n",
            "2392032866531905486790942578809394338145620987608332988883503686824375178865503049616412016019962016447144819201720664620106359620960485637227891297994520232330261783830994590149049944504587400511488\n",
            "9568131466127621947163770315237577352582483950433331955534014747297500715462012198465648064079848065788579276806882658480425438483841942548911565191978080929321047135323978360596199778018349602045952\n",
            "39191066485258739495582803211213116836177854260974927689867324404930562930532401964915294470471057677470020717800991369135822596029816596680341771026342219486499009066287015365002034290763159969980219392\n",
            "627057063764139831929324851379409869378845668175598843037877190478889006888518431438644711527536922839520331484815861906173161536477065546885468336421475511783984145060592245840032548652210559519683510272\n",
            "40131652080904949243476790488282231640246122763238325954424140190648896440865179612073261537762363061729301215028215161995082338334532195000669973530974432754174985283877903733762083113741475809259744657408\n",
            "10273702932711667006330058365000251299903007427389011444332579888806117488861485980690754953667164943802701111047223081470741078613640241920171513223929454785068796232672743355843093277117817807170494632296448\n",
            "10520271803096747014481979765760257331100679605646347718996561806137464308594161644227333072555176902453965937712356435426038864500367607726255629541303761699910447342256889196383327515768645434542586503471562752\n",
            "2693189581592767235707386820034625876761773979045465016063119822371190863000105380922197266574125287028215280054363247469065949312094107577921441162573762995177074519617763634274131844036773231242902144888720064512\n",
            "2757826131550993649364364103715456897804056554542556176448634698108099443712107910064330000971904293916892446775667965408323532095584366159791555750475533307061324308088589961496711008293655788792731796366049346060288\n"
          ],
          "name": "stdout"
        }
      ]
    },
    {
      "cell_type": "markdown",
      "metadata": {
        "id": "fRYxgeHjutSS"
      },
      "source": [
        "## Answers to Questions\n",
        "\n",
        "1. The numbers generated are 2 raised to the prime numbers.\n",
        "\n",
        "2. It makes use of John Conway's FRACTRAN, a generalization of the Collatz function. The number i updates if and only if f is divisable by any other number in flobbers. The last digit of flobbers is 1, so f will always be divisable by at least 1 element in flobbers. This will mean the number p (log2 of i) is always prime according to my understanding of Conway's FRACTRAN. If the log2 of i is a whole number, i is a prime power of 2.\n",
        "\n",
        "3. The program will never terminate. The only way for the program to terminate is if the test ( if not f % flobbers[n]) were to fail for some value of f over all values of flobbers. Since the final flobber is 1, any number % 1 is 0. Thus, the program will never terminate."
      ]
    },
    {
      "cell_type": "markdown",
      "metadata": {
        "id": "oqZ3784B-EyX"
      },
      "source": [
        "### Fun With Decidability"
      ]
    },
    {
      "cell_type": "markdown",
      "metadata": {
        "id": "aeiVo2WpkySc"
      },
      "source": [
        "#### TODO Read and Share"
      ]
    },
    {
      "cell_type": "markdown",
      "metadata": {
        "id": "i13mpSpd-O39"
      },
      "source": [
        "Read [Can't Decide? Undecide! by Chaim Goodman-Strauss](https://strauss.hosted.uark.edu/papers/decide.pdf)\n",
        "\n",
        "Share six things that you found interesting in this paper.\n",
        "\n",
        "Share six things that you already knew or had heard about before. (These can overlap with the first six.)\n",
        "\n",
        "Write one to two sentences for each of the things you share.\n"
      ]
    },
    {
      "cell_type": "markdown",
      "metadata": {
        "id": "Ei_S6ZJMjEL2"
      },
      "source": [
        "## What I learned from the article \"Can't Decide? Undecide!\""
      ]
    },
    {
      "cell_type": "markdown",
      "metadata": {
        "id": "tSdOmu4BjUAD"
      },
      "source": [
        "1. I didn't know that there was a world record of the most complex tile. C. Mann discovered it and it has a Heesch number 5 [22, 23].\n",
        "\n",
        "2. It was fascinating learning about John H. Conway's Fractran. With just a small list of fractions, you can generate an infinite calculation.\n",
        "\n",
        "3. I had never heard abou the Post Correspondence Problem until I read this article. I am fascinated how Post used math and logic to piece together a pattern from random puzzle pieces. \n",
        "\n",
        "4. I didn't know that undecidability resides in computer games and puzzles. I always thought it lurked in mathematical problems. \n",
        "\n",
        "5. I enjoyed learning about Wolfram's Rule 110. It's amazing how you can create specific rules and then create amazing patterns out of it.\n",
        "\n",
        "6. I had no idea what the Halting Problem was coming into this week. This article does a very good job at explaining how it works."
      ]
    },
    {
      "cell_type": "markdown",
      "metadata": {
        "id": "RPXUuMl_jgUn"
      },
      "source": [
        "## What I already knew or had learned\n"
      ]
    },
    {
      "cell_type": "markdown",
      "metadata": {
        "id": "dNqfL7NWjicb"
      },
      "source": [
        "1. Prior to reading this article, I had researched a little bit about how Fractran worked. My group and I used what I had learned on the Wikipedia page to solve the first problem in the Ponder and Prove.\n",
        "\n",
        "2. Last week, we worked on word ladders in our weekly assignments. Starting at a word and using rules you pre-defined, transforming the word into another word. Lewis Carroll took it one step further by using only legitimate English words to transform the word.\n",
        "\n",
        "3. I designed my own Conway's Game of Life in one of my software design classes. I used the Java language to program it.\n",
        "\n",
        "4. I have learned about Turley machines these past few weeks in the homework and assigments for this class.\n",
        "\n",
        "5. I have learned what the Halting Problem is and how it works. This took place in the previous weeks and an understanding was gained after I did my own research.\n",
        "\n",
        "6. A large part of computer science is identifying patterns in the world and figuring out how to use them to solve problems."
      ]
    },
    {
      "cell_type": "markdown",
      "metadata": {
        "id": "gjeWZ0Mo-r6E"
      },
      "source": [
        "### The Map of Mathematics"
      ]
    },
    {
      "cell_type": "markdown",
      "metadata": {
        "id": "xFFVrRTl-wY9"
      },
      "source": [
        "[The entire field of mathematics summarized in a single map!](https://www.youtube.com/watch?v=OmJ-4B-mS-Y) --- direct link, or embedded below.\n",
        "\n",
        "This video shows how pure mathematics and applied mathematics relate to each other and all of the sub-topics they are made from."
      ]
    },
    {
      "cell_type": "code",
      "metadata": {
        "id": "Wd_Ny-gS-zpk"
      },
      "source": [
        "from IPython.display import YouTubeVideo\n",
        "YouTubeVideo('OmJ-4B-mS-Y') # 11 minutes 5 seconds"
      ],
      "execution_count": null,
      "outputs": []
    },
    {
      "cell_type": "markdown",
      "metadata": {
        "id": "8PD-pimc-1dk"
      },
      "source": [
        "#### TODO Watch and Share"
      ]
    },
    {
      "cell_type": "markdown",
      "metadata": {
        "id": "9WIEkJ0p-9JD"
      },
      "source": [
        "Share six things that you found interesting in this video.\n",
        "\n",
        "Share six things that you already knew or had heard about before. (These can overlap with the first six.)\n",
        "\n",
        "Write one to two sentences for each of the things you share.\n"
      ]
    },
    {
      "cell_type": "markdown",
      "metadata": {
        "id": "f-nQDrZv-R_d"
      },
      "source": [
        "## What I learned from the video \"The Map of Mathematics\""
      ]
    },
    {
      "cell_type": "markdown",
      "metadata": {
        "id": "8ep8O_UF-eBh"
      },
      "source": [
        "1. I had no idea about most of the math origins. Since India is a pretty special place to me, I found it interesting that the number 0 was first used there. After some further research, I found that the number 0 fist appeared in Mesopotamia (present day Iraq) around 3 B.C. and then was devised in India in the mid-fifth century [1].\n",
        "\n",
        "2. Pure mathematics can be divided into several different types of math, including: number systems, structures, spaces, and changes. These types of math are the foundation for geometry, calculus, trigonometry, combinatorics, matrices, graph theory, algebra, linear algebra, number theory, and many more.\n",
        "\n",
        "3. Applied mathematics can be divided into mathematical physics, chemistry, biomathematics, engineering, numerical analysis, gametheory, economics, probability, statistics, methematical finance, optimization, computer science, machine learning, and cryptography. \n",
        "\n",
        "4. I learned additional foundations of mathematics. Some of the new ones were the fundamental rules, and category theory.\n",
        "\n",
        "5. I didn't know that a part of numrical analysis includes drawing a circle in a square and then throwing dots all over it, the number of dots in the circle compared to the square will roughly calculate to pi. \n",
        "\n",
        "6. I found it fascinating learning about fractal geometry. It's pretty cool how you can make patterns out of math and as you zoom in, more patterns are seen.\n",
        "\n",
        "\n",
        "$[1] American, Scientific. \"What Is The Origin Of Zero? How Did We Indicate Nothingness Before Zero?\". Scientific American, 2007, https://www.scientificamerican.com/article/what-is-the-origin-of-zer/#:~:text=The%20first%20recorded%20zero%20appeared,the%20end%20of%20the%20eighth. Accessed 1 Apr 2021.$"
      ]
    },
    {
      "cell_type": "markdown",
      "metadata": {
        "id": "K4FNEKzWB-ry"
      },
      "source": [
        "## What I already knew or had learned\n",
        "\n",
        "1. There are some infinities that are bigger than other infinities. There are more real numbers than integers. \n",
        "\n",
        "2. Mathematics can be divided into two areas of study pure mathematics and applied mathematics. In our Discrete Mathematics II class this semester, we learned a great deal about both areas of mathematics.\n",
        "\n",
        "3. I knew some of the foundations of mathematics. In DM1 and DM2, I learned about mathematical logic, set theory, and theory of computation.\n",
        "\n",
        "4. I learned about complexity theory in algorithms and complexities. Something that I didn't realize is that it is a foundation of mathematics.\n",
        "\n",
        "5. I learned in DM1 and DM2 that there are many different kinds of numbers. These include natural numbers, real numbers, rational numbers, complex numbers, integers, and more.\n",
        "\n",
        "6. I also knew from DM1 and DM2 about cryptography. Today, it is a really important part of applied mathematics. I find it fascinating how messages can be encrypted and decrypted with math.\n",
        "\n"
      ]
    },
    {
      "cell_type": "markdown",
      "metadata": {
        "id": "nfxMo9bl_TZA"
      },
      "source": [
        "### The Map of Computer Science"
      ]
    },
    {
      "cell_type": "markdown",
      "metadata": {
        "id": "bM9Dst0d_tIW"
      },
      "source": [
        "[The field of computer science similarly summarized.](https://www.youtube.com/watch?v=SzJ46YA_RaA) --- direct link, or embedded below."
      ]
    },
    {
      "cell_type": "code",
      "metadata": {
        "id": "LnBJvrbi_xIp"
      },
      "source": [
        "from IPython.display import YouTubeVideo\n",
        "YouTubeVideo('SzJ46YA_RaA') # 10 minutes 57 seconds"
      ],
      "execution_count": null,
      "outputs": []
    },
    {
      "cell_type": "markdown",
      "metadata": {
        "id": "5194ShLd_zjU"
      },
      "source": [
        "#### TODO Watch and Share"
      ]
    },
    {
      "cell_type": "markdown",
      "metadata": {
        "id": "zTI_XHCU_1HW"
      },
      "source": [
        "Share six things that you found interesting in this video.\n",
        "\n",
        "Share six things that you already knew or had heard about before. (These can overlap with the first six.)\n",
        "\n",
        "Write one to two sentences for each of the things you share."
      ]
    },
    {
      "cell_type": "markdown",
      "metadata": {
        "id": "ziOa2uvDJhW4"
      },
      "source": [
        "## What I learned from the video \"The Field of Computer Science\""
      ]
    },
    {
      "cell_type": "markdown",
      "metadata": {
        "id": "w6e-xc9FJtDB"
      },
      "source": [
        "1. I didn't know how far computing power and the number of transistors in computers had come in such a short amount of time. It's crazy to think that we have more computing power in our cellphones today than there was in the world in the mid 1960's. Tht's only 60 years ago!\n",
        "\n",
        "2. I also didn't know that the whole Apollo 11 moon landing could have been run on a couple of Nintendos. That's so crazy! Now we are able to send robots to Mars with the technology we have today.\n",
        "\n",
        "3. I didn't know that the mind behind the Turing Machine is the father figure of Computer Science. Alan Turing came up with the Turing Machine which is the foundation of all computers.\n",
        "\n",
        "4. I didn't know about the software and programming language heirarchy. It begins at Silicon, Bios, Operating System, Applications, Browser, and Web Apps. The closer the base of the heirarchy, the more difficult it is for humans to understand and use.\n",
        "\n",
        "5. I knew that artificial intelligence was really important in the computer industry today; however, I didn't know that it was the forefront motive of developing computers for the future. I thought it would be security.\n",
        "\n",
        "6. I didn't know that teleprescence was a topic that computer science was covering. Will the holograms in Star Wars become real life?"
      ]
    },
    {
      "cell_type": "markdown",
      "metadata": {
        "id": "Bjycge0UJw-6"
      },
      "source": [
        "## What I already knew or had learned"
      ]
    },
    {
      "cell_type": "markdown",
      "metadata": {
        "id": "xnCCffSgJ8rl"
      },
      "source": [
        "1. I already knew that Amdahl's Law and Moore's Law predicted that the number of transistors on a motherboard would grow exponentially in a short amount of time. However, there would be a limit to a computer's speedup and power.\n",
        "\n",
        "2. I had learned that every program orprocess in a computer is converted into 1's and 0's. These ones and zeros control the gates and transistors in the hardware a computer runs on.\n",
        "\n",
        "3. This week in the reading and the videos we watched, I learned about a Turing Machine. I knew that a turning Machine is made up of an infinitely long tape, state register, head, and a list of possible instructions.\n",
        "\n",
        "4. Everything in a computer can be computed using lambda calculus. \n",
        "\n",
        "5. I learned this semester in my Computer Networking class about coding theory. I learned how to do parity checking and error correction.\n",
        "\n",
        "6. I learned in my Computer Networking and Discrete Math classes about cryptology. I learned how to encrypt and decrypt messages using math."
      ]
    },
    {
      "cell_type": "markdown",
      "metadata": {
        "id": "fPu3fWgR_3hI"
      },
      "source": [
        "### SKIP Report"
      ]
    },
    {
      "cell_type": "markdown",
      "metadata": {
        "id": "JoO9lagO_5lt"
      },
      "source": [
        "The sentences you have already (supposedly) written will suffice."
      ]
    },
    {
      "cell_type": "markdown",
      "metadata": {
        "id": "shpEERFS_87F"
      },
      "source": [
        "### SKIP Self-Assessment"
      ]
    },
    {
      "cell_type": "markdown",
      "metadata": {
        "id": "yWvKYeqc__bX"
      },
      "source": [
        "Instead, you will have ilearn peer reviews to complete."
      ]
    }
  ]
}