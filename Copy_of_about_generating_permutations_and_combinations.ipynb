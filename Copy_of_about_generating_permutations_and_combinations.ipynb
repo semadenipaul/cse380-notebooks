{
  "nbformat": 4,
  "nbformat_minor": 0,
  "metadata": {
    "kernelspec": {
      "display_name": "Python 3",
      "language": "python",
      "name": "python3"
    },
    "language_info": {
      "codemirror_mode": {
        "name": "ipython",
        "version": 3
      },
      "file_extension": ".py",
      "mimetype": "text/x-python",
      "name": "python",
      "nbconvert_exporter": "python",
      "pygments_lexer": "ipython3",
      "version": "3.9.0"
    },
    "colab": {
      "name": "Copy of about_generating_permutations_and_combinations.ipynb",
      "provenance": [],
      "include_colab_link": true
    }
  },
  "cells": [
    {
      "cell_type": "markdown",
      "metadata": {
        "id": "view-in-github",
        "colab_type": "text"
      },
      "source": [
        "<a href=\"https://colab.research.google.com/github/semadenipaul/cse380-notebooks/blob/master/Copy_of_about_generating_permutations_and_combinations.ipynb\" target=\"_parent\"><img src=\"https://colab.research.google.com/assets/colab-badge.svg\" alt=\"Open In Colab\"/></a>"
      ]
    },
    {
      "cell_type": "markdown",
      "metadata": {
        "id": "txUTXCNjAXXm"
      },
      "source": [
        "# About Generating Permutations and Combinations\n",
        "## Divide Pair Conquer\n",
        "### Due: Monday, 1 February 2021, 11:59pm\n"
      ]
    },
    {
      "cell_type": "markdown",
      "metadata": {
        "id": "QHEIT0qJAXXr"
      },
      "source": [
        "There are many occasions when you need to *generate* the permutations or\n",
        "combinations of a set, not just count them.\n",
        "\n",
        "There are many algorithms for generating permutations and combinations --- you\n",
        "can find them if you look.\n",
        "\n",
        "For an application, from a biographical sketch about Donald Knuth by Kenneth\n",
        "Rosen, we learn that\n"
      ]
    },
    {
      "cell_type": "markdown",
      "metadata": {
        "id": "ZMfAYJkUAXXr"
      },
      "source": [
        "> \"Knuth grew up in Milwaukee, where his father taught bookkeeping at a Lutheran\n",
        "high school and owned a small printing business. He was an excellent student,\n",
        "earning academic achievement awards. He applied his intelligence in\n",
        "unconventional ways, winning a contest when he was in the eighth grade by\n",
        "finding as many words as possible that could be formed from the letters in\n",
        "\n",
        "---\n",
        "\n",
        "> **Ziegler's Giant Bar**.\n",
        "\n",
        "___\n",
        "\n",
        "> This won a television set for his school and a candy bar for everyone in his class.\n"
      ]
    },
    {
      "cell_type": "markdown",
      "metadata": {
        "id": "FbMSk1gaAXXr"
      },
      "source": [
        "Knuth found over 4500 words. How many can **you** find?"
      ]
    },
    {
      "cell_type": "code",
      "metadata": {
        "colab": {
          "base_uri": "https://localhost:8080/"
        },
        "id": "YueGyogCA5wp",
        "outputId": "af7c11de-8800-4819-ea98-76cdf3de604f"
      },
      "source": [
        "!pip install pyenchant"
      ],
      "execution_count": null,
      "outputs": [
        {
          "output_type": "stream",
          "text": [
            "Collecting pyenchant\n",
            "\u001b[?25l  Downloading https://files.pythonhosted.org/packages/99/8c/bd224a5db562ac008edbfaf015f5d5c98ea13e745247cd4ab5fc5b683085/pyenchant-3.2.0-py3-none-any.whl (55kB)\n",
            "\r\u001b[K     |█████▉                          | 10kB 15.7MB/s eta 0:00:01\r\u001b[K     |███████████▊                    | 20kB 19.9MB/s eta 0:00:01\r\u001b[K     |█████████████████▋              | 30kB 10.2MB/s eta 0:00:01\r\u001b[K     |███████████████████████▌        | 40kB 7.9MB/s eta 0:00:01\r\u001b[K     |█████████████████████████████▍  | 51kB 5.0MB/s eta 0:00:01\r\u001b[K     |████████████████████████████████| 61kB 3.4MB/s \n",
            "\u001b[?25hInstalling collected packages: pyenchant\n",
            "Successfully installed pyenchant-3.2.0\n"
          ],
          "name": "stdout"
        }
      ]
    },
    {
      "cell_type": "code",
      "metadata": {
        "colab": {
          "base_uri": "https://localhost:8080/"
        },
        "id": "Nx-p2-DgAYwR",
        "outputId": "3d35dbf1-1dce-404e-a344-d94dd23b389f"
      },
      "source": [
        "from itertools import permutations\n",
        "import enchant\n",
        "d = enchant.Dict(\"en_US\")\n",
        "uniqueWords = set()\n",
        "\n",
        "# zieglersgiantbar\n",
        "\n",
        "count = 0\n",
        "word = \"zieglersgiantbar\"\n",
        "letter = [x for x in word]\n",
        "\n",
        "for n in range(3, len(word)):\n",
        "    for y in list(permutations(letter, 7)):\n",
        "        z = \"\".join(y)\n",
        "        if d.check(z):\n",
        "            uniqueWords.add(z)\n",
        "\n",
        "print(uniqueWords)\n",
        "print(len(uniqueWords))\n"
      ],
      "execution_count": null,
      "outputs": [
        {
          "output_type": "stream",
          "text": [
            "{'gerbils', 'gangsta', 'garnets', 'arraign', 'tangles', 'stagger', 'beagles', 'ratings', 'blintze', 'earners', 'retires', 'biggest', 'entails', 'artsier', 'lignite', 'tearier', 'teabags', 'saggier', 'gigabit', 'bringer', 'rangers', 'lasting', 'trailer', 'gainers', 'gristle', 'silting', 'tangier', 'brazens', 'sailing', 'giblets', 'beaters', 'rarebit', 'enlarge', 'garages', 'gentile', 'algebra', 'leggier', 'glazier', 'blitzes', 'brazers', 'seizing', 'leanest', 'relates', 'enables', 'airiest', 'earnest', 'renters', 'barrage', 'girting', 'retains', 'airbase', 'garners', 'granter', 'regents', 'salting', 'erasing', 'rentals', 'airings', 'blaring', 'gratins', 'eatable', 'tabling', 'brazing', 'relearn', 'realize', 'glazing', 'eternal', 'risible', 'airline', 'general', 'relents', 'retsina', 'lineage', 'arrange', 'enteral', 'gentler', 'zingers', 'antlers', 'abating', 'airbags', 'bragger', 'resting', 'realest', 'gleaner', 'enrages', 'lesbian', 'engages', 'retries', 'rebates', 'siltier', 'niggles', 'regrets', 'tarring', 'garbing', 'grazers', 'naggers', 'nastier', 'bangles', 'legates', 'latrine', 'realist', 'entries', 'retinas', 'stabler', 'berates', 'elating', 'barring', 'glisten', 'listing', 'blazing', 'reagent', 'baggies', 'genital', 'ringers', 'biggies', 'sangria', 'angrier', 'beating', 'bailing', 'berries', 'staling', 'slating', 'blazers', 'erratas', 'arising', 'gearing', 'brinier', 'retrial', 'glaring', 'ratline', 'banzais', 'aligner', 'serrate', 'staging', 'greater', 'beggars', 'riggers', 'ganglia', 'rainier', 'ragtags', 'tingles', 'retinal', 'artisan', 'tailing', 'ranters', 'sibling', 'leasing', 'ablates', 'nearest', 'trigger', 'sealant', 'salient', 'barrels', 'trebles', 'zestier', 'aerials', 'granges', 'inertia', 'teasing', 'gentles', 'bestial', 'terrine', 'barrens', 'railing', 'greaser', 'staring', 'abreast', 'terrain', 'trainee', 'sterile', 'garbles', 'rearing', 'garrets', 'gelatin', 'taggers', 'reliant', 'tanager', 'earring', 'integer', 'tenable', 'ligates', 'lingers', 'abstain', 'elegant', 'rangier', 'treeing', 'saltine', 'bizarre', 'stagier', 'tearing', 'tensile', 'regains', 'bristle', 'regalia', 'beanies', 'belting', 'garbage', 'seltzer', 'niggler', 'tarries', 'largest', 'tagline', 'sterner', 'eastern', 'teargas', 'signage', 'bearers', 'baggier', 'sealing', 'eaglets', 'grating', 'retrain', 'glister', 'gingers', 'regales', 'realign', 'ratbags', 'raising', 'arbiter', 'ringlet', 'blaster', 'baiting', 'graters', 'relines', 'gargles', 'niggers', 'stinger', 'arsenal', 'enabler', 'grazing', 'lariats', 'searing', 'barista', 'bargain', 'garters', 'relater', 'retails', 'aerates', 'reeling', 'against', 'ignites', 'lintier', 'antsier', 'grantee', 'barging', 'singlet', 'narrate', 'abasing', 'laziest', 'seating', 'strange', 'bearing', 'granite', 'leering', 'trainer', 'ritzier', 'earlier', 'brazier', 'ingrate', 'atelier', 'learner', 'ringgit', 'saltier', 'blister', 'negates', 'besting', 'basting', 'barters', 'biasing', 'zaniest', 'anglers', 'zingier', 'sizable', 'gaiters', 'raglans', 'banters'}\n",
            "276\n"
          ],
          "name": "stdout"
        }
      ]
    },
    {
      "cell_type": "markdown",
      "metadata": {
        "id": "f5AfTZLcF8Tc"
      },
      "source": [
        "source: https://www.youtube.com/watch?v=nLWi-2b_OjE\n",
        "\n",
        "I was able to get up to 11 words that were 1 letter long, 32 words that were 2 letters long, 110 words that were 3 letters long, 240 words that were 4 letters long, 318 words that were 5 letters long, 320 words that were 6 letters long, and 276 words that were 7 letters long."
      ]
    }
  ]
}