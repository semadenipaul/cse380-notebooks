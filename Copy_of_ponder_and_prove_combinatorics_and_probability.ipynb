{
  "nbformat": 4,
  "nbformat_minor": 0,
  "metadata": {
    "kernelspec": {
      "display_name": "Python 3",
      "language": "python",
      "name": "python3"
    },
    "language_info": {
      "codemirror_mode": {
        "name": "ipython",
        "version": 3
      },
      "file_extension": ".py",
      "mimetype": "text/x-python",
      "name": "python",
      "nbconvert_exporter": "python",
      "pygments_lexer": "ipython3",
      "version": "3.9.0"
    },
    "colab": {
      "name": "Copy of ponder_and_prove_combinatorics_and_probability.ipynb",
      "provenance": [],
      "include_colab_link": true
    }
  },
  "cells": [
    {
      "cell_type": "markdown",
      "metadata": {
        "id": "view-in-github",
        "colab_type": "text"
      },
      "source": [
        "<a href=\"https://colab.research.google.com/github/semadenipaul/cse380-notebooks/blob/master/Copy_of_ponder_and_prove_combinatorics_and_probability.ipynb\" target=\"_parent\"><img src=\"https://colab.research.google.com/assets/colab-badge.svg\" alt=\"Open In Colab\"/></a>"
      ]
    },
    {
      "cell_type": "markdown",
      "metadata": {
        "id": "Flwex5tkexxj"
      },
      "source": [
        "# Ponder and Prove Combinatorics and Probability\n",
        "#### Due: Saturday, 6 February 2021, 11:59 pm."
      ]
    },
    {
      "cell_type": "markdown",
      "metadata": {
        "id": "DtKVaH2Gexxo"
      },
      "source": [
        "## Conjecture\n",
        "\n",
        "A number-theoretic conjecture of combinatorial significance is the following:\n",
        "\n",
        "$degree2({2n \\choose n}) =$ the \"bits-on count\" (or population count, or Hamming weight) of $n$.\n",
        "\n",
        "$degree2(m)$ is defined as the number (degree, exponent) of 2's in the prime factorization of $m$.\n",
        "\n",
        "In other words, for any $m$, a positive integer, $m = 2^e \\cdot o$ where $o$ is an odd positive integer (could be 1) and $e$ is a natural number, including zero --- which would be the case when $m$ is odd. It's the $e$ that is the $degree2$ of $m$.\n",
        "\n",
        "**Another way to state this conjecture is that the number of 1's in the binary expansion of ${2n \\choose n}$ for positive integer $n$ is equal to the number of 2's in the prime factorization of $n$.**\n",
        "\n",
        "Your task is to write Python code to test this conjecture for as many positive integers as you can. See the self-assessment for more details.\n",
        "\n",
        "Note: a `bitsoncount` function can be a one-liner in Python: `return bin(x).count('1')`\n",
        "\n"
      ]
    },
    {
      "cell_type": "code",
      "metadata": {
        "id": "IC6bt_wsjT_j"
      },
      "source": [
        "from math import gcd\n",
        "\n",
        "def nCk(n, k):\n",
        "  if k < 0 or k > n:\n",
        "    return 0\n",
        "  else:\n",
        "    result = 1\n",
        "    d = 1\n",
        "    g = 1\n",
        "    m = min(k, n - k)\n",
        "    while (d <= m):\n",
        "      g = gcd(result, d)\n",
        "      result = n * (result // g)\n",
        "      result = (result // (d // g))\n",
        "      n -= 1\n",
        "      d += 1\n",
        "    return result"
      ],
      "execution_count": 6,
      "outputs": []
    },
    {
      "cell_type": "code",
      "metadata": {
        "id": "lfShuPOvfFQQ",
        "colab": {
          "base_uri": "https://localhost:8080/"
        },
        "outputId": "fa23ee18-b56e-4bbe-dd4b-9dea76871a5b"
      },
      "source": [
        "from math import floor, log2, log\n",
        "\n",
        "def bitsoncount(x):\n",
        "  return bin(x).count('1')\n",
        "\n",
        "def prime_fact2(m):\n",
        "  count = 0\n",
        "  while m % 2 == 0 and m != 0: \n",
        "        count += 1\n",
        "        m = m // 2\n",
        "  return count\n",
        "\n",
        "def two_nCn(n):\n",
        "  return nCk(2 * n, n)\n",
        "\n",
        "print(two_nCn(26))\n",
        "n = two_nCn(26)\n",
        "print(bitsoncount(26))\n",
        "print(prime_fact2(n))"
      ],
      "execution_count": 7,
      "outputs": [
        {
          "output_type": "stream",
          "text": [
            "495918532948104\n",
            "3\n",
            "3\n"
          ],
          "name": "stdout"
        }
      ]
    },
    {
      "cell_type": "code",
      "metadata": {
        "id": "6ZCosu7QzIJq"
      },
      "source": [
        "def verify_conjecture(n):\n",
        "  exception = 0\n",
        "  if (prime_fact2(two_nCn(n))) != bitscount(n):\n",
        "    exception = 1\n",
        "  return exception"
      ],
      "execution_count": 8,
      "outputs": []
    },
    {
      "cell_type": "code",
      "metadata": {
        "id": "MDK79ZpI6Zxr",
        "outputId": "9be9b667-2298-4244-950c-bfd2ec9cbd58",
        "colab": {
          "base_uri": "https://localhost:8080/"
        }
      },
      "source": [
        "import datetime\n",
        "print(\"Started at \" + str(datetime.datetime.now()))\n",
        "n = 1\n",
        "exceptions = 0\n",
        "try:\n",
        "  while True:\n",
        "    exceptions += verify_conjecture(n)\n",
        "    n += 1\n",
        "except:\n",
        "  print('Verified up to ' + str(n) + ' at ' + str(datetime.datetime.now()) + ' with ' + str(exceptions) + \" exceptions.\")"
      ],
      "execution_count": 10,
      "outputs": [
        {
          "output_type": "stream",
          "text": [
            "Started at 2021-02-05 22:10:14.361601\n",
            "Verified up to 1 at 2021-02-05 22:10:14.362175 with 0 exceptions.\n"
          ],
          "name": "stdout"
        }
      ]
    },
    {
      "cell_type": "markdown",
      "metadata": {
        "id": "N22VOtYv0Up1"
      },
      "source": [
        "Matthew Reed, Brayden Whitlock, Davis Kerr, Paul Semadeni"
      ]
    },
    {
      "cell_type": "markdown",
      "metadata": {
        "id": "tFviabrLexxo"
      },
      "source": [
        "## Basic Probability Theory Question\n",
        "A dark room contains two barrels. The first barrel is filled with green marbles, the second is filled with a half-and-half mixture of green and blue marbles. So there's a 100% chance of choosing a green marble from the first barrel, and a 50% chance of choosing either color in the second barrel. You reach into one of the barrels (it's dark so you don't know which one) and select a marble at random. It's green. You select another. It's green too. You select a third, a fourth, a fifth, etc. Green each time. What is the *minimum* number of marbles you need to select to *exceed* a probability of 99% that you are picking them out of the all-green barrel? (Note that there are enough marbles so that the answer does not depend on how many marbles are in the second barrel.)\n"
      ]
    },
    {
      "cell_type": "markdown",
      "metadata": {
        "id": "iPIeBzhyqK2c"
      },
      "source": [
        "- [ ] I got the right answer for the first probability theory question."
      ]
    },
    {
      "cell_type": "markdown",
      "metadata": {
        "id": "GCRsAPPyoxGQ"
      },
      "source": [
        "The minimum number of marbles you need to select to exceed a probability of 99% that you are picking them out of the all-green barrel is 7.\n",
        "\n",
        "We calculated this by dividing 1 by 2 until we got a decimal less than 0.01. The result was: (1/2)/2/2/2/2/2/2. The result of doing this equals 0.0078125. 1.00 - 0.0078125 = 0.9921875. "
      ]
    },
    {
      "cell_type": "markdown",
      "metadata": {
        "id": "lVZNV8G00XU6"
      },
      "source": [
        "Matthew Reed, Brayden Whitlock, Davis Kerr, Paul Semadeni"
      ]
    },
    {
      "cell_type": "markdown",
      "metadata": {
        "id": "jPZhkezxexxp"
      },
      "source": [
        "## A Related But Deeper Basic Probability Theory Question\n",
        "Take a deep breath. Suppose Shakespeare's account is accurate and Julius Caesar gasped \"You too, Brutus\" before breathing his last. What is the probability that you just inhaled a molecule that Julius Caesar exhaled in his dying breath?\n",
        "\n",
        "Assume that after more than two thousand years the exhaled molecules are uniformly spread about the world and the vast majority are still free in the atmosphere. Assume further that there are $10^{44}$ molecules of air in the world, and that your inhaled quantity and Caesar's exhaled quantity were each about $2.2 \\times 10^{22}$ molecules.\n",
        "### Hint\n",
        "If a number $x$ is small, then $(1 - x)$ is approximately equal to $e^{-x}$.\n"
      ]
    },
    {
      "cell_type": "markdown",
      "metadata": {
        "id": "pVgdIuF5qS_F"
      },
      "source": [
        "- [ ] I got the right answer for the second probability theory question."
      ]
    },
    {
      "cell_type": "markdown",
      "metadata": {
        "id": "Ca46LwN8rG0Q"
      },
      "source": [
        "The probability that \n",
        "\n",
        "P(Breathing-Same) = 1 - P(Not-Breathing-Same)\n",
        "\n",
        "P(Not-Breathing-Same) = P(Not-Breathing-One-Molecule) ^ n, where n is the number of molecules breathed in\n",
        "\n",
        "P(Not-Breathing-One-Molecule) = 1 - P(Breathing-One-Molecule)\n",
        "\n",
        "P(Breathing-One-Molecule) = n / w, where n is the number of molecules exhaled and w is the molecules of air in the world\n",
        "\n",
        "Thus, \n",
        "$$\n",
        "P(Breathing-Same) = 1 - ((1 - n / w)^n)\\\\\n",
        "= 1 - ((1 - (2.2 \\times 10^{22} / 10^{44})) ^ {2.2 \\times 10^{22}})\\\\\n",
        "\\approx e^{-((1 - (2.2 \\times 10^{22} / 10^{44})) ^ {2.2 \\times 10^{22}})}\\\\\n",
        "\\approx e^{-((e^{-(2.2 \\times 10^{22} / 10^{44})}) ^ {2.2 \\times 10^{22}})}\\\\\n",
        "\\approx e^{-(e^{-(2.2 \\times 10^{22} * 2.2 \\times 10^{22} / 10^{44})})}\\\\\n",
        "\\approx e^{-(e^{-4.84})}\n",
        "$$\n",
        "\n",
        "Matthew Reed, Brayden Whitlock, Davis Kerr, Paul Semadeni"
      ]
    },
    {
      "cell_type": "code",
      "metadata": {
        "id": "P60fdLN9yi2o",
        "colab": {
          "base_uri": "https://localhost:8080/"
        },
        "outputId": "627c63f7-1e96-4727-dcad-d68c0a2d781d"
      },
      "source": [
        "from math import e\n",
        "\n",
        "e**(-(e**(-4.84)))"
      ],
      "execution_count": null,
      "outputs": [
        {
          "output_type": "execute_result",
          "data": {
            "text/plain": [
              "0.9921241244694242"
            ]
          },
          "metadata": {
            "tags": []
          },
          "execution_count": 2
        }
      ]
    },
    {
      "cell_type": "markdown",
      "metadata": {
        "id": "v4UPBjkqexxp"
      },
      "source": [
        "## What is True?\n",
        "Assess yourself on how you did using the checkboxes below. Check a box by putting an 'X' in it only if it is warranted.\n"
      ]
    },
    {
      "cell_type": "markdown",
      "metadata": {
        "id": "JC1RoGLWexxr"
      },
      "source": [
        "### What is true of my experience in general?\n",
        "(5 points each, 15 points total)\n",
        "- [X] I had fun.\n",
        "- [X] I learned something new.\n",
        "- [X] I achieved something meaningful, or something I can build upon at a later time."
      ]
    },
    {
      "cell_type": "markdown",
      "metadata": {
        "id": "W1abv2NIexxr"
      },
      "source": [
        "### What is true of my report on what I learned?\n",
        "(5 points each, 25 points total)\n",
        "- [X] I wrote a sufficient number of well-written sentences.\n",
        "- [X] My report is free of \"mechanical infelicities\" (misspelled words, grammatical errors, punctuation errors, etc.).\n",
        "- [X] I reported on any connections I found between this investigation and something I already know.\n",
        "- [X] I reported who were and what contribution each of my collaborators made.\n",
        "- [ ] I reported on how many numbers I was able to verify with a time/computation budget of 24 hours (in a row).\n"
      ]
    },
    {
      "cell_type": "markdown",
      "metadata": {
        "id": "Jq0MbxTKexxr"
      },
      "source": [
        "### What is true about my answers?\n",
        "(15 points each, 60 points total)\n",
        "- [ ] I figured out how to run a Python program continuously for at least 24 hours.\n",
        "- [X] I refrained from printing out anything except the highest number I verified, knowing that printing just slows a program down.\n",
        "- [X] I got the right answer for the first probability theory question.\n",
        "- [X] I got the right answer for the second probability theory question.\n"
      ]
    },
    {
      "cell_type": "code",
      "metadata": {
        "id": "y-TfseSDexxr"
      },
      "source": [
        ""
      ],
      "execution_count": null,
      "outputs": []
    }
  ]
}